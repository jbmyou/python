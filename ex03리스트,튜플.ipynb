{
 "cells": [
  {
   "cell_type": "markdown",
   "id": "ada8674c",
   "metadata": {},
   "source": [
    "# 1)리스트"
   ]
  },
  {
   "cell_type": "markdown",
   "id": "806288da",
   "metadata": {},
   "source": [
    "- 여러 타입의 요소를 가질 수 있다.\n",
    "- 순서가 있는 요소의 집합\n",
    "- 가변적(튜플은 불변)\n",
    "- [값...] (튜플은 (값...)) 빈리스트 list1 = []\n",
    "- 요소가 몇 개인지 명확하지 않을 때도 사용(튜플은 명확할 때만)\n",
    "- 리스트,튜플,딕셔너리 모두 쉼표로 인자가 구분됨을 명심하라!!!"
   ]
  },
  {
   "cell_type": "code",
   "execution_count": 8,
   "id": "386d2e13",
   "metadata": {},
   "outputs": [
    {
     "data": {
      "text/plain": [
       "[1, 4, 5]"
      ]
     },
     "execution_count": 8,
     "metadata": {},
     "output_type": "execute_result"
    }
   ],
   "source": [
    "list1 = [1,2,3,4,5]\n",
    "list1[0:3]=[1]\n",
    "list1"
   ]
  },
  {
   "cell_type": "code",
   "execution_count": 62,
   "id": "11752da5",
   "metadata": {},
   "outputs": [
    {
     "name": "stdout",
     "output_type": "stream",
     "text": [
      "[1, 2, 3, 4, 5]\n"
     ]
    }
   ],
   "source": [
    "print(list1)"
   ]
  },
  {
   "cell_type": "code",
   "execution_count": 63,
   "id": "c1d0276b",
   "metadata": {},
   "outputs": [
    {
     "data": {
      "text/plain": [
       "[4, '운비', [1, 2, 3]]"
      ]
     },
     "execution_count": 63,
     "metadata": {},
     "output_type": "execute_result"
    }
   ],
   "source": [
    "list2 = [4,'운비', [1,2,3]]\n",
    "list2"
   ]
  },
  {
   "cell_type": "markdown",
   "id": "147f0c86",
   "metadata": {},
   "source": [
    "### 리스트 인덱싱과 슬라이싱(연속된 인덱싱)"
   ]
  },
  {
   "cell_type": "markdown",
   "id": "8c7392e0",
   "metadata": {},
   "source": [
    "- 인덱스는 요소마다 순차적으로 부여되고, 요소는 ','로 구분된다.\n",
    "- 차원과 무관하다. \n",
    "- 슬리이싱은 연속된 인덱싱에 불과. 사용기호 :  0과 len은 생략가능\n",
    "- 인덱스번호 또는 슬라이싱 기호(:)는 반드시 있어야 함\n",
    "- ndarray와 차이점\n",
    "    - 쉼표 지원 x -> [행index, 열index] 조합 검색을 제공하지 않음"
   ]
  },
  {
   "cell_type": "code",
   "execution_count": 25,
   "id": "f219f862",
   "metadata": {},
   "outputs": [
    {
     "data": {
      "text/plain": [
       "['국수', '감자탕', '라면', '연어', ['참', '치', '김', '밥']]"
      ]
     },
     "execution_count": 25,
     "metadata": {},
     "output_type": "execute_result"
    }
   ],
   "source": [
    "food_list = ['국수','감자탕','라면','연어',['참','치','김','밥']]\n",
    "food_list"
   ]
  },
  {
   "cell_type": "code",
   "execution_count": 65,
   "id": "4cf3cdfd",
   "metadata": {},
   "outputs": [
    {
     "name": "stdout",
     "output_type": "stream",
     "text": [
      "['참', '치', '김', '밥']\n",
      "['참', '치', '김', '밥']\n",
      "라면\n"
     ]
    }
   ],
   "source": [
    "print(food_list[4])\n",
    "print(food_list[-1])\n",
    "print(food_list[-3])"
   ]
  },
  {
   "cell_type": "code",
   "execution_count": 101,
   "id": "209cdff0",
   "metadata": {
    "scrolled": true
   },
   "outputs": [
    {
     "name": "stdout",
     "output_type": "stream",
     "text": [
      "['참', '치']\n",
      "치\n",
      "김\n",
      "밥\n",
      "['참', '치', '김', '밥']\n"
     ]
    }
   ],
   "source": [
    "print(food_list[4][0:2])\n",
    "print(food_list[4][1])\n",
    "print(food_list[4][-2])\n",
    "print(food_list[4][-1])\n",
    "print(food_list[4])"
   ]
  },
  {
   "cell_type": "code",
   "execution_count": 67,
   "id": "2ffc040b",
   "metadata": {
    "scrolled": true
   },
   "outputs": [
    {
     "name": "stdout",
     "output_type": "stream",
     "text": [
      "[4, 5, 6]\n",
      "[0, 1, 2, 3, 4, 5, 6]\n",
      "[6, 7, 8, 9, 10]\n"
     ]
    }
   ],
   "source": [
    "list3 = [0,1,2,3,4,5,6,7,8,9,10]\n",
    "print(list3[4:-4])\n",
    "print(list3[:7])\n",
    "print(list3[6:])"
   ]
  },
  {
   "cell_type": "code",
   "execution_count": 111,
   "id": "513bca3f",
   "metadata": {
    "scrolled": true
   },
   "outputs": [
    {
     "data": {
      "text/plain": [
       "[5, 6]"
      ]
     },
     "execution_count": 111,
     "metadata": {},
     "output_type": "execute_result"
    }
   ],
   "source": [
    "lista = [[1,2,3],[4,5,6],[7,8,9]]\n",
    "lista[0:2][1][1:3]  #0행,1행->1행->1열2열"
   ]
  },
  {
   "cell_type": "markdown",
   "id": "d74976ca",
   "metadata": {},
   "source": [
    "### 리스트 함수"
   ]
  },
  {
   "cell_type": "markdown",
   "id": "fb76013d",
   "metadata": {},
   "source": [
    "0. 값 수정\n",
    "    1. 특정 위치 값 수정 : list[인덱스] = 값 *삽입이 아니라 수정임에 유의\n",
    "    2. 여러 위치 값 수정 : list[인덱스슬라이싱] = [값,...]/'a' *슬라이싱했으므로 값은 iterable만 __ndarray는 그냥 숫자 써도 됨__\n",
    "1. 값삽입(append, insert, update)\n",
    "    1. 리스트 끝에 값 추가 : .append(값)\n",
    "    2. 원하는 위치에 값 삽입 : .insert(인덱스, 값)  \n",
    "  ~~3. 리스트에 없는 값만 골라 리스트 끝에 삽입 : .update(값...) *기존에 없었던 값들만 추가된다~~->set에 있는 기능\n",
    "2. 삭제(remove, del)\n",
    "    1. 값 기준 삭제 : .remove(값) *값이 여러개 있다면 가장 앞에 있는 값을 삭제\n",
    "    2. 인덱스 기준 삭제 : del list[인덱스/인덱스슬라이싱]  *[]필수. del은키워드인가봐.. .도없고 ()도 없는채로 띄어쓰기를 하네\n",
    "       - __슬라이싱 후 인덱싱은 del이 안 먹음.__\n",
    "3. 정렬(sort, reverse)\n",
    "    1. 오름순차 : .sort() * 기본값\n",
    "    2. 내림순차 : .reverse() ~~*오름순차 정렬 먼저 사용한 뒤에 해야 함~~\n",
    "4. 기타\n",
    "    1. .index(값) : 해당 값의 index를 알려줌\n",
    "    2. .pop() : 마지막 값을 보여 준 후 리스트에서 삭제\n",
    "    3. len(리스트) : 리스트의 길이\n",
    "    4. list(iderable)\n",
    "        1. 반복가능한 자료형을 입력받아 리스트로 만들어 돌려주는 함수. 즉 문자열,튜플,딕셔너리를 리스트로\n",
    "        2. 리스트 등을 넣어주면 리스트 자체를 돌려줌 a=[1,2,3] list(a)->[1,2,3]\n",
    "        3. 단 딕셔너리를 넣어주면 key값을 리스트로 돌려줌  list((1:3,2:4))->[1,2]"
   ]
  },
  {
   "cell_type": "code",
   "execution_count": 10,
   "id": "1d11a37a",
   "metadata": {
    "scrolled": true
   },
   "outputs": [
    {
     "data": {
      "text/plain": [
       "[4, 3, 'a']"
      ]
     },
     "execution_count": 10,
     "metadata": {},
     "output_type": "execute_result"
    }
   ],
   "source": [
    "list5 = [0,1,2,3,4]\n",
    "list5[0:3]='a'\n",
    "list5.reverse()\n",
    "list5"
   ]
  },
  {
   "cell_type": "code",
   "execution_count": 5,
   "id": "1aec2ab3",
   "metadata": {},
   "outputs": [],
   "source": [
    "#불가능한 표현 list5[5] = 5  -list5에는 5번 인덱스가 없으므로, 추가를 해야지 수정은 불가"
   ]
  },
  {
   "cell_type": "code",
   "execution_count": 6,
   "id": "4b55d7dd",
   "metadata": {},
   "outputs": [
    {
     "data": {
      "text/plain": [
       "[0, 1, 2, 3, 4, 5]"
      ]
     },
     "execution_count": 6,
     "metadata": {},
     "output_type": "execute_result"
    }
   ],
   "source": [
    "list5.append(5)\n",
    "list5"
   ]
  },
  {
   "cell_type": "code",
   "execution_count": 7,
   "id": "93d8fab6",
   "metadata": {},
   "outputs": [
    {
     "data": {
      "text/plain": [
       "[0, 44, 1, 2, 3, 4, 5]"
      ]
     },
     "execution_count": 7,
     "metadata": {},
     "output_type": "execute_result"
    }
   ],
   "source": [
    "list5.insert(1,44)\n",
    "list5"
   ]
  },
  {
   "cell_type": "code",
   "execution_count": 8,
   "id": "54bd99e6",
   "metadata": {
    "scrolled": true
   },
   "outputs": [
    {
     "data": {
      "text/plain": [
       "[11, 44, 1, 2, 3, 4, 5]"
      ]
     },
     "execution_count": 8,
     "metadata": {},
     "output_type": "execute_result"
    }
   ],
   "source": [
    "list5[0] = 11\n",
    "list5"
   ]
  },
  {
   "cell_type": "code",
   "execution_count": 9,
   "id": "264a2dd3",
   "metadata": {},
   "outputs": [
    {
     "data": {
      "text/plain": [
       "[0, 0, 0, 0, 0, 0, 2, 3, 4, 5]"
      ]
     },
     "execution_count": 9,
     "metadata": {},
     "output_type": "execute_result"
    }
   ],
   "source": [
    "list5[:3]=[0,0,0,0,0,0]\n",
    "list5"
   ]
  },
  {
   "cell_type": "code",
   "execution_count": 13,
   "id": "dd96bb55",
   "metadata": {
    "scrolled": true
   },
   "outputs": [
    {
     "data": {
      "text/plain": [
       "[0, 0, 0, 2, 3, 4, 5]"
      ]
     },
     "execution_count": 13,
     "metadata": {},
     "output_type": "execute_result"
    }
   ],
   "source": [
    "list5.remove(0)\n",
    "list5"
   ]
  },
  {
   "cell_type": "code",
   "execution_count": 38,
   "id": "a212eb10",
   "metadata": {
    "scrolled": false
   },
   "outputs": [
    {
     "data": {
      "text/plain": [
       "[1, [4, 5, 6], [7, 8]]"
      ]
     },
     "execution_count": 38,
     "metadata": {},
     "output_type": "execute_result"
    }
   ],
   "source": [
    "listb=[1,[4,5,6],[7,8]]\n",
    "listb"
   ]
  },
  {
   "cell_type": "code",
   "execution_count": 41,
   "id": "c48b56f5",
   "metadata": {},
   "outputs": [],
   "source": [
    "#됨 del listb[1]\n",
    "#됨 del listb[1][2]\n",
    "#됨 del listb[0][0:2]\n",
    "#됨 del listb[1:3]\n",
    "#됨 del listb[:]\n",
    "\n",
    "#(인덱싱은 됨) del은 안됨 \n",
    "#del listb[0:3][1][0:2][0]\n",
    "#del listb[0:2][0] \n",
    "#됨 del listb[0:2][0][0:2]\n",
    "\n",
    "del listb[0:3][1]\n",
    "\n",
    "#슬라이싱 후 인덱싱은 del이 안 먹음.\n",
    "\n"
   ]
  },
  {
   "cell_type": "code",
   "execution_count": 74,
   "id": "5c578a90",
   "metadata": {},
   "outputs": [
    {
     "data": {
      "text/plain": [
       "1"
      ]
     },
     "execution_count": 74,
     "metadata": {},
     "output_type": "execute_result"
    }
   ],
   "source": [
    "list8 = ['운비', '현진', '명훈', '승환']\n",
    "list8.index('현진')"
   ]
  },
  {
   "cell_type": "code",
   "execution_count": 75,
   "id": "9f2fbc7d",
   "metadata": {},
   "outputs": [
    {
     "data": {
      "text/plain": [
       "'승환'"
      ]
     },
     "execution_count": 75,
     "metadata": {},
     "output_type": "execute_result"
    }
   ],
   "source": [
    "list8.pop()"
   ]
  },
  {
   "cell_type": "code",
   "execution_count": 76,
   "id": "952cdce8",
   "metadata": {},
   "outputs": [
    {
     "data": {
      "text/plain": [
       "['운비', '현진', '명훈']"
      ]
     },
     "execution_count": 76,
     "metadata": {},
     "output_type": "execute_result"
    }
   ],
   "source": [
    "list8"
   ]
  },
  {
   "cell_type": "code",
   "execution_count": 77,
   "id": "c7723e26",
   "metadata": {},
   "outputs": [
    {
     "data": {
      "text/plain": [
       "3"
      ]
     },
     "execution_count": 77,
     "metadata": {},
     "output_type": "execute_result"
    }
   ],
   "source": [
    "len(list8)"
   ]
  },
  {
   "cell_type": "markdown",
   "id": "3fe1b5e8",
   "metadata": {},
   "source": [
    "# 2)튜플"
   ]
  },
  {
   "cell_type": "markdown",
   "id": "b7a3445c",
   "metadata": {},
   "source": [
    "- 파이썬 자료구조\n",
    "- 순서가 있는 집합\n",
    "- 소괄호로 만들 수 있다.\n",
    "- 추가, 수정, 삭제 불가능. - final 이군.. \n",
    "- 튜플과 리스트\n",
    "    - 튜플안에 리스트 있어도 되고, 리스트 안에 튜플 있어도 됨.\n",
    "    - 단 튜플안에 리스트는 튜플값이니 수정할 수 없고,\n",
    "    - 리스트 안에 튜플 역시 튜플이니 수정할 수 없다. (리스트를 바꿈으로써 튜플의 인덱스가 바뀌는 건 가능)"
   ]
  },
  {
   "cell_type": "code",
   "execution_count": 2,
   "id": "e88d718b",
   "metadata": {},
   "outputs": [
    {
     "data": {
      "text/plain": [
       "(1, 2, 3, 4, (1, 2, 3), [4, 5, 6])"
      ]
     },
     "execution_count": 2,
     "metadata": {},
     "output_type": "execute_result"
    }
   ],
   "source": [
    "tuple1 = (1,2,3,4,(1,2,3),[4,5,6])\n",
    "tuple1"
   ]
  },
  {
   "cell_type": "code",
   "execution_count": 80,
   "id": "8c29c510",
   "metadata": {},
   "outputs": [
    {
     "ename": "TypeError",
     "evalue": "'tuple' object does not support item assignment",
     "output_type": "error",
     "traceback": [
      "\u001b[1;31m---------------------------------------------------------------------------\u001b[0m",
      "\u001b[1;31mTypeError\u001b[0m                                 Traceback (most recent call last)",
      "\u001b[1;32m<ipython-input-80-ecda1e2e1769>\u001b[0m in \u001b[0;36m<module>\u001b[1;34m\u001b[0m\n\u001b[1;32m----> 1\u001b[1;33m \u001b[0mtuple1\u001b[0m\u001b[1;33m[\u001b[0m\u001b[1;36m0\u001b[0m\u001b[1;33m]\u001b[0m \u001b[1;33m=\u001b[0m \u001b[1;36m5\u001b[0m   \u001b[1;31m# 튜플은 변경 불가!!\u001b[0m\u001b[1;33m\u001b[0m\u001b[1;33m\u001b[0m\u001b[0m\n\u001b[0m",
      "\u001b[1;31mTypeError\u001b[0m: 'tuple' object does not support item assignment"
     ]
    }
   ],
   "source": [
    "tuple1[0] = 5   # 튜플은 변경 불가!!"
   ]
  },
  {
   "cell_type": "code",
   "execution_count": 3,
   "id": "0eb7669b",
   "metadata": {
    "scrolled": true
   },
   "outputs": [
    {
     "data": {
      "text/plain": [
       "6"
      ]
     },
     "execution_count": 3,
     "metadata": {},
     "output_type": "execute_result"
    }
   ],
   "source": [
    "len(tuple1)"
   ]
  },
  {
   "cell_type": "code",
   "execution_count": null,
   "id": "10339932",
   "metadata": {},
   "outputs": [],
   "source": []
  }
 ],
 "metadata": {
  "kernelspec": {
   "display_name": "Python 3.9.12 ('base')",
   "language": "python",
   "name": "python3"
  },
  "language_info": {
   "codemirror_mode": {
    "name": "ipython",
    "version": 3
   },
   "file_extension": ".py",
   "mimetype": "text/x-python",
   "name": "python",
   "nbconvert_exporter": "python",
   "pygments_lexer": "ipython3",
   "version": "3.9.12"
  },
  "vscode": {
   "interpreter": {
    "hash": "bde8bb0732dc4e1332dd7de11e8fd6f025a3253132c4935c7925a70cc079a91c"
   }
  }
 },
 "nbformat": 4,
 "nbformat_minor": 5
}
