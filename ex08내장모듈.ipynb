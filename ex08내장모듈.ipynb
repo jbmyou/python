{
 "cells": [
  {
   "cell_type": "markdown",
   "id": "84d02631",
   "metadata": {},
   "source": [
    "### 정규식 기초"
   ]
  },
  {
   "cell_type": "code",
   "execution_count": 31,
   "id": "c4bf14f4",
   "metadata": {},
   "outputs": [],
   "source": [
    "import re"
   ]
  },
  {
   "cell_type": "code",
   "execution_count": 32,
   "id": "3c4b2107",
   "metadata": {},
   "outputs": [],
   "source": [
    "#컴파일 객체 반환. 이 객체를 여러 Match 메서드와 함께 반복적으로 사용할 수 있다. 반복할 수록 Match함수만 썼을 때보다 성능이 좋다.\n",
    "p1 = re.compile('[0-9]{8}')\n",
    "p2 = re.compile('[0-9]{9}')"
   ]
  },
  {
   "cell_type": "code",
   "execution_count": 33,
   "id": "da0060d8",
   "metadata": {},
   "outputs": [
    {
     "name": "stdout",
     "output_type": "stream",
     "text": [
      "yes\n",
      "no\n",
      "yes\n",
      "yes\n",
      "yes\n"
     ]
    }
   ],
   "source": [
    "# Match함수(match, search)는 Match객체를 반환하는데, 표현식과 일치하는 부분의 시작인덱스와, 끝인덱스, 해당문자열을 가지고있다.\n",
    "a = ['12345678', '123456789_', '12345678_', '12345678_김명운', '집행문_87654321_사건번호']\n",
    "for i in a :\n",
    "    if (p1.search(i) != None) & (p2.search(i) == None) :\n",
    "        print('yes')\n",
    "    else : \n",
    "        print('no')"
   ]
  },
  {
   "cell_type": "code",
   "execution_count": 34,
   "id": "da0060d8",
   "metadata": {},
   "outputs": [
    {
     "name": "stdout",
     "output_type": "stream",
     "text": [
      "yes\n",
      "12345678\n",
      "no\n",
      "yes\n",
      "12345678\n",
      "yes\n",
      "12345678\n",
      "no\n"
     ]
    }
   ],
   "source": [
    "# match는 문자열의 시작이 표현식과 일치해야 한다.\n",
    "a = ['12345678', '123456789_', '12345678_', '12345678_김명운', '집행문_87654321_사건번호']\n",
    "for i in a :\n",
    "    m1 = p1.match(i)\n",
    "    m2 = p2.match(i)\n",
    "    if (m1 != None) & (m2== None) :\n",
    "        print('yes')\n",
    "        print(m1.group())\n",
    "    else : \n",
    "        print('no')"
   ]
  },
  {
   "cell_type": "code",
   "execution_count": 35,
   "id": "8f151025",
   "metadata": {},
   "outputs": [
    {
     "name": "stdout",
     "output_type": "stream",
     "text": [
      "None\n"
     ]
    }
   ],
   "source": [
    "p = p1.match('1234')\n",
    "print(p)\n",
    "\n",
    "if p != None : \n",
    "    print(p.group())\n",
    "    print(p.start())\n",
    "    print(p.end())\n",
    "    print(p.span())"
   ]
  },
  {
   "cell_type": "code",
   "execution_count": 36,
   "id": "fc92507c",
   "metadata": {},
   "outputs": [
    {
     "name": "stdout",
     "output_type": "stream",
     "text": [
      "<re.Match object; span=(0, 1), match='1'>\n",
      "1\n",
      "0\n",
      "1\n",
      "(0, 1)\n"
     ]
    }
   ],
   "source": [
    "m = re.search('^\\d', '1234')\n",
    "print(m)\n",
    "if m != None : \n",
    "    print(m.group())\n",
    "    print(m.start())\n",
    "    print(m.end())\n",
    "    print(m.span())"
   ]
  },
  {
   "cell_type": "code",
   "execution_count": 37,
   "id": "1b80a2a7",
   "metadata": {},
   "outputs": [
    {
     "ename": "FileNotFoundError",
     "evalue": "[WinError 2] 지정된 파일을 찾을 수 없습니다: 'C:\\\\Users\\\\jbmyo\\\\Desktop\\\\test'",
     "output_type": "error",
     "traceback": [
      "\u001b[1;31m---------------------------------------------------------------------------\u001b[0m",
      "\u001b[1;31mFileNotFoundError\u001b[0m                         Traceback (most recent call last)",
      "\u001b[1;32me:\\학원\\PythonStudy\\practice.ipynb Cell 7'\u001b[0m in \u001b[0;36m<cell line: 3>\u001b[1;34m()\u001b[0m\n\u001b[0;32m      <a href='vscode-notebook-cell:/e%3A/%ED%95%99%EC%9B%90/PythonStudy/practice.ipynb#ch0000006?line=0'>1</a>\u001b[0m \u001b[39mimport\u001b[39;00m \u001b[39mos\u001b[39;00m\n\u001b[0;32m      <a href='vscode-notebook-cell:/e%3A/%ED%95%99%EC%9B%90/PythonStudy/practice.ipynb#ch0000006?line=1'>2</a>\u001b[0m path \u001b[39m=\u001b[39m \u001b[39mr\u001b[39m\u001b[39m'\u001b[39m\u001b[39mC:\u001b[39m\u001b[39m\\\u001b[39m\u001b[39mUsers\u001b[39m\u001b[39m\\\u001b[39m\u001b[39mjbmyo\u001b[39m\u001b[39m\\\u001b[39m\u001b[39mDesktop\u001b[39m\u001b[39m\\\u001b[39m\u001b[39mtest\u001b[39m\u001b[39m'\u001b[39m\n\u001b[1;32m----> <a href='vscode-notebook-cell:/e%3A/%ED%95%99%EC%9B%90/PythonStudy/practice.ipynb#ch0000006?line=2'>3</a>\u001b[0m os\u001b[39m.\u001b[39;49mchdir(path)\n\u001b[0;32m      <a href='vscode-notebook-cell:/e%3A/%ED%95%99%EC%9B%90/PythonStudy/practice.ipynb#ch0000006?line=3'>4</a>\u001b[0m os\u001b[39m.\u001b[39mgetcwd()\n",
      "\u001b[1;31mFileNotFoundError\u001b[0m: [WinError 2] 지정된 파일을 찾을 수 없습니다: 'C:\\\\Users\\\\jbmyo\\\\Desktop\\\\test'"
     ]
    }
   ],
   "source": [
    "import os\n",
    "path = r'C:\\Users\\jbmyo\\Desktop\\test'\n",
    "os.chdir(path)\n",
    "os.getcwd()"
   ]
  },
  {
   "cell_type": "markdown",
   "id": "a36f24e2",
   "metadata": {},
   "source": [
    "### lambda\n",
    "- 익명함수 -> 함수내부에서 변수생성없고, return도 생략할 수 있는 한 번 사용할 함수에 대해 메모리 절약과 코드의 간결성을 위해\n",
    "- 물론 변수에 담으면 계속 쓸 수 있다.\n",
    "- type은 function이다. "
   ]
  },
  {
   "cell_type": "code",
   "execution_count": 9,
   "id": "f9dcc411",
   "metadata": {},
   "outputs": [
    {
     "data": {
      "text/plain": [
       "[3]"
      ]
     },
     "execution_count": 9,
     "metadata": {},
     "output_type": "execute_result"
    }
   ],
   "source": [
    "a = int(input()) \n",
    "b = int(input())\n",
    "\n",
    "#filter는 함수를 매개변수로 받는다. lambda는 함수다.\n",
    "list(filter(lambda x: x>0, [a, b]))\n",
    "\n",
    "    \n"
   ]
  },
  {
   "cell_type": "code",
   "execution_count": 13,
   "id": "347bef33",
   "metadata": {},
   "outputs": [
    {
     "data": {
      "text/plain": [
       "[-1, 2, 3]"
      ]
     },
     "execution_count": 13,
     "metadata": {},
     "output_type": "execute_result"
    }
   ],
   "source": [
    "list(filter(None, [-1,2,3]))"
   ]
  },
  {
   "cell_type": "code",
   "execution_count": 5,
   "id": "8057548c",
   "metadata": {},
   "outputs": [
    {
     "name": "stdout",
     "output_type": "stream",
     "text": [
      "[-1, 2, 3]\n"
     ]
    }
   ],
   "source": [
    "print(list(filter(lambda x : x, [-1,2,3])))"
   ]
  },
  {
   "cell_type": "code",
   "execution_count": 20,
   "id": "3b3ec7d9",
   "metadata": {},
   "outputs": [
    {
     "data": {
      "text/plain": [
       "[-0.1, 0.2, 0.3]"
      ]
     },
     "execution_count": 20,
     "metadata": {},
     "output_type": "execute_result"
    }
   ],
   "source": [
    "list(map(lambda x : x/10, [-1,2,3]))\n",
    "                   #_____ 여기가 로직임에 유의"
   ]
  },
  {
   "cell_type": "markdown",
   "id": "f7f99110",
   "metadata": {},
   "source": [
    "### 파일 읽기/쓰기, sys, os, pickle"
   ]
  },
  {
   "cell_type": "code",
   "execution_count": 140,
   "id": "b1ead2e5",
   "metadata": {},
   "outputs": [],
   "source": [
    "f = open(\"append.txt\", 'w')"
   ]
  },
  {
   "cell_type": "code",
   "execution_count": 141,
   "id": "3942f4ee",
   "metadata": {},
   "outputs": [],
   "source": [
    "f.write(\"{1:'python', 2:'you need'}\")\n",
    "#f.writelines(\"반갑습니다.\") #먼차이고?\n",
    "f.close()"
   ]
  },
  {
   "cell_type": "code",
   "execution_count": 145,
   "id": "65db75e9",
   "metadata": {},
   "outputs": [],
   "source": [
    "r = open(\"append.txt\", 'r')"
   ]
  },
  {
   "cell_type": "code",
   "execution_count": 146,
   "id": "7b05613e",
   "metadata": {},
   "outputs": [
    {
     "data": {
      "text/plain": [
       "\"{1:'python', 2:'you need'}\""
      ]
     },
     "execution_count": 146,
     "metadata": {},
     "output_type": "execute_result"
    }
   ],
   "source": [
    "r.read()\n"
   ]
  },
  {
   "cell_type": "code",
   "execution_count": 148,
   "id": "edbc2d5f",
   "metadata": {},
   "outputs": [],
   "source": [
    "import pickle\n",
    "data = {3:\"haha\", 4:\"hehe\"}\n",
    "f = open(\"append.txt\", 'wb')\n",
    "pickle.dump(data, f)\n",
    "f.close()\n"
   ]
  },
  {
   "cell_type": "code",
   "execution_count": 151,
   "id": "05313549",
   "metadata": {},
   "outputs": [
    {
     "name": "stdout",
     "output_type": "stream",
     "text": [
      "{3: 'haha', 4: 'hehe'}\n"
     ]
    }
   ],
   "source": [
    "r = open(\"append.txt\", 'rb')\n",
    "#r.read()\n",
    "data2 = pickle.load(r)\n",
    "print(data2)"
   ]
  },
  {
   "cell_type": "code",
   "execution_count": 114,
   "id": "1922270f",
   "metadata": {},
   "outputs": [],
   "source": [
    "r.close()"
   ]
  },
  {
   "cell_type": "code",
   "execution_count": 94,
   "id": "1a0b5103",
   "metadata": {},
   "outputs": [
    {
     "name": "stdout",
     "output_type": "stream",
     "text": [
      "ascii코드 97은 : a\n",
      "'a'의 아스키코드 값은 : 97\n"
     ]
    }
   ],
   "source": [
    "print(\"ascii코드 97은 :\", chr(97))\n",
    "print(\"'a'의 아스키코드 값은 :\", ord('a'))"
   ]
  },
  {
   "cell_type": "code",
   "execution_count": 100,
   "id": "bed6f514",
   "metadata": {},
   "outputs": [
    {
     "name": "stdout",
     "output_type": "stream",
     "text": [
      "['a', 'c', 'e']\n"
     ]
    },
    {
     "data": {
      "text/plain": [
       "['c', 'a', 'e']"
      ]
     },
     "execution_count": 100,
     "metadata": {},
     "output_type": "execute_result"
    }
   ],
   "source": [
    "a = ['c', 'a', 'e']\n",
    "print(sorted(a)) #정렬결과를 반환한다. 인자로 온 객체를 바꾸지는 않는다.\n",
    "a\n"
   ]
  },
  {
   "cell_type": "code",
   "execution_count": 101,
   "id": "3cb3bc8e",
   "metadata": {},
   "outputs": [],
   "source": [
    "a.sort()  #아무것도 리턴하지 않는다. 인자로 온 객체를 바꾼다.\n",
    "a"
   ]
  },
  {
   "cell_type": "code",
   "execution_count": 102,
   "id": "313488d0",
   "metadata": {},
   "outputs": [
    {
     "data": {
      "text/plain": [
       "['e:\\\\학원\\\\PythonStudy',\n",
       " 'c:\\\\Users\\\\jbmyo\\\\anaconda3\\\\python39.zip',\n",
       " 'c:\\\\Users\\\\jbmyo\\\\anaconda3\\\\DLLs',\n",
       " 'c:\\\\Users\\\\jbmyo\\\\anaconda3\\\\lib',\n",
       " 'c:\\\\Users\\\\jbmyo\\\\anaconda3',\n",
       " '',\n",
       " 'c:\\\\Users\\\\jbmyo\\\\anaconda3\\\\lib\\\\site-packages',\n",
       " 'c:\\\\Users\\\\jbmyo\\\\anaconda3\\\\lib\\\\site-packages\\\\win32',\n",
       " 'c:\\\\Users\\\\jbmyo\\\\anaconda3\\\\lib\\\\site-packages\\\\win32\\\\lib',\n",
       " 'c:\\\\Users\\\\jbmyo\\\\anaconda3\\\\lib\\\\site-packages\\\\Pythonwin']"
      ]
     },
     "execution_count": 102,
     "metadata": {},
     "output_type": "execute_result"
    }
   ],
   "source": [
    "import sys\n",
    "sys.path"
   ]
  },
  {
   "cell_type": "code",
   "execution_count": 152,
   "id": "e953166e",
   "metadata": {},
   "outputs": [
    {
     "data": {
      "text/plain": [
       "environ{'ALLUSERSPROFILE': 'C:\\\\ProgramData',\n",
       "        'APPDATA': 'C:\\\\Users\\\\jbmyo\\\\AppData\\\\Roaming',\n",
       "        'APPLICATION_INSIGHTS_NO_DIAGNOSTIC_CHANNEL': '1',\n",
       "        'CHROME_CRASHPAD_PIPE_NAME': '\\\\\\\\.\\\\pipe\\\\crashpad_4536_IJSLCXQLVMPBSQMZ',\n",
       "        'COMMONPROGRAMFILES': 'C:\\\\Program Files\\\\Common Files',\n",
       "        'COMMONPROGRAMFILES(X86)': 'C:\\\\Program Files (x86)\\\\Common Files',\n",
       "        'COMMONPROGRAMW6432': 'C:\\\\Program Files\\\\Common Files',\n",
       "        'COMPUTERNAME': 'JBM-HOME',\n",
       "        'COMSPEC': 'C:\\\\Windows\\\\system32\\\\cmd.exe',\n",
       "        'CONDA_DEFAULT_ENV': 'base',\n",
       "        'CONDA_EXE': 'C:\\\\Users\\\\jbmyo\\\\anaconda3\\\\condabin\\\\..\\\\Scripts\\\\conda.exe',\n",
       "        'CONDA_PREFIX': 'C:\\\\Users\\\\jbmyo\\\\anaconda3',\n",
       "        'CONDA_PROMPT_MODIFIER': '(base) ',\n",
       "        'CONDA_PYTHON_EXE': 'C:\\\\Users\\\\jbmyo\\\\anaconda3\\\\python.exe',\n",
       "        'CONDA_SHLVL': '1',\n",
       "        'DRIVERDATA': 'C:\\\\Windows\\\\System32\\\\Drivers\\\\DriverData',\n",
       "        'ELECTRON_RUN_AS_NODE': '1',\n",
       "        'HOMEDRIVE': 'C:',\n",
       "        'HOMEPATH': '\\\\Users\\\\jbmyo',\n",
       "        'JAVA_HOME': 'C:\\\\Program Files\\\\Java\\\\jdk1.8.0_333',\n",
       "        'JPY_INTERRUPT_EVENT': '1552',\n",
       "        'LOCALAPPDATA': 'C:\\\\Users\\\\jbmyo\\\\AppData\\\\Local',\n",
       "        'LOGONSERVER': '\\\\\\\\JBM-HOME',\n",
       "        'NUMBER_OF_PROCESSORS': '4',\n",
       "        'ONEDRIVE': 'C:\\\\Users\\\\jbmyo\\\\OneDrive',\n",
       "        'ONEDRIVECONSUMER': 'C:\\\\Users\\\\jbmyo\\\\OneDrive',\n",
       "        'ORIGINAL_XDG_CURRENT_DESKTOP': 'undefined',\n",
       "        'OS': 'Windows_NT',\n",
       "        'PATH': 'c:\\\\Users\\\\jbmyo\\\\anaconda3;C:\\\\Users\\\\jbmyo\\\\anaconda3;C:\\\\Users\\\\jbmyo\\\\anaconda3\\\\Library\\\\mingw-w64\\\\bin;C:\\\\Users\\\\jbmyo\\\\anaconda3\\\\Library\\\\usr\\\\bin;C:\\\\Users\\\\jbmyo\\\\anaconda3\\\\Library\\\\bin;C:\\\\Users\\\\jbmyo\\\\anaconda3\\\\Scripts;C:\\\\Users\\\\jbmyo\\\\anaconda3\\\\bin;C:\\\\Users\\\\jbmyo\\\\anaconda3\\\\condabin;C:\\\\Program Files (x86)\\\\Common Files\\\\Oracle\\\\Java\\\\javapath;C:\\\\Windows\\\\system32;C:\\\\Windows;C:\\\\Windows\\\\System32\\\\Wbem;C:\\\\Windows\\\\System32\\\\WindowsPowerShell\\\\v1.0;C:\\\\Windows\\\\System32\\\\OpenSSH;C:\\\\Program Files\\\\Bandizip;C:\\\\Program Files\\\\Java\\\\jdk1.8.0_333\\\\bin;C:\\\\Users\\\\jbmyo\\\\AppData\\\\Local\\\\Microsoft\\\\WindowsApps;.;C:\\\\Users\\\\jbmyo\\\\AppData\\\\Local\\\\Programs\\\\Microsoft VS Code\\\\bin',\n",
       "        'PATHEXT': '.COM;.EXE;.BAT;.CMD;.VBS;.VBE;.JS;.JSE;.WSF;.WSH;.MSC',\n",
       "        'PROCESSOR_ARCHITECTURE': 'AMD64',\n",
       "        'PROCESSOR_IDENTIFIER': 'Intel64 Family 6 Model 158 Stepping 9, GenuineIntel',\n",
       "        'PROCESSOR_LEVEL': '6',\n",
       "        'PROCESSOR_REVISION': '9e09',\n",
       "        'PROGRAMDATA': 'C:\\\\ProgramData',\n",
       "        'PROGRAMFILES': 'C:\\\\Program Files',\n",
       "        'PROGRAMFILES(X86)': 'C:\\\\Program Files (x86)',\n",
       "        'PROGRAMW6432': 'C:\\\\Program Files',\n",
       "        'PROMPT': '(base) $P$G',\n",
       "        'PSMODULEPATH': 'C:\\\\Program Files\\\\WindowsPowerShell\\\\Modules;C:\\\\Windows\\\\system32\\\\WindowsPowerShell\\\\v1.0\\\\Modules',\n",
       "        'PUBLIC': 'C:\\\\Users\\\\Public',\n",
       "        'PYTHONIOENCODING': 'utf-8',\n",
       "        'PYTHONUNBUFFERED': '1',\n",
       "        'SESSIONNAME': 'Console',\n",
       "        'SYSTEMDRIVE': 'C:',\n",
       "        'SYSTEMROOT': 'C:\\\\Windows',\n",
       "        'TEMP': 'C:\\\\Users\\\\jbmyo\\\\AppData\\\\Local\\\\Temp',\n",
       "        'TMP': 'C:\\\\Users\\\\jbmyo\\\\AppData\\\\Local\\\\Temp',\n",
       "        'USERDOMAIN': 'JBM-HOME',\n",
       "        'USERDOMAIN_ROAMINGPROFILE': 'JBM-HOME',\n",
       "        'USERNAME': 'jbmyo',\n",
       "        'USERPROFILE': 'C:\\\\Users\\\\jbmyo',\n",
       "        'VSCODE_AMD_ENTRYPOINT': 'vs/workbench/api/node/extensionHostProcess',\n",
       "        'VSCODE_CODE_CACHE_PATH': 'C:\\\\Users\\\\jbmyo\\\\AppData\\\\Roaming\\\\Code\\\\CachedData\\\\3b889b090b5ad5793f524b5d1d39fda662b96a2a',\n",
       "        'VSCODE_CWD': 'C:\\\\Users\\\\jbmyo\\\\AppData\\\\Local\\\\Programs\\\\Microsoft VS Code',\n",
       "        'VSCODE_HANDLES_UNCAUGHT_ERRORS': 'true',\n",
       "        'VSCODE_IPC_HOOK': '\\\\\\\\.\\\\pipe\\\\76af2921143734f453d6e8a2132a43c3-1.69.2-main-sock',\n",
       "        'VSCODE_NLS_CONFIG': '{\"locale\":\"ko\",\"availableLanguages\":{\"*\":\"ko\"},\"_languagePackId\":\"26f3b44ea4f1e942cca002e9545643cc.ko\",\"_translationsConfigFile\":\"C:\\\\\\\\Users\\\\\\\\jbmyo\\\\\\\\AppData\\\\\\\\Roaming\\\\\\\\Code\\\\\\\\clp\\\\\\\\26f3b44ea4f1e942cca002e9545643cc.ko\\\\\\\\tcf.json\",\"_cacheRoot\":\"C:\\\\\\\\Users\\\\\\\\jbmyo\\\\\\\\AppData\\\\\\\\Roaming\\\\\\\\Code\\\\\\\\clp\\\\\\\\26f3b44ea4f1e942cca002e9545643cc.ko\",\"_resolvedLanguagePackCoreLocation\":\"C:\\\\\\\\Users\\\\\\\\jbmyo\\\\\\\\AppData\\\\\\\\Roaming\\\\\\\\Code\\\\\\\\clp\\\\\\\\26f3b44ea4f1e942cca002e9545643cc.ko\\\\\\\\3b889b090b5ad5793f524b5d1d39fda662b96a2a\",\"_corruptedFile\":\"C:\\\\\\\\Users\\\\\\\\jbmyo\\\\\\\\AppData\\\\\\\\Roaming\\\\\\\\Code\\\\\\\\clp\\\\\\\\26f3b44ea4f1e942cca002e9545643cc.ko\\\\\\\\corrupted.info\",\"_languagePackSupport\":true}',\n",
       "        'VSCODE_PID': '4536',\n",
       "        'WINDIR': 'C:\\\\Windows',\n",
       "        '__COMPAT_LAYER': 'DetectorsAppHealth',\n",
       "        'PYDEVD_USE_FRAME_EVAL': 'NO',\n",
       "        'TERM': 'xterm-color',\n",
       "        'CLICOLOR': '1',\n",
       "        'PAGER': 'cat',\n",
       "        'GIT_PAGER': 'cat',\n",
       "        'MPLBACKEND': 'module://matplotlib_inline.backend_inline'}"
      ]
     },
     "execution_count": 152,
     "metadata": {},
     "output_type": "execute_result"
    }
   ],
   "source": [
    "import os\n",
    "os.environ"
   ]
  },
  {
   "cell_type": "code",
   "execution_count": 153,
   "id": "98e6d443",
   "metadata": {},
   "outputs": [
    {
     "data": {
      "text/plain": [
       "'e:\\\\학원\\\\PythonStudy'"
      ]
     },
     "execution_count": 153,
     "metadata": {},
     "output_type": "execute_result"
    }
   ],
   "source": [
    "os.getcwd()"
   ]
  },
  {
   "cell_type": "code",
   "execution_count": 157,
   "id": "8d17a08a",
   "metadata": {},
   "outputs": [
    {
     "data": {
      "text/plain": [
       "0"
      ]
     },
     "execution_count": 157,
     "metadata": {},
     "output_type": "execute_result"
    }
   ],
   "source": [
    "os.system(\"dir\")"
   ]
  },
  {
   "cell_type": "code",
   "execution_count": 155,
   "id": "641a82fc",
   "metadata": {},
   "outputs": [
    {
     "name": "stdout",
     "output_type": "stream",
     "text": [
      " E 드라이브의 볼륨: 코딩\n",
      " 볼륨 일련 번호: 567B-80FA\n",
      "\n",
      " e:\\학원\\PythonStudy 디렉터리\n",
      "\n",
      "2022-07-23  오후 08:21    <DIR>          .\n",
      "2022-07-23  오후 08:21    <DIR>          ..\n",
      "2022-05-24  오후 12:02    <DIR>          .ipynb_checkpoints\n",
      "2022-07-23  오후 09:12                34 append.txt\n",
      "2022-07-23  오후 08:54            53,546 bigdata6_jbm_pythontest.ipynb\n",
      "2021-10-17  오후 07:47            19,927 ex01변수,연산자.ipynb\n",
      "2021-10-07  오전 10:31             3,284 ex02조건문.ipynb\n",
      "2022-07-23  오후 08:48            14,801 ex03리스트,튜플.ipynb\n",
      "2021-10-21  오전 10:26            10,780 ex04반복문.ipynb\n",
      "2022-07-23  오후 08:48            17,322 ex05딕셔너리.ipynb\n",
      "2022-07-07  오후 08:25            14,683 ex06함수.ipynb\n",
      "2021-10-13  오후 02:10             3,402 ex07모듈사용해보기.ipynb\n",
      "2021-10-13  오후 02:06             1,674 Module.ipynb\n",
      "2021-10-12  오후 12:29               317 Module.py\n",
      "2022-07-23  오후 09:13            11,038 practice.ipynb\n",
      "2022-05-24  오후 12:02    <DIR>          PythonLibrary\n",
      "2021-10-21  오전 10:06               159 test_score.csv\n",
      "2022-05-24  오후 12:02    <DIR>          __pycache__\n",
      "2021-10-26  오후 02:26             3,015 유용한 기능들.ipynb\n",
      "2021-09-30  오후 04:58            73,747 화면 캡처 2021-09-30 165841.png\n",
      "              15개 파일             227,729 바이트\n",
      "               5개 디렉터리  324,151,169,024 바이트 남음\n",
      "\n"
     ]
    }
   ],
   "source": [
    "f = os.popen(\"dir\")  #시스템명령어 실행결과를 읽기 모드 형태의 파일 객체로 돌려줌\n",
    "print(f.read())"
   ]
  },
  {
   "cell_type": "code",
   "execution_count": 162,
   "id": "1ab7ad3a",
   "metadata": {},
   "outputs": [
    {
     "data": {
      "text/plain": [
       "['e:\\\\학원\\\\PythonStudy\\\\append.txt']"
      ]
     },
     "execution_count": 162,
     "metadata": {},
     "output_type": "execute_result"
    }
   ],
   "source": [
    "import glob\n",
    "glob.glob(r'e:\\학원\\PythonStudy\\*.txt')"
   ]
  },
  {
   "cell_type": "code",
   "execution_count": 176,
   "id": "f13428dd",
   "metadata": {},
   "outputs": [
    {
     "name": "stdout",
     "output_type": "stream",
     "text": [
      "1658580261.4252279\n",
      "time.struct_time(tm_year=2022, tm_mon=7, tm_mday=23, tm_hour=21, tm_min=44, tm_sec=21, tm_wday=5, tm_yday=204, tm_isdst=0)\n",
      "2022\n",
      "Sat Jul 23 21:44:21 2022\n",
      "Sat Jul 23 21:44:21 2022\n",
      "07/23/22\n"
     ]
    }
   ],
   "source": [
    "import time\n",
    "print(time.time())\n",
    "print(time.localtime()) # == time.localtime(time.time()) \n",
    "print(time.localtime().tm_year)\n",
    "print(time.asctime(time.localtime())) #시간 튜플을 보기 쉽게\n",
    "print(time.ctime()) #현재시간만을 보기 쉽게\n",
    "print(time.strftime('%x', time.localtime()))"
   ]
  },
  {
   "cell_type": "code",
   "execution_count": 179,
   "id": "b9bb9daf",
   "metadata": {},
   "outputs": [],
   "source": [
    "import calendar"
   ]
  },
  {
   "cell_type": "code",
   "execution_count": 195,
   "id": "a28dfd80",
   "metadata": {},
   "outputs": [
    {
     "name": "stdout",
     "output_type": "stream",
     "text": [
      "                                  2022\n",
      "\n",
      "      January                   February                   March\n",
      "Mo Tu We Th Fr Sa Su      Mo Tu We Th Fr Sa Su      Mo Tu We Th Fr Sa Su\n",
      "                1  2          1  2  3  4  5  6          1  2  3  4  5  6\n",
      " 3  4  5  6  7  8  9       7  8  9 10 11 12 13       7  8  9 10 11 12 13\n",
      "10 11 12 13 14 15 16      14 15 16 17 18 19 20      14 15 16 17 18 19 20\n",
      "17 18 19 20 21 22 23      21 22 23 24 25 26 27      21 22 23 24 25 26 27\n",
      "24 25 26 27 28 29 30      28                        28 29 30 31\n",
      "31\n",
      "\n",
      "       April                      May                       June\n",
      "Mo Tu We Th Fr Sa Su      Mo Tu We Th Fr Sa Su      Mo Tu We Th Fr Sa Su\n",
      "             1  2  3                         1             1  2  3  4  5\n",
      " 4  5  6  7  8  9 10       2  3  4  5  6  7  8       6  7  8  9 10 11 12\n",
      "11 12 13 14 15 16 17       9 10 11 12 13 14 15      13 14 15 16 17 18 19\n",
      "18 19 20 21 22 23 24      16 17 18 19 20 21 22      20 21 22 23 24 25 26\n",
      "25 26 27 28 29 30         23 24 25 26 27 28 29      27 28 29 30\n",
      "                          30 31\n",
      "\n",
      "        July                     August                  September\n",
      "Mo Tu We Th Fr Sa Su      Mo Tu We Th Fr Sa Su      Mo Tu We Th Fr Sa Su\n",
      "             1  2  3       1  2  3  4  5  6  7                1  2  3  4\n",
      " 4  5  6  7  8  9 10       8  9 10 11 12 13 14       5  6  7  8  9 10 11\n",
      "11 12 13 14 15 16 17      15 16 17 18 19 20 21      12 13 14 15 16 17 18\n",
      "18 19 20 21 22 23 24      22 23 24 25 26 27 28      19 20 21 22 23 24 25\n",
      "25 26 27 28 29 30 31      29 30 31                  26 27 28 29 30\n",
      "\n",
      "      October                   November                  December\n",
      "Mo Tu We Th Fr Sa Su      Mo Tu We Th Fr Sa Su      Mo Tu We Th Fr Sa Su\n",
      "                1  2          1  2  3  4  5  6                1  2  3  4\n",
      " 3  4  5  6  7  8  9       7  8  9 10 11 12 13       5  6  7  8  9 10 11\n",
      "10 11 12 13 14 15 16      14 15 16 17 18 19 20      12 13 14 15 16 17 18\n",
      "17 18 19 20 21 22 23      21 22 23 24 25 26 27      19 20 21 22 23 24 25\n",
      "24 25 26 27 28 29 30      28 29 30                  26 27 28 29 30 31\n",
      "31\n",
      "\n"
     ]
    }
   ],
   "source": [
    "print(calendar.calendar(2022)) # == calendar.prcal(2022) : print없어도 정렬 이쁘게 됨"
   ]
  },
  {
   "cell_type": "code",
   "execution_count": 196,
   "id": "4f99fda6",
   "metadata": {},
   "outputs": [
    {
     "data": {
      "text/plain": [
       "'                                  2022\\n\\n\\n\\n\\n\\n\\n\\n      January                   February                   March\\n\\n\\n\\nMo Tu We Th Fr Sa Su      Mo Tu We Th Fr Sa Su      Mo Tu We Th Fr Sa Su\\n\\n\\n\\n                1  2          1  2  3  4  5  6          1  2  3  4  5  6\\n\\n\\n\\n 3  4  5  6  7  8  9       7  8  9 10 11 12 13       7  8  9 10 11 12 13\\n\\n\\n\\n10 11 12 13 14 15 16      14 15 16 17 18 19 20      14 15 16 17 18 19 20\\n\\n\\n\\n17 18 19 20 21 22 23      21 22 23 24 25 26 27      21 22 23 24 25 26 27\\n\\n\\n\\n24 25 26 27 28 29 30      28                        28 29 30 31\\n\\n\\n\\n31\\n\\n\\n\\n\\n\\n\\n\\n       April                      May                       June\\n\\n\\n\\nMo Tu We Th Fr Sa Su      Mo Tu We Th Fr Sa Su      Mo Tu We Th Fr Sa Su\\n\\n\\n\\n             1  2  3                         1             1  2  3  4  5\\n\\n\\n\\n 4  5  6  7  8  9 10       2  3  4  5  6  7  8       6  7  8  9 10 11 12\\n\\n\\n\\n11 12 13 14 15 16 17       9 10 11 12 13 14 15      13 14 15 16 17 18 19\\n\\n\\n\\n18 19 20 21 22 23 24      16 17 18 19 20 21 22      20 21 22 23 24 25 26\\n\\n\\n\\n25 26 27 28 29 30         23 24 25 26 27 28 29      27 28 29 30\\n\\n\\n\\n                          30 31\\n\\n\\n\\n\\n\\n\\n\\n        July                     August                  September\\n\\n\\n\\nMo Tu We Th Fr Sa Su      Mo Tu We Th Fr Sa Su      Mo Tu We Th Fr Sa Su\\n\\n\\n\\n             1  2  3       1  2  3  4  5  6  7                1  2  3  4\\n\\n\\n\\n 4  5  6  7  8  9 10       8  9 10 11 12 13 14       5  6  7  8  9 10 11\\n\\n\\n\\n11 12 13 14 15 16 17      15 16 17 18 19 20 21      12 13 14 15 16 17 18\\n\\n\\n\\n18 19 20 21 22 23 24      22 23 24 25 26 27 28      19 20 21 22 23 24 25\\n\\n\\n\\n25 26 27 28 29 30 31      29 30 31                  26 27 28 29 30\\n\\n\\n\\n\\n\\n\\n\\n      October                   November                  December\\n\\n\\n\\nMo Tu We Th Fr Sa Su      Mo Tu We Th Fr Sa Su      Mo Tu We Th Fr Sa Su\\n\\n\\n\\n                1  2          1  2  3  4  5  6                1  2  3  4\\n\\n\\n\\n 3  4  5  6  7  8  9       7  8  9 10 11 12 13       5  6  7  8  9 10 11\\n\\n\\n\\n10 11 12 13 14 15 16      14 15 16 17 18 19 20      12 13 14 15 16 17 18\\n\\n\\n\\n17 18 19 20 21 22 23      21 22 23 24 25 26 27      19 20 21 22 23 24 25\\n\\n\\n\\n24 25 26 27 28 29 30      28 29 30                  26 27 28 29 30 31\\n\\n\\n\\n31\\n\\n\\n\\n'"
      ]
     },
     "execution_count": 196,
     "metadata": {},
     "output_type": "execute_result"
    }
   ],
   "source": [
    "print(calendar.calendar(2022, 2, 4))"
   ]
  },
  {
   "cell_type": "code",
   "execution_count": 198,
   "metadata": {},
   "outputs": [
    {
     "name": "stdout",
     "output_type": "stream",
     "text": [
      "     July 2022\n",
      "Mo Tu We Th Fr Sa Su\n",
      "             1  2  3\n",
      " 4  5  6  7  8  9 10\n",
      "11 12 13 14 15 16 17\n",
      "18 19 20 21 22 23 24\n",
      "25 26 27 28 29 30 31\n"
     ]
    }
   ],
   "source": [
    "calendar.prmonth(2022, 7)"
   ]
  },
  {
   "cell_type": "code",
   "execution_count": 200,
   "id": "bca49407",
   "metadata": {},
   "outputs": [
    {
     "name": "stdout",
     "output_type": "stream",
     "text": [
      "5\n"
     ]
    },
    {
     "data": {
      "text/plain": [
       "[1, 2, 3, 4]"
      ]
     },
     "execution_count": 200,
     "metadata": {},
     "output_type": "execute_result"
    }
   ],
   "source": [
    "list = [1,2,3,4,5]\n",
    "print(list.pop())\n",
    "list"
   ]
  },
  {
   "cell_type": "code",
   "execution_count": 1,
   "id": "68d15a4a",
   "metadata": {},
   "outputs": [
    {
     "data": {
      "text/plain": [
       "True"
      ]
     },
     "execution_count": 1,
     "metadata": {},
     "output_type": "execute_result"
    }
   ],
   "source": [
    "import webbrowser\n",
    "#크롬이 기본이 아니라면 \n",
    "#chrome = 'C:/Program Files/Google/Chrome/Application/chrome.exe %s' #c:\\Users\\jbmyo\\anaconda3\\lib\\webbrowser.py를 보면 %s를 붙여야 함. 반드시 /써야함 r'~\\~' 이거 안 됨\n",
    "#webbrowser.get(chrome).open(\"http://naver.com\")\n",
    "webbrowser.open(\"www.naver.com\") #www안쓰면 인터넷익스플로러로... get()넣어주면 https://안해도 크롬(기본)으로 열림\n"
   ]
  },
  {
   "cell_type": "code",
   "execution_count": 4,
   "id": "7c25f859",
   "metadata": {},
   "outputs": [
    {
     "data": {
      "text/plain": [
       "'e:\\\\학원\\\\PythonStudy'"
      ]
     },
     "execution_count": 4,
     "metadata": {},
     "output_type": "execute_result"
    }
   ],
   "source": [
    "os.getcwd()"
   ]
  },
  {
   "cell_type": "code",
   "execution_count": 6,
   "id": "abd166d9",
   "metadata": {},
   "outputs": [
    {
     "name": "stdout",
     "output_type": "stream",
     "text": [
      "5\n",
      "4\n",
      "3\n",
      "1\n",
      "2\n",
      "\n"
     ]
    }
   ],
   "source": [
    "print(os.popen(\"python random_pop.py\").read())"
   ]
  }
 ],
 "metadata": {
  "kernelspec": {
   "display_name": "Python 3.9.12 ('base')",
   "language": "python",
   "name": "python3"
  },
  "language_info": {
   "codemirror_mode": {
    "name": "ipython",
    "version": 3
   },
   "file_extension": ".py",
   "mimetype": "text/x-python",
   "name": "python",
   "nbconvert_exporter": "python",
   "pygments_lexer": "ipython3",
   "version": "3.9.12"
  },
  "vscode": {
   "interpreter": {
    "hash": "bde8bb0732dc4e1332dd7de11e8fd6f025a3253132c4935c7925a70cc079a91c"
   }
  }
 },
 "nbformat": 4,
 "nbformat_minor": 5
}
