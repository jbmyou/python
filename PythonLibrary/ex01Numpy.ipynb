{
 "cells": [
  {
   "cell_type": "markdown",
   "id": "65b6dcd2",
   "metadata": {},
   "source": [
    "# Numpy(Numerical Python)"
   ]
  },
  {
   "cell_type": "markdown",
   "id": "0f848c70",
   "metadata": {},
   "source": [
    "Numpy의 주요 기능   numeric : 숫자\n",
    "- 정의 :  빠르고 효율적인 벡터(값 하나라고 생각해라) 산술연산을 제공하는 다차원(n-dimension)배열 제공(ndarray 클래스)\n",
    "- 생성\n",
    "    - import numpy as np\n",
    "    - arr = __np.array(iterableOb, dtype=np.int32)__  *단 동일 자료형*\n",
    "    - 동일 숫자 : np.full((행,열), 채울 숫자 data ), np.zeros((행,열)), np.ones((행,열))\n",
    "    - 일정범위의 숫자 : np.arange(from,to,step) 실수값 가능  cf)range : 정수\n",
    "    - 0~1실수랜덤 : np.random.rand(shape) *연산하여 범위 변경 가능\n",
    "    - 정수 랜덤 : np.random.randint(from, to, size=(행,열))\n",
    "- 속성\n",
    "    - .shape : 몇행 몇열 즉 배열의 크기 확인.\n",
    "    - .size : 배열 요소 개수 확인\n",
    "    - .ndim : 배열의 차원 확인\n",
    "    - .dtype : 배열의 타입확인. int32, int64, float32..\n",
    "- 함수\n",
    "    - 1차원을 2차원으로 : arr.reshape(행,열)\n",
    "    - 타입변경 : arr = arr.astype('바꿀타입')\n",
    "    - np.sum(arr), np.sqrt(arr), np.mean(arr), np.abs(arr), np.unique(arr)\n",
    "- 연산 : /3행5열/과 /단일숫자, 1행5열, 3행1열, 3행5열/의 ndarray는 서로 연산가능 : 자동으로 행열 복사 후 같은 인덱스끼리 사칙연산\n",
    "- 인덱싱과 슬라이싱 : 값을 할당함으로써 일괄 수정도 가능 ex) arr[ : ]=4\n",
    "    - [행 , 열]제공\n",
    "    - [[행] , [열]] 다중인덱싱 but결과는 1차원 배열\n",
    "    - [[행:행], [열:열]] : 다중슬라이싱 2차원 리턴\n",
    "    - [조건, 열] : boolean과 동시 사용 가능\n",
    "- 외부 자료(txt) 활용\n",
    "    - data = __np.loadtxt('파일명.확장자',delimiter=',')__ //de-limit-er , dtype=''같은 거 추가 가능\n",
    "    - 내보내기 : np.savetxt('파일명.확장자')"
   ]
  },
  {
   "cell_type": "code",
   "execution_count": 2,
   "id": "55876349",
   "metadata": {},
   "outputs": [],
   "source": [
    "import numpy as np"
   ]
  },
  {
   "cell_type": "markdown",
   "id": "5d3701df",
   "metadata": {},
   "source": [
    "numpy.ndarray 클래스\n",
    "- 동일한 자료형을 가지는 값들이 배열 형태로 존재함\n",
    "- n차원 행태로 구성 가능\n",
    "- 각 값들은 양의 정수로 색인(index)이 부여되어 있다. 0.1,2,3,...\n",
    "- numpy에서 차원(dimension)을 rank, axis라고 부르기도 한다.\n",
    "- ndarray를 줄여서 array로 표현한다."
   ]
  },
  {
   "cell_type": "markdown",
   "id": "5052ee9a",
   "metadata": {},
   "source": [
    "- 1차원 ndarray 생성하기\n",
    "    - arr1 = np.array(iterable)"
   ]
  },
  {
   "cell_type": "code",
   "execution_count": 3,
   "id": "2230ab4d",
   "metadata": {},
   "outputs": [
    {
     "data": {
      "text/plain": [
       "[1, 2, 3, 4, 5]"
      ]
     },
     "execution_count": 3,
     "metadata": {},
     "output_type": "execute_result"
    }
   ],
   "source": [
    "list1=[1,2,3,4,5]\n",
    "list1"
   ]
  },
  {
   "cell_type": "code",
   "execution_count": 4,
   "id": "57d84d8b",
   "metadata": {
    "scrolled": true
   },
   "outputs": [
    {
     "data": {
      "text/plain": [
       "array([1, 2, 3, 4, 5])"
      ]
     },
     "execution_count": 4,
     "metadata": {},
     "output_type": "execute_result"
    }
   ],
   "source": [
    "arr1 = np.array(list1)   # = np.array([1,2,3,4,5])\n",
    "arr1"
   ]
  },
  {
   "cell_type": "markdown",
   "id": "bb44077f",
   "metadata": {},
   "source": [
    "- 2,3차원 ndarray 생성하기"
   ]
  },
  {
   "cell_type": "code",
   "execution_count": 5,
   "id": "adb6f28d",
   "metadata": {},
   "outputs": [
    {
     "data": {
      "text/plain": [
       "array([[1, 2, 3],\n",
       "       [4, 5, 6]])"
      ]
     },
     "execution_count": 5,
     "metadata": {},
     "output_type": "execute_result"
    }
   ],
   "source": [
    "arr2 = np.array([[1,2,3],[4,5,6]])\n",
    "arr2"
   ]
  },
  {
   "cell_type": "code",
   "execution_count": 6,
   "id": "e290932e",
   "metadata": {},
   "outputs": [
    {
     "data": {
      "text/plain": [
       "array([[[1, 2, 3, 4],\n",
       "        [3, 4, 5, 6],\n",
       "        [5, 6, 7, 8]],\n",
       "\n",
       "       [[1, 2, 3, 4],\n",
       "        [3, 4, 5, 6],\n",
       "        [5, 6, 7, 8]]])"
      ]
     },
     "execution_count": 6,
     "metadata": {},
     "output_type": "execute_result"
    }
   ],
   "source": [
    "arr3 = np.array([[[1,2,3,4],[3,4,5,6],[5,6,7,8]],[[1,2,3,4],[3,4,5,6],[5,6,7,8]]])\n",
    "arr3"
   ]
  },
  {
   "cell_type": "markdown",
   "id": "72821736",
   "metadata": {},
   "source": [
    "- ndarray 속성값  \n",
    "    - .shape : 배열의 크기 확인. (행개수, 열개수) 알려줌\n",
    "    - .size : 배열 요소 개수 확인\n",
    "    - .ndim : 배열의 차원 확인\n",
    "    - .dtype : 배열의 타입확인"
   ]
  },
  {
   "cell_type": "code",
   "execution_count": 53,
   "id": "677bcbf4",
   "metadata": {
    "scrolled": false
   },
   "outputs": [
    {
     "name": "stdout",
     "output_type": "stream",
     "text": [
      "(5,)\n",
      "(2, 3)\n",
      "(2, 3, 4)\n",
      "2\n",
      "2\n",
      "5\n"
     ]
    }
   ],
   "source": [
    "print(arr1.shape)  #(열,)\n",
    "print(arr2.shape)  #(행,열)\n",
    "print(arr3.shape)  #(높이,행,열)\n",
    "print(len(arr3))   #가장 바깥쪽 차원 요소의 개수(axis=0 고정)\n",
    "print(len(arr2))\n",
    "print(len(arr1))"
   ]
  },
  {
   "cell_type": "code",
   "execution_count": 8,
   "id": "e2e012e7",
   "metadata": {
    "scrolled": true
   },
   "outputs": [
    {
     "name": "stdout",
     "output_type": "stream",
     "text": [
      "5\n",
      "6\n",
      "24\n"
     ]
    }
   ],
   "source": [
    "print(arr1.size)  # shape 값들의 곱\n",
    "print(arr2.size)\n",
    "print(arr3.size)"
   ]
  },
  {
   "cell_type": "code",
   "execution_count": 9,
   "id": "bc138b1c",
   "metadata": {},
   "outputs": [
    {
     "name": "stdout",
     "output_type": "stream",
     "text": [
      "1\n",
      "2\n",
      "3\n"
     ]
    }
   ],
   "source": [
    "print(arr1.ndim)\n",
    "print(arr2.ndim)\n",
    "print(arr3.ndim)"
   ]
  },
  {
   "cell_type": "code",
   "execution_count": 10,
   "id": "022b2059",
   "metadata": {},
   "outputs": [
    {
     "name": "stdout",
     "output_type": "stream",
     "text": [
      "int32\n"
     ]
    }
   ],
   "source": [
    "print(arr1.dtype)  # 뒤에 나온 숫자는 32bit(=4byte-> int)를 말함."
   ]
  },
  {
   "cell_type": "code",
   "execution_count": 11,
   "id": "5a9a0f36",
   "metadata": {
    "scrolled": true
   },
   "outputs": [
    {
     "name": "stdout",
     "output_type": "stream",
     "text": [
      "배열의 크기 : (2, 3, 4)\n",
      "배열의 차원 : 3\n",
      "배열의 개수 : 24\n"
     ]
    }
   ],
   "source": [
    "print(\"배열의 크기 :\",arr3.shape)\n",
    "print(\"배열의 차원 :\",arr3.ndim)\n",
    "print(\"배열의 개수 :\",arr3.size)"
   ]
  },
  {
   "cell_type": "markdown",
   "id": "c502bdce",
   "metadata": {},
   "source": [
    "### np함수1"
   ]
  },
  {
   "cell_type": "markdown",
   "id": "51af2e77",
   "metadata": {},
   "source": [
    "- 특정 숫자데이터로 ndarray 생성 및 초기화해주는 np함수\n",
    "    - 0 : np.zeros((shape))\n",
    "    - 1 : np.ones((shape))\n",
    "    - 그외숫자 : np.full((shape), 그외숫자)\n",
    "    - __수열 : np.arange(from, to, step) - step기본값은 1(실수값도 가능)__\n",
    "    - 실수랜덤값(0~1) : np.random.rand(shape)  - 이 자체에 +,* 등 연산추가하여 값 범위 변경 가능, 괄호개수 유의\n",
    "    - __정수랜덤값 : np.random.randint(from,to, size=(shape)) - 역시 연산 가능__\n",
    "- 1차원으로 만든 ndarray를 2차원으로 바꾸기\n",
    "    - arr=np.arange(50).reshape(5,10)  - 5,10 = shape"
   ]
  },
  {
   "cell_type": "code",
   "execution_count": 12,
   "id": "127e2433",
   "metadata": {
    "scrolled": true
   },
   "outputs": [
    {
     "data": {
      "text/plain": [
       "array([[0., 0.],\n",
       "       [0., 0.]])"
      ]
     },
     "execution_count": 12,
     "metadata": {},
     "output_type": "execute_result"
    }
   ],
   "source": [
    "#0 (shift + tap 눌러보면 기본형 float으로 되어있다.)\n",
    "arr_zero = np.zeros((2,2))  #2차원 배열 -> tuple형태()로 행과 열의 개수 지정하기\n",
    "arr_zero"
   ]
  },
  {
   "cell_type": "code",
   "execution_count": 13,
   "id": "5d0b25b1",
   "metadata": {},
   "outputs": [
    {
     "data": {
      "text/plain": [
       "array([[1., 1., 1., 1.],\n",
       "       [1., 1., 1., 1.],\n",
       "       [1., 1., 1., 1.]])"
      ]
     },
     "execution_count": 13,
     "metadata": {},
     "output_type": "execute_result"
    }
   ],
   "source": [
    "#1\n",
    "arr_one = np.ones((3,4))\n",
    "arr_one"
   ]
  },
  {
   "cell_type": "code",
   "execution_count": 14,
   "id": "422f567b",
   "metadata": {},
   "outputs": [
    {
     "data": {
      "text/plain": [
       "array([[4, 4],\n",
       "       [4, 4]])"
      ]
     },
     "execution_count": 14,
     "metadata": {},
     "output_type": "execute_result"
    }
   ],
   "source": [
    "#내가 원하는 값으로\n",
    "arr_full = np.full((2,2),4)\n",
    "arr_full"
   ]
  },
  {
   "cell_type": "code",
   "execution_count": 15,
   "id": "b29a1664",
   "metadata": {},
   "outputs": [],
   "source": [
    "#1~50까지의 숫자데이터를 가지고 있는 1차원 배열 arr4 생성\n",
    "#np.array() -> numpy 배열 생성하는 기능의 매개변수로 들어갈 수 있는 자료구조는?"
   ]
  },
  {
   "cell_type": "code",
   "execution_count": 16,
   "id": "ae24f273",
   "metadata": {},
   "outputs": [
    {
     "data": {
      "text/plain": [
       "array([ 1,  2,  3,  4,  5,  6,  7,  8,  9, 10, 11, 12, 13, 14, 15, 16, 17,\n",
       "       18, 19, 20, 21, 22, 23, 24, 25, 26, 27, 28, 29, 30, 31, 32, 33, 34,\n",
       "       35, 36, 37, 38, 39, 40, 41, 42, 43, 44, 45, 46, 47, 48, 49, 50])"
      ]
     },
     "execution_count": 16,
     "metadata": {},
     "output_type": "execute_result"
    }
   ],
   "source": [
    "i=1\n",
    "list_tem=[]\n",
    "for i in range(1,51):\n",
    "    list_tem.append(i)        \n",
    "\n",
    "#  while i<51 :\n",
    "#      list_tem.append(i)\n",
    "#      i += 1\n",
    "arr4 = np.array(list_tem)\n",
    "arr4"
   ]
  },
  {
   "cell_type": "code",
   "execution_count": 56,
   "id": "76efbfac",
   "metadata": {
    "scrolled": true
   },
   "outputs": [
    {
     "data": {
      "text/plain": [
       "array([ 1,  2,  3,  4,  5,  6,  7,  8,  9, 10, 11, 12, 13, 14, 15, 16, 17,\n",
       "       18, 19, 20, 21, 22, 23, 24, 25, 26, 27, 28, 29, 30, 31, 32, 33, 34,\n",
       "       35, 36, 37, 38, 39, 40, 41, 42, 43, 44, 45, 46, 47, 48, 49, 50])"
      ]
     },
     "execution_count": 56,
     "metadata": {},
     "output_type": "execute_result"
    }
   ],
   "source": [
    "arr5 = np.arange(1,51,1) #arange(시작값, 끝값+1, 증감값)\n",
    "arr5"
   ]
  },
  {
   "cell_type": "code",
   "execution_count": 58,
   "id": "ce2f024c",
   "metadata": {},
   "outputs": [
    {
     "data": {
      "text/plain": [
       "array([1.  , 1.05, 1.1 , 1.15, 1.2 , 1.25, 1.3 , 1.35, 1.4 , 1.45, 1.5 ,\n",
       "       1.55, 1.6 , 1.65, 1.7 , 1.75, 1.8 , 1.85, 1.9 , 1.95])"
      ]
     },
     "execution_count": 58,
     "metadata": {},
     "output_type": "execute_result"
    }
   ],
   "source": [
    "arr6 = np.arange(1, 2, 0.05)\n",
    "arr6"
   ]
  },
  {
   "cell_type": "code",
   "execution_count": 59,
   "id": "c5c5cd44",
   "metadata": {},
   "outputs": [
    {
     "data": {
      "text/plain": [
       "array([[1.35933124, 1.60327366, 1.26004801],\n",
       "       [1.3267722 , 1.67643241, 1.57002702]])"
      ]
     },
     "execution_count": 59,
     "metadata": {},
     "output_type": "execute_result"
    }
   ],
   "source": [
    "#0~1 사이의 랜덤값 집어넣으면서 배열 생성하기\n",
    "arr_ran = np.random.rand(2,3)+1   #random.rand(행,열)\n",
    "arr_ran"
   ]
  },
  {
   "cell_type": "code",
   "execution_count": 19,
   "id": "bf72ab15",
   "metadata": {},
   "outputs": [
    {
     "data": {
      "text/plain": [
       "array([[7, 9, 8],\n",
       "       [5, 8, 3]])"
      ]
     },
     "execution_count": 19,
     "metadata": {},
     "output_type": "execute_result"
    }
   ],
   "source": [
    "#정수 랜덤값 짛어넣으면서 배열 생성하기\n",
    "arr_int = np.random.randint(2,10, size = (2,3))\n",
    "arr_int"
   ]
  },
  {
   "cell_type": "markdown",
   "id": "b6e96510",
   "metadata": {},
   "source": [
    "- 배열의 타입 바꾸기\n",
    "    - 생성시 바꾸기 : 배열명=np.array([ , , ], dtype=np.__int64__)\n",
    "    - 생성된 ndarray 바꾸기 : 배열명 = 기존배열명.astype('int64') (배열명과 기존배열명은 같아도 됨)"
   ]
  },
  {
   "cell_type": "code",
   "execution_count": 61,
   "id": "3b397247",
   "metadata": {},
   "outputs": [
    {
     "data": {
      "text/plain": [
       "array([1, 2])"
      ]
     },
     "execution_count": 61,
     "metadata": {},
     "output_type": "execute_result"
    }
   ],
   "source": [
    "#배열 타입을 생성과 동시에 바꾸기 (int32, int64 상관없음)\n",
    "arr_type = np.array([1.1,2.2],dtype=np.int32)\n",
    "arr_type"
   ]
  },
  {
   "cell_type": "code",
   "execution_count": 21,
   "id": "067b5633",
   "metadata": {},
   "outputs": [
    {
     "data": {
      "text/plain": [
       "array([1., 2.])"
      ]
     },
     "execution_count": 21,
     "metadata": {},
     "output_type": "execute_result"
    }
   ],
   "source": [
    "#생성된 배열의 타입을 바꿔보기\n",
    "arr_type = arr_type.astype('float64')\n",
    "arr_type"
   ]
  },
  {
   "cell_type": "code",
   "execution_count": 22,
   "id": "822fac9c",
   "metadata": {},
   "outputs": [
    {
     "data": {
      "text/plain": [
       "array([1, 2], dtype=int64)"
      ]
     },
     "execution_count": 22,
     "metadata": {},
     "output_type": "execute_result"
    }
   ],
   "source": [
    "arr_type = arr_type.astype('int64')\n",
    "arr_type"
   ]
  },
  {
   "cell_type": "markdown",
   "id": "9648bcfe",
   "metadata": {},
   "source": [
    "Array 연산 : broadcasting 또는 repeat가 자동으로 되나봐\n",
    "- shape이 같은 배열과 배열의 연산 가능(같은 인덱스끼리 사칙연산)\n",
    "- shape이 다를 경우, 한 배열이 한 행 또는 한 열만을 가지고 있고, 각각 열의 개수가 같거나 행의 개수가 같으면 연산 가능(부족한 행이나 열은 알아서 복사) ex)[3행5열]에 [1행 5열] 또는 [3행 1열]은 연산 가능\n",
    "- 배열에 배열이 아닌 특정 값을 연산하는 것은 상관없음 ex)arr+1=모든 요소에 +1"
   ]
  },
  {
   "cell_type": "code",
   "execution_count": 23,
   "id": "9128faf3",
   "metadata": {},
   "outputs": [
    {
     "data": {
      "text/plain": [
       "array([1, 2, 3])"
      ]
     },
     "execution_count": 23,
     "metadata": {},
     "output_type": "execute_result"
    }
   ],
   "source": [
    "arr6 = np.array([1,2,3])\n",
    "arr6"
   ]
  },
  {
   "cell_type": "code",
   "execution_count": 24,
   "id": "1d0ba151",
   "metadata": {},
   "outputs": [
    {
     "name": "stdout",
     "output_type": "stream",
     "text": [
      "[2 4 6]\n",
      "[1 4 9]\n",
      "[0 0 0]\n",
      "[1. 1. 1.]\n"
     ]
    }
   ],
   "source": [
    "print(arr6+arr6)\n",
    "print(arr6*arr6)\n",
    "print(arr6-arr6)\n",
    "print(arr6/arr6)"
   ]
  },
  {
   "cell_type": "code",
   "execution_count": 25,
   "id": "354be964",
   "metadata": {
    "scrolled": false
   },
   "outputs": [
    {
     "data": {
      "text/plain": [
       "array([[ 2,  4,  6],\n",
       "       [ 4,  6,  8],\n",
       "       [ 8, 10, 12]])"
      ]
     },
     "execution_count": 25,
     "metadata": {},
     "output_type": "execute_result"
    }
   ],
   "source": [
    "arr8 = np.array([[1,2,3],[3,4,5],[7,8,9]])\n",
    "arr8+arr6"
   ]
  },
  {
   "cell_type": "markdown",
   "id": "e00d2aa2",
   "metadata": {},
   "source": [
    "### ndarray 인덱싱과 슬라이싱  [   ,  ] \n",
    "일반 인덱싱,슬라이싱과의 차이"
   ]
  },
  {
   "cell_type": "markdown",
   "id": "fdf607b4",
   "metadata": {},
   "source": [
    "- [행][행][행이하나일때 열] 이 구조는 동일\n",
    "-------\n",
    "- [행,열]검색 제공 : 쉼표는 행과 열을 구분하는 기호\n",
    "- [[ , , ], [ , , ]] 인덱스 번호를 배열형태로 입력 가능 -> 다중 인덱싱가능. 슬라이싱과 달리 여러행에서 값을 가져오더라도 1차원으로 반환함\n",
    "    - 안쪽 괄호 안의 쉼표는 배열에서 값을 구분하는 기호\n",
    "    - 즉 [[행1,행2],[열1,열2]..], [(행1,행2),(열1,열2)..] 이런 의미. 이때 [행1,열1],[행2,열2] 두 개의 값만 반환. 따라서 행과 열의 개수 맞아야\n",
    "    - 그래서 다중 슬라이싱(?)(ex[[1,2],[2,3,7,8]]또는 [[1:3],[2:4,7:9]])는 불가. 행이든 열이든 하나를 고정해서 하는 것이 최선(list[[1,[2,3,7,8]], list[[2,[2,3,7,8]]) __판다스는 아마 가능__\n",
    "    \n",
    "    \n",
    "\n",
    "- 슬라이싱 후 일괄 수정 가능 : arr[0:2,1:4]=4  \n",
    "- (공통점)행은 생략불가 [1, ]=[1, : ]=[1] but [ ,1]은 에러"
   ]
  },
  {
   "cell_type": "code",
   "execution_count": 26,
   "id": "ff485577",
   "metadata": {},
   "outputs": [
    {
     "name": "stdout",
     "output_type": "stream",
     "text": [
      "[2 4 8]\n",
      "[3 4 5]\n"
     ]
    }
   ],
   "source": [
    "#[행index,열index] 기존처럼 [행index][열index] 해도 됨\n",
    "#ndarrage가 아니면 [행,열] 불가함!!\n",
    "print(arr8[:,1])\n",
    "print(arr8[1])"
   ]
  },
  {
   "cell_type": "code",
   "execution_count": 27,
   "id": "be6f619e",
   "metadata": {},
   "outputs": [
    {
     "data": {
      "text/plain": [
       "array([ 1,  2,  3,  4,  5,  6,  7,  8,  9, 10])"
      ]
     },
     "execution_count": 27,
     "metadata": {},
     "output_type": "execute_result"
    }
   ],
   "source": [
    "arr9=np.arange(1,11)\n",
    "arr9"
   ]
  },
  {
   "cell_type": "code",
   "execution_count": 28,
   "id": "34bfcc24",
   "metadata": {},
   "outputs": [
    {
     "data": {
      "text/plain": [
       "array([ 1,  2,  4,  4,  4,  4,  7,  8,  9, 10])"
      ]
     },
     "execution_count": 28,
     "metadata": {},
     "output_type": "execute_result"
    }
   ],
   "source": [
    "#슬라이싱 한 구간을 특정 값으로 일괄 수정 가능\n",
    "arr9[2:6] = 4\n",
    "arr9"
   ]
  },
  {
   "cell_type": "code",
   "execution_count": 29,
   "id": "7f38311e",
   "metadata": {
    "scrolled": false
   },
   "outputs": [
    {
     "data": {
      "text/plain": [
       "array([[ 0,  1,  2,  3,  4,  5,  6,  7,  8,  9],\n",
       "       [10, 11, 12, 13, 14, 15, 16, 17, 18, 19],\n",
       "       [20, 21, 22, 23, 24, 25, 26, 27, 28, 29],\n",
       "       [30, 31, 32, 33, 34, 35, 36, 37, 38, 39],\n",
       "       [40, 41, 42, 43, 44, 45, 46, 47, 48, 49]])"
      ]
     },
     "execution_count": 29,
     "metadata": {},
     "output_type": "execute_result"
    }
   ],
   "source": [
    "arr10=np.arange(50).reshape(5,10)\n",
    "arr10"
   ]
  },
  {
   "cell_type": "code",
   "execution_count": 30,
   "id": "949a8274",
   "metadata": {
    "scrolled": true
   },
   "outputs": [
    {
     "data": {
      "text/plain": [
       "array([[ 3,  4,  5],\n",
       "       [13, 14, 15]])"
      ]
     },
     "execution_count": 30,
     "metadata": {},
     "output_type": "execute_result"
    }
   ],
   "source": [
    "arr10[0:3,3:6][0:2]"
   ]
  },
  {
   "cell_type": "code",
   "execution_count": 31,
   "id": "1d4e3bc2",
   "metadata": {
    "scrolled": true
   },
   "outputs": [
    {
     "name": "stdout",
     "output_type": "stream",
     "text": [
      "[21 22 23 26 27 28] [31 32 33 36 37 38]\n",
      "[21 22 23 26 27 28 31 32 33 36 37 38]\n"
     ]
    }
   ],
   "source": [
    "print(arr10[2,[1,2,3,6,7,8]],arr10[3,[1,2,3,6,7,8]])\n",
    "print(arr10[[2,2,2,2,2,2,3,3,3,3,3,3],[1,2,3,6,7,8,1,2,3,6,7,8]])"
   ]
  },
  {
   "cell_type": "code",
   "execution_count": 32,
   "id": "b616c16d",
   "metadata": {
    "scrolled": true
   },
   "outputs": [
    {
     "data": {
      "text/plain": [
       "array([[21, 22, 23, 24, 25, 26, 27, 28],\n",
       "       [31, 32, 33, 34, 35, 36, 37, 38]])"
      ]
     },
     "execution_count": 32,
     "metadata": {},
     "output_type": "execute_result"
    }
   ],
   "source": [
    "arr11=np.array(arr10[2:4,1:9])\n",
    "arr11"
   ]
  },
  {
   "cell_type": "code",
   "execution_count": 33,
   "id": "402d0314",
   "metadata": {
    "scrolled": true
   },
   "outputs": [
    {
     "data": {
      "text/plain": [
       "array([[ 3,  4],\n",
       "       [13, 14]])"
      ]
     },
     "execution_count": 33,
     "metadata": {},
     "output_type": "execute_result"
    }
   ],
   "source": [
    "arr10[0:2,3:5]"
   ]
  },
  {
   "cell_type": "code",
   "execution_count": 34,
   "id": "616ad746",
   "metadata": {},
   "outputs": [
    {
     "data": {
      "text/plain": [
       "array([13, 14, 15, 16])"
      ]
     },
     "execution_count": 34,
     "metadata": {},
     "output_type": "execute_result"
    }
   ],
   "source": [
    "#2차원 슬라이싱 1행 3열~6열까지\n",
    "arr10[1,3:7]"
   ]
  },
  {
   "cell_type": "code",
   "execution_count": 35,
   "id": "110cd806",
   "metadata": {
    "scrolled": true
   },
   "outputs": [
    {
     "data": {
      "text/plain": [
       "array([ 1, 11, 21, 31, 41])"
      ]
     },
     "execution_count": 35,
     "metadata": {},
     "output_type": "execute_result"
    }
   ],
   "source": [
    "#전체행의 0열만\n",
    "arr10[:,1]"
   ]
  },
  {
   "cell_type": "markdown",
   "id": "915631ed",
   "metadata": {},
   "source": [
    "외부파일 분석하기  \n",
    "- 외부파일 업로드 : 가급적 작업중인 폴더에 드래그앤드랍->업로드  \n",
    "- 파일 불러오기 : data = np.loadtxt('파일명.확장자',delimiter=',') - '정확한 파일명과 확장자',delimiter='구분기호'\n",
    "- 파일 내보내기 : np.savetxt()"
   ]
  },
  {
   "cell_type": "code",
   "execution_count": 63,
   "id": "12c6455c",
   "metadata": {
    "scrolled": true
   },
   "outputs": [
    {
     "data": {
      "text/plain": [
       "array([[175.2, 180.3, 175. , 169.2, 185.2, 188. , 177.6, 178.2, 177. ,\n",
       "        179. ],\n",
       "       [ 65.6,  88. ,  79.2,  69.3,  55. ,  71.2,  73. ,  68.9,  74. ,\n",
       "         82. ]])"
      ]
     },
     "execution_count": 63,
     "metadata": {},
     "output_type": "execute_result"
    }
   ],
   "source": [
    "data=np.loadtxt('height_weight.txt',delimiter=',')\n",
    "data"
   ]
  },
  {
   "cell_type": "code",
   "execution_count": 64,
   "id": "b886464f",
   "metadata": {
    "scrolled": true
   },
   "outputs": [
    {
     "name": "stdout",
     "output_type": "stream",
     "text": [
      "(2, 10)\n",
      "float64\n"
     ]
    }
   ],
   "source": [
    "print(data.shape)\n",
    "print(data.dtype)"
   ]
  },
  {
   "cell_type": "code",
   "execution_count": 68,
   "id": "4f0a69f0",
   "metadata": {
    "scrolled": true
   },
   "outputs": [
    {
     "data": {
      "text/plain": [
       "array([21, 27, 25, 24, 16, 20, 23, 21, 23, 25])"
      ]
     },
     "execution_count": 68,
     "metadata": {},
     "output_type": "execute_result"
    }
   ],
   "source": [
    "bmi=data[1]/(data[0]/100)**2 #=(data[0,:]/100)*(data[0,:]/100) #data[1,:]=data[1]\n",
    "bmi.astype('int32')\n"
   ]
  },
  {
   "cell_type": "code",
   "execution_count": 39,
   "id": "3360b4bf",
   "metadata": {
    "scrolled": false
   },
   "outputs": [
    {
     "name": "stdout",
     "output_type": "stream",
     "text": [
      "21.372\n",
      "27.07\n",
      "25.861\n",
      "24.207\n",
      "16.035\n",
      "20.145\n",
      "23.144\n",
      "21.697\n",
      "23.62\n",
      "25.592\n"
     ]
    }
   ],
   "source": [
    "for i in bmi :\n",
    "    print(round(i,3))"
   ]
  },
  {
   "cell_type": "markdown",
   "id": "07b4f241",
   "metadata": {},
   "source": [
    "### Boolean 색인 : 배열[조건식]\n",
    "- 연산 및 비교연산 등이 가능하기 때문에 작동하는 것. \n",
    "- 인덱싱할 값에 조건식을 넣어주는 것에 불과 -> 숫자 인덱싱과 함께 사용 가능 [조건,숫자]\n",
    "- 배열 = 배열[boolean배열]"
   ]
  },
  {
   "cell_type": "code",
   "execution_count": 40,
   "id": "af752c34",
   "metadata": {},
   "outputs": [
    {
     "data": {
      "text/plain": [
       "array(['운비', '수민', '병만', '진웅'], dtype='<U2')"
      ]
     },
     "execution_count": 40,
     "metadata": {},
     "output_type": "execute_result"
    }
   ],
   "source": [
    "name = np.array([\"운비\",\"수민\",\"병만\",\"진웅\"])\n",
    "name"
   ]
  },
  {
   "cell_type": "code",
   "execution_count": 41,
   "id": "cf661195",
   "metadata": {},
   "outputs": [
    {
     "data": {
      "text/plain": [
       "array([False,  True, False,  True])"
      ]
     },
     "execution_count": 41,
     "metadata": {},
     "output_type": "execute_result"
    }
   ],
   "source": [
    "bol = np.array([False,True,False,True])\n",
    "bol"
   ]
  },
  {
   "cell_type": "code",
   "execution_count": 42,
   "id": "4eeb7f4b",
   "metadata": {},
   "outputs": [
    {
     "data": {
      "text/plain": [
       "array(['수민', '진웅'], dtype='<U2')"
      ]
     },
     "execution_count": 42,
     "metadata": {},
     "output_type": "execute_result"
    }
   ],
   "source": [
    "name[bol]"
   ]
  },
  {
   "cell_type": "code",
   "execution_count": 43,
   "id": "46dcb332",
   "metadata": {},
   "outputs": [
    {
     "data": {
      "text/plain": [
       "array([[60, 60],\n",
       "       [70, 70],\n",
       "       [80, 80],\n",
       "       [90, 90]])"
      ]
     },
     "execution_count": 43,
     "metadata": {},
     "output_type": "execute_result"
    }
   ],
   "source": [
    "score = np.array([[60,60],[70,70],[80,80],[90,90]])\n",
    "score"
   ]
  },
  {
   "cell_type": "code",
   "execution_count": 44,
   "id": "3d25aec8",
   "metadata": {},
   "outputs": [
    {
     "data": {
      "text/plain": [
       "array([ True, False, False, False])"
      ]
     },
     "execution_count": 44,
     "metadata": {},
     "output_type": "execute_result"
    }
   ],
   "source": [
    "#내가 찾고자 하는 이름이 있는지 색인!\n",
    "name == \"운비\""
   ]
  },
  {
   "cell_type": "code",
   "execution_count": 45,
   "id": "79a13c83",
   "metadata": {},
   "outputs": [
    {
     "data": {
      "text/plain": [
       "array([[60, 60]])"
      ]
     },
     "execution_count": 45,
     "metadata": {},
     "output_type": "execute_result"
    }
   ],
   "source": [
    "#내가 찾고자 하는 이름의 점수를 색인하기\n",
    "score[name == '운비']"
   ]
  },
  {
   "cell_type": "code",
   "execution_count": 46,
   "id": "a6f31283",
   "metadata": {},
   "outputs": [
    {
     "data": {
      "text/plain": [
       "array([], shape=(0, 2), dtype=int32)"
      ]
     },
     "execution_count": 46,
     "metadata": {},
     "output_type": "execute_result"
    }
   ],
   "source": [
    "score[name=='다연']  #없는 값 넣으면 빈 배열 반환"
   ]
  },
  {
   "cell_type": "markdown",
   "id": "b6bc18b3",
   "metadata": {},
   "source": [
    "### np함수2  \n",
    "함수 문법같은 거 종종 바뀌는 편.. "
   ]
  },
  {
   "cell_type": "markdown",
   "id": "95a64f0b",
   "metadata": {},
   "source": [
    "- np.sum(arr) -> arr.sum() 간편한 형식 지원해줌\n",
    "- np.mean(arr) -> arr.mean() 간편한 형식 지원해줌\n",
    "- np.sqrt(arr)\n",
    "- np.abs(arr)\n",
    "- np.unique(arr) : 배열 내의 중복값 제거"
   ]
  },
  {
   "cell_type": "code",
   "execution_count": 47,
   "id": "ec20654d",
   "metadata": {},
   "outputs": [
    {
     "data": {
      "text/plain": [
       "array([[10,  8,  6,  2,  9],\n",
       "       [ 6, 10, 10,  2,  9]])"
      ]
     },
     "execution_count": 47,
     "metadata": {},
     "output_type": "execute_result"
    }
   ],
   "source": [
    "#sum() : 합계를 구할 수 있는 함수\n",
    "#arr 1~10을 사용하여 크기가 2행 5열인 array만들기\n",
    "arr141=np.random.randint(1,11, size=(2,5))\n",
    "arr141"
   ]
  },
  {
   "cell_type": "code",
   "execution_count": 48,
   "id": "9b0a2f56",
   "metadata": {},
   "outputs": [
    {
     "data": {
      "text/plain": [
       "72"
      ]
     },
     "execution_count": 48,
     "metadata": {},
     "output_type": "execute_result"
    }
   ],
   "source": [
    "#형식1 : 변수명.sum() ---- 더 간단해서 많이 쓰임\n",
    "arr141.sum()"
   ]
  },
  {
   "cell_type": "code",
   "execution_count": 49,
   "id": "d06402c6",
   "metadata": {},
   "outputs": [
    {
     "data": {
      "text/plain": [
       "72"
      ]
     },
     "execution_count": 49,
     "metadata": {},
     "output_type": "execute_result"
    }
   ],
   "source": [
    "#형식2 : 사용하고자 하는 함수(매개변수는 변수명)\n",
    "np.sum(arr141)"
   ]
  },
  {
   "cell_type": "code",
   "execution_count": 50,
   "id": "24c054bb",
   "metadata": {
    "scrolled": false
   },
   "outputs": [
    {
     "name": "stdout",
     "output_type": "stream",
     "text": [
      "7.2\n",
      "7.2\n"
     ]
    }
   ],
   "source": [
    "# 평균 구하는 함수 : mean() -> 전체 요솟값에 대해 평균을 구해주는 함수\n",
    "print(arr141.mean())\n",
    "print(np.mean(arr141))"
   ]
  },
  {
   "cell_type": "code",
   "execution_count": 51,
   "id": "940a8d96",
   "metadata": {
    "scrolled": true
   },
   "outputs": [
    {
     "data": {
      "text/plain": [
       "array([[3.16227766, 2.82842712, 2.44948974, 1.41421356, 3.        ],\n",
       "       [2.44948974, 3.16227766, 3.16227766, 1.41421356, 3.        ]])"
      ]
     },
     "execution_count": 51,
     "metadata": {},
     "output_type": "execute_result"
    }
   ],
   "source": [
    "# 제곱근 구하는 함수 : np.sqrt(arr). \n",
    "np.sqrt(arr141)"
   ]
  },
  {
   "cell_type": "code",
   "execution_count": 52,
   "id": "ab9449d7",
   "metadata": {},
   "outputs": [
    {
     "data": {
      "text/plain": [
       "array([3, 2, 1])"
      ]
     },
     "execution_count": 52,
     "metadata": {},
     "output_type": "execute_result"
    }
   ],
   "source": [
    "# 절대값 구하는 함수 : np.abs(arr)\n",
    "arr142=np.array([-3,-2,-1])\n",
    "np.abs(arr142)\n"
   ]
  }
 ],
 "metadata": {
  "kernelspec": {
   "display_name": "Python 3",
   "language": "python",
   "name": "python3"
  },
  "language_info": {
   "codemirror_mode": {
    "name": "ipython",
    "version": 3
   },
   "file_extension": ".py",
   "mimetype": "text/x-python",
   "name": "python",
   "nbconvert_exporter": "python",
   "pygments_lexer": "ipython3",
   "version": "3.6.13"
  }
 },
 "nbformat": 4,
 "nbformat_minor": 5
}
