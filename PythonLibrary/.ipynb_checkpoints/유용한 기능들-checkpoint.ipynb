{
 "cells": [
  {
   "cell_type": "markdown",
   "id": "d5f99800",
   "metadata": {},
   "source": [
    "- 함수 설명 보기 : 함수? 또는 함수에 커서두고 shift tap\n",
    "- 변수/객체의 타입 보기 : type(변수/객체)\n",
    "    - __numpy객체.dtype__ \n",
    "- "
   ]
  }
 ],
 "metadata": {
  "kernelspec": {
   "display_name": "Python 3",
   "language": "python",
   "name": "python3"
  },
  "language_info": {
   "codemirror_mode": {
    "name": "ipython",
    "version": 3
   },
   "file_extension": ".py",
   "mimetype": "text/x-python",
   "name": "python",
   "nbconvert_exporter": "python",
   "pygments_lexer": "ipython3",
   "version": "3.8.8"
  }
 },
 "nbformat": 4,
 "nbformat_minor": 5
}
