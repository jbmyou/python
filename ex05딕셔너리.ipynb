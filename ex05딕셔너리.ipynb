{
 "cells": [
  {
   "cell_type": "markdown",
   "id": "13831283",
   "metadata": {},
   "source": [
    "# 딕셔너리"
   ]
  },
  {
   "cell_type": "markdown",
   "id": "d7b69590",
   "metadata": {},
   "source": [
    "- 'people:사람, baseball:야구'처럼 key와 value를 한쌍으로 갖는 자료형\n",
    "- key는 해당 딕셔너리 내에서 동일 차원에선 중복될 수 없고 변하지 않는다. immutable(메모리와 상관없고 직접 수정명령어가 없다는 말일뿐                     immutalbe - 딕셔너리의key, 문자열, (튜플)\n",
    "- value는 중복될 수도 있고, 변할 수도 있다. 없을수는 없다. mutable \n",
    "- 문법 : 딕셔너리명 = {key : value, key : value ....}   key의 타입은 정수, 문자열 상관없다.\n",
    "- 순서(index)없다.\n",
    "- 빈딕셔너리를 선언할 수는 있으나 일부 key와 value를 비울 수는 없다. (=not null 제한조건)(\\''나 \"\"는 가능)\n",
    "- java의 map(※파이썬의 map(def, iderable)은 요소를 순서대로 함수(def)에 넣은 결과값을 반환)  \n",
    "-----------------------------------------------\n",
    "- 관련 함수  \n",
    "    - dict[key] = value 삽입 및 수정(순서없으니 index개념은 안 씀)\n",
    "    - .get(key) : 해당 키값 불러오기\n",
    "    - .clear() : 딕셔너리 요소 전체 삭제\n",
    "    - .keys() : 키 전체 __리스트로__ 가져오기  \n",
    "    - .values() : 값 전체 __리스트로__ 가져오기  \n",
    "    - .items() : 키와 값을 __리스트로__ 가져오기 \n",
    "        - 위에 3개의 함수는 리턴값이 리스트라서 list()나 for in 문과 같이 쓰이는 경우가 많다.!!\n",
    "        - list()나 for in 문에 딕셔너리를 바로 사용하면 키값만 나오는 거 유의!!\n",
    "    \n",
    "-----------------------------------------------\n",
    "- 2차원 딕셔너리는 사실상 테이블.(바깥 key=col, 안쪽 key=index)\n",
    "- 뭔가 테이블 형태의 메모리구조가 생성되나 했더니 그건 아닌가봐.. \n",
    "-----------------------------------------------\n",
    "- 별첨\n",
    "    - 값이 있는지 확인하는 키워드 in ('값' in 변수명-->결과값은 True/False)\n",
    "    - 변수의 타입을 확인하는 함수 : type(변수)"
   ]
  },
  {
   "cell_type": "code",
   "execution_count": 8,
   "id": "e92bb6eb",
   "metadata": {},
   "outputs": [
    {
     "data": {
      "text/plain": [
       "{'a': {'a': '가', 'b': '나'}, 'b': {2: '다', 3: '라'}}"
      ]
     },
     "execution_count": 8,
     "metadata": {},
     "output_type": "execute_result"
    }
   ],
   "source": [
    "temp = {'a':{'a':'가','b':'나'},\n",
    "        'b':{2:'다',3:'라'}}\n",
    "temp"
   ]
  },
  {
   "cell_type": "code",
   "execution_count": 9,
   "id": "6af25202",
   "metadata": {
    "scrolled": true
   },
   "outputs": [
    {
     "data": {
      "text/html": [
       "<div>\n",
       "<style scoped>\n",
       "    .dataframe tbody tr th:only-of-type {\n",
       "        vertical-align: middle;\n",
       "    }\n",
       "\n",
       "    .dataframe tbody tr th {\n",
       "        vertical-align: top;\n",
       "    }\n",
       "\n",
       "    .dataframe thead th {\n",
       "        text-align: right;\n",
       "    }\n",
       "</style>\n",
       "<table border=\"1\" class=\"dataframe\">\n",
       "  <thead>\n",
       "    <tr style=\"text-align: right;\">\n",
       "      <th></th>\n",
       "      <th>a</th>\n",
       "      <th>b</th>\n",
       "    </tr>\n",
       "  </thead>\n",
       "  <tbody>\n",
       "    <tr>\n",
       "      <th>a</th>\n",
       "      <td>가</td>\n",
       "      <td>NaN</td>\n",
       "    </tr>\n",
       "    <tr>\n",
       "      <th>b</th>\n",
       "      <td>나</td>\n",
       "      <td>NaN</td>\n",
       "    </tr>\n",
       "    <tr>\n",
       "      <th>2</th>\n",
       "      <td>NaN</td>\n",
       "      <td>다</td>\n",
       "    </tr>\n",
       "    <tr>\n",
       "      <th>3</th>\n",
       "      <td>NaN</td>\n",
       "      <td>라</td>\n",
       "    </tr>\n",
       "  </tbody>\n",
       "</table>\n",
       "</div>"
      ],
      "text/plain": [
       "     a    b\n",
       "a    가  NaN\n",
       "b    나  NaN\n",
       "2  NaN    다\n",
       "3  NaN    라"
      ]
     },
     "execution_count": 9,
     "metadata": {},
     "output_type": "execute_result"
    }
   ],
   "source": [
    "import pandas as pd\n",
    "pd.DataFrame(temp)"
   ]
  },
  {
   "cell_type": "code",
   "execution_count": 19,
   "id": "2f6caaa8",
   "metadata": {
    "scrolled": true
   },
   "outputs": [
    {
     "name": "stdout",
     "output_type": "stream",
     "text": [
      "{0: '스트라이크', 1: '볼', 3: '삼진'}\n"
     ]
    },
    {
     "data": {
      "text/plain": [
       "dict"
      ]
     },
     "execution_count": 19,
     "metadata": {},
     "output_type": "execute_result"
    }
   ],
   "source": [
    "pVSh = {0:'스트라이크',1:'볼',3:'삼진'}\n",
    "print(pVSh)\n",
    "type(pVSh)"
   ]
  },
  {
   "cell_type": "code",
   "execution_count": 3,
   "id": "0e5783e8",
   "metadata": {
    "scrolled": false
   },
   "outputs": [
    {
     "name": "stdout",
     "output_type": "stream",
     "text": [
      "볼\n",
      "1루타\n",
      "{0: '스트라이크', 1: '1루타', 3: '삼진', 4: '홈런'}\n"
     ]
    }
   ],
   "source": [
    "print(pVSh[1])\n",
    "pVSh[1]='1루타'#------------------값 수정 및 삽입. 만약 키값이 없는 키값이라면 추가가 됨.\n",
    "pVSh[4]='홈런'\n",
    "print(pVSh[1])\n",
    "print(pVSh)"
   ]
  },
  {
   "cell_type": "code",
   "execution_count": 11,
   "id": "6011ca6f",
   "metadata": {
    "scrolled": false
   },
   "outputs": [
    {
     "name": "stdout",
     "output_type": "stream",
     "text": [
      "{'노래제목': '아무노래', '가수': '지코', '날짜': '2020.01.13'}\n",
      "{'노래제목': '빙글빙글', '가수': '나미', '날짜': '2008.05.21'}\n"
     ]
    }
   ],
   "source": [
    "dic1={'노래제목':'아무노래','가수':'지코','날짜':'2020.01.13'}\n",
    "dic2={'노래제목':'빙글빙글','가수':'나미','날짜':'2008.05.21'}\n",
    "print(dic1)\n",
    "print(dic2)"
   ]
  },
  {
   "cell_type": "code",
   "execution_count": 44,
   "id": "9263e246",
   "metadata": {},
   "outputs": [
    {
     "data": {
      "text/plain": [
       "{0: '스트라이크', 3: '삼진'}"
      ]
     },
     "execution_count": 44,
     "metadata": {},
     "output_type": "execute_result"
    }
   ],
   "source": [
    "del pVSh[1]\n",
    "pVSh"
   ]
  },
  {
   "cell_type": "markdown",
   "id": "daff6d88",
   "metadata": {},
   "source": [
    "- 키 값 가져오기 : 딕셔너리[키값] vs 딕셔터리.get(키값)"
   ]
  },
  {
   "cell_type": "code",
   "execution_count": 23,
   "id": "a30b3cf7",
   "metadata": {},
   "outputs": [
    {
     "data": {
      "text/plain": [
       "'아무노래'"
      ]
     },
     "execution_count": 23,
     "metadata": {},
     "output_type": "execute_result"
    }
   ],
   "source": [
    "dic1['노래제목']#------------키값이 없다면 KeyError 뜸. 이 형식은 수정할 때 쓰는 형식이니"
   ]
  },
  {
   "cell_type": "code",
   "execution_count": 24,
   "id": "a3b8593f",
   "metadata": {
    "scrolled": true
   },
   "outputs": [
    {
     "name": "stdout",
     "output_type": "stream",
     "text": [
      "None\n"
     ]
    }
   ],
   "source": [
    "print(dic1.get('래제목'))#--------키값이 없어도 에러나지않고 print할 경우 none이라고 출력됨"
   ]
  },
  {
   "cell_type": "code",
   "execution_count": 47,
   "id": "ad72982a",
   "metadata": {
    "scrolled": true
   },
   "outputs": [
    {
     "data": {
      "text/plain": [
       "dict_keys(['노래제목', '가수', '날짜'])"
      ]
     },
     "execution_count": 47,
     "metadata": {},
     "output_type": "execute_result"
    }
   ],
   "source": [
    "#딕셔너리 안에 있는 key를 리스트로 불러오기\n",
    "dic1.keys()"
   ]
  },
  {
   "cell_type": "code",
   "execution_count": 48,
   "id": "f0395fc0",
   "metadata": {},
   "outputs": [
    {
     "data": {
      "text/plain": [
       "[1, 2, 3]"
      ]
     },
     "execution_count": 48,
     "metadata": {},
     "output_type": "execute_result"
    }
   ],
   "source": [
    "list([1,2,3])"
   ]
  },
  {
   "cell_type": "code",
   "execution_count": 30,
   "id": "3823dec4",
   "metadata": {},
   "outputs": [
    {
     "name": "stdout",
     "output_type": "stream",
     "text": [
      "<class 'dict_keys'>\n",
      "<class 'list'>\n"
     ]
    }
   ],
   "source": [
    "temp = dic1.keys()\n",
    "print(type(temp))\n",
    "list(temp)\n",
    "print(type(list(temp)))"
   ]
  },
  {
   "cell_type": "code",
   "execution_count": 50,
   "id": "e4fa8444",
   "metadata": {},
   "outputs": [
    {
     "data": {
      "text/plain": [
       "['아무노래', '지코', '2020.01.13']"
      ]
     },
     "execution_count": 50,
     "metadata": {},
     "output_type": "execute_result"
    }
   ],
   "source": [
    "#딕셔너리 안에 있는 value리스트를 가져오는 방법\n",
    "list(dic1.values())"
   ]
  },
  {
   "cell_type": "code",
   "execution_count": 38,
   "id": "ef64d023",
   "metadata": {
    "scrolled": false
   },
   "outputs": [
    {
     "name": "stdout",
     "output_type": "stream",
     "text": [
      "노래제목 가수 날짜 \n",
      "\n",
      "['노래제목', '가수', '날짜']\n",
      "\n",
      "아무노래 지코 2020.01.13 \n",
      "\n",
      "노래제목 아무노래\n",
      "가수 지코\n",
      "날짜 2020.01.13\n",
      "\n",
      "\n",
      "노래제목\n",
      "가수\n",
      "날짜\n"
     ]
    }
   ],
   "source": [
    "#딕셔너리와 for문을 같이 사용하는 방법 - in 뒤에 딕셔너리를 바로 쓸 수는 없고, 딕셔너리를 리스\n",
    "keylist=[]\n",
    "for key in dic1.keys():\n",
    "    keylist.append(key)  #----------미리 배열 선언한 뒤 배열에 담기\n",
    "    print(key, end=\" \")  #----------단순출력\n",
    "print(\"\")\n",
    "print(\"\")\n",
    "print(keylist)\n",
    "print(\"\")\n",
    "for value in dic1.values():\n",
    "     print(value, end=\" \")\n",
    "print() \n",
    "print()\n",
    "for key, value in dic1.items():\n",
    "    print(key, value)\n",
    "print() \n",
    "print()\n",
    "\n",
    "for key in dic1 : \n",
    "    print(key)"
   ]
  },
  {
   "cell_type": "code",
   "execution_count": 13,
   "id": "4ab4b7b4",
   "metadata": {},
   "outputs": [
    {
     "data": {
      "text/plain": [
       "True"
      ]
     },
     "execution_count": 13,
     "metadata": {},
     "output_type": "execute_result"
    }
   ],
   "source": [
    "#자료구조 안에 해당하는 데이터가 존재하는지 여부를 물어보고 싶다면\n",
    "'가수' in dic1"
   ]
  },
  {
   "cell_type": "markdown",
   "id": "a42d05aa",
   "metadata": {},
   "source": [
    "# 딕셔너리를 활용한 최종실습"
   ]
  },
  {
   "cell_type": "markdown",
   "id": "05c382b8",
   "metadata": {},
   "source": [
    "- 이중 딕셔너리는 구조의 특성상 이중 for문을 활용하자"
   ]
  },
  {
   "cell_type": "code",
   "execution_count": 40,
   "id": "e5c3fce0",
   "metadata": {},
   "outputs": [],
   "source": [
    "score_dic = {'나효주' : {'수학':100, '영어':100, '과학':50},\n",
    "            '정명은' : {'영어':80,'과학':100,'수학':95},\n",
    "            '김영웅':{'과학':70,'수학':50,'영어':60}}"
   ]
  },
  {
   "cell_type": "code",
   "execution_count": 41,
   "id": "21231b14",
   "metadata": {},
   "outputs": [
    {
     "data": {
      "text/plain": [
       "{'나효주': {'수학': 100, '영어': 100, '과학': 50},\n",
       " '정명은': {'영어': 80, '과학': 100, '수학': 95},\n",
       " '김영웅': {'과학': 70, '수학': 50, '영어': 60}}"
      ]
     },
     "execution_count": 41,
     "metadata": {},
     "output_type": "execute_result"
    }
   ],
   "source": [
    "score_dic"
   ]
  },
  {
   "cell_type": "markdown",
   "id": "53c4a8b9",
   "metadata": {},
   "source": [
    "### 이중 딕셔너리 그룹합 구하기!!(이 로직은 숙지하자)"
   ]
  },
  {
   "cell_type": "markdown",
   "id": "15d03abe",
   "metadata": {},
   "source": [
    "- 이중 딕셔너리는 표이므로 칼럼은 제한적이지만 값(행)은 엄청나게 많을 수 있다. 즉 반드시 for문을 활용하는 스킬이 있어야 한다.\n",
    "- 필요개념 \n",
    "    - 딕셔너리는 key와 value를 구분하여 for in문으로 받을 수 있다.\n",
    "    - 개별 value는 .get(key)로 받는다.\n",
    "- 과목별 합계(그룹합)를 구할거니 그 값을 담을 딕셔너리를 만든다.  \n",
    "- 즉 궁극적으로 찾을 값은 inner_dict의 value의 합 : 실행문장!!\n",
    "    - ★★★이중for문을 통해 내부dict의 key를 받고 실행문장에서 value를 get한다. 그리고 반복적으로 합해준다.\n",
    "- 외for문에서 불필요한 pk는 버리고 value를 받는다. 그 value는 여전히 dict이다.\n",
    "    - ★순서가 엉망인 내부dict에서 이제 pk는 과목명(내부dict의key)이다.\n",
    "- 내for문에서 외for문에서 받은 dict의 키값을 받는다. \n",
    "- 실행문장에서 해당 키값을 통해 개별 value를 받고 누적시킨 값을 미리만들어둔 딕셔너리에 넣는다. dict[key] = value.get[key]\n",
    "- 출력한다."
   ]
  },
  {
   "cell_type": "code",
   "execution_count": 74,
   "id": "520534a4",
   "metadata": {},
   "outputs": [
    {
     "name": "stdout",
     "output_type": "stream",
     "text": [
      "{'영어': 240, '수학': 245, '과학': 220}\n"
     ]
    }
   ],
   "source": [
    "subject_dict={'영어':0,'수학':0,'과학':0}\n",
    "\n",
    "for inner_dict in score_dic.values():\n",
    "    for inner_key in inner_dict.keys():\n",
    "        subject_dict[inner_key] += inner_dict.get(inner_key)\n",
    "print(subject_dict)"
   ]
  },
  {
   "cell_type": "code",
   "execution_count": 57,
   "id": "5c8ada3b",
   "metadata": {
    "scrolled": false
   },
   "outputs": [
    {
     "data": {
      "text/html": [
       "<div>\n",
       "<style scoped>\n",
       "    .dataframe tbody tr th:only-of-type {\n",
       "        vertical-align: middle;\n",
       "    }\n",
       "\n",
       "    .dataframe tbody tr th {\n",
       "        vertical-align: top;\n",
       "    }\n",
       "\n",
       "    .dataframe thead th {\n",
       "        text-align: right;\n",
       "    }\n",
       "</style>\n",
       "<table border=\"1\" class=\"dataframe\">\n",
       "  <thead>\n",
       "    <tr style=\"text-align: right;\">\n",
       "      <th></th>\n",
       "      <th>나효주</th>\n",
       "      <th>정명은</th>\n",
       "      <th>김영웅</th>\n",
       "      <th>과목별 총점</th>\n",
       "    </tr>\n",
       "  </thead>\n",
       "  <tbody>\n",
       "    <tr>\n",
       "      <th>수학</th>\n",
       "      <td>100.00</td>\n",
       "      <td>95.00</td>\n",
       "      <td>50.00</td>\n",
       "      <td>81.67</td>\n",
       "    </tr>\n",
       "    <tr>\n",
       "      <th>영어</th>\n",
       "      <td>100.00</td>\n",
       "      <td>80.00</td>\n",
       "      <td>60.00</td>\n",
       "      <td>80.00</td>\n",
       "    </tr>\n",
       "    <tr>\n",
       "      <th>과학</th>\n",
       "      <td>50.00</td>\n",
       "      <td>100.00</td>\n",
       "      <td>70.00</td>\n",
       "      <td>73.33</td>\n",
       "    </tr>\n",
       "    <tr>\n",
       "      <th>평균</th>\n",
       "      <td>83.33</td>\n",
       "      <td>91.67</td>\n",
       "      <td>60.00</td>\n",
       "      <td>78.33</td>\n",
       "    </tr>\n",
       "  </tbody>\n",
       "</table>\n",
       "</div>"
      ],
      "text/plain": [
       "      나효주    정명은   김영웅  과목별 총점\n",
       "수학 100.00  95.00 50.00   81.67\n",
       "영어 100.00  80.00 60.00   80.00\n",
       "과학  50.00 100.00 70.00   73.33\n",
       "평균  83.33  91.67 60.00   78.33"
      ]
     },
     "execution_count": 57,
     "metadata": {},
     "output_type": "execute_result"
    }
   ],
   "source": [
    "x=pd.DataFrame(score_dic)\n",
    "x['과목별 총점']=x.mean(axis=1)\n",
    "x.loc['평균']=x.mean()\n",
    "x"
   ]
  }
 ],
 "metadata": {
  "kernelspec": {
   "display_name": "Python 3.9.12 ('base')",
   "language": "python",
   "name": "python3"
  },
  "language_info": {
   "codemirror_mode": {
    "name": "ipython",
    "version": 3
   },
   "file_extension": ".py",
   "mimetype": "text/x-python",
   "name": "python",
   "nbconvert_exporter": "python",
   "pygments_lexer": "ipython3",
   "version": "3.9.12"
  },
  "vscode": {
   "interpreter": {
    "hash": "bde8bb0732dc4e1332dd7de11e8fd6f025a3253132c4935c7925a70cc079a91c"
   }
  }
 },
 "nbformat": 4,
 "nbformat_minor": 5
}
