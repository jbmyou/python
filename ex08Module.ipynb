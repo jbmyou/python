{
 "cells": [
  {
   "cell_type": "markdown",
   "id": "8d846e2d",
   "metadata": {},
   "source": [
    "# 모듈\n",
    "- (생성)\n",
    "    -변수, 함수, 클래스 등 작성\n",
    "    - file -> downdoad as -> python(.py) -> 다운로드폴더에서 주피터 파일목록으로 드래그앤드랍->upload\n",
    "- (사용)\n",
    "    - import 모듈명 as 별칭\n",
    "    - 별칭.변수 또는 별칭.함수.."
   ]
  },
  {
   "cell_type": "code",
   "execution_count": 1,
   "id": "26a1d70f",
   "metadata": {},
   "outputs": [],
   "source": [
    "def add_num(num1, num2):\n",
    "    return num1+num2"
   ]
  },
  {
   "cell_type": "code",
   "execution_count": 2,
   "id": "90ecd1ec",
   "metadata": {},
   "outputs": [],
   "source": [
    "def sub_num(num1, num2):\n",
    "    return num1-num2"
   ]
  },
  {
   "cell_type": "code",
   "execution_count": 3,
   "id": "f0c7d31d",
   "metadata": {},
   "outputs": [],
   "source": [
    "#라이브러리 생성중 ----> 자바의 .jar\n",
    "#함수, 클래스, 변수를 여러개 가지고 있는 하나의 파일"
   ]
  },
  {
   "cell_type": "code",
   "execution_count": null,
   "id": "eaf04ebd",
   "metadata": {},
   "outputs": [],
   "source": []
  }
 ],
 "metadata": {
  "kernelspec": {
   "display_name": "Python 3.9.12 ('base')",
   "language": "python",
   "name": "python3"
  },
  "language_info": {
   "codemirror_mode": {
    "name": "ipython",
    "version": 3
   },
   "file_extension": ".py",
   "mimetype": "text/x-python",
   "name": "python",
   "nbconvert_exporter": "python",
   "pygments_lexer": "ipython3",
   "version": "3.9.12"
  },
  "vscode": {
   "interpreter": {
    "hash": "bde8bb0732dc4e1332dd7de11e8fd6f025a3253132c4935c7925a70cc079a91c"
   }
  }
 },
 "nbformat": 4,
 "nbformat_minor": 5
}
