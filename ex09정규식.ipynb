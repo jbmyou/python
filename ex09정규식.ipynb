{
 "cells": [
  {
   "cell_type": "markdown",
   "metadata": {},
   "source": [
    "### 메타 문자\n",
    "1. | : 또는\n",
    "1. ^(\\A) : 처음에 나올 것. 단 re.M옵션을 사용하면 매줄마다 검색. 무조건 전체의 처음은 match함수 또는 \\A\n",
    "1. $(\\Z) : 문자열의 끝에 나올 것. 역시 re.M옵션을 사용하면 \\Z 와 달리 매 라인마다 검사.\n",
    "1. ? : {0,1}\n",
    "1. \\* : {,} 즉 {0,} 앞문자가 0~무한대\n",
    "1. \\+ : {1,}앞문자가 1~무한대\n",
    "1. \\ : 이스케이프. 문자에 메타의미를 부여하거나(\\s,\\S,\\d,\\D,\\w,\\W), 메타문자를 일반문자로\n",
    "1. . : \\n(개행)을 제외한 모든 것 하나. 스트림으로 만들때 필요할듯\n",
    "1. ( ) : 그룹. \\g<1> : 매칭된 1번 그룹(sub할 때 매우 유용)\n",
    "1. {m,n} : 앞문자가 m~n번 반복. m생략시 0, n생략시 무한대. {m}은 m번 반복\n",
    "1. [ ] : 문자클래스(집합). []안에 있는 문자 중 어떤거라도 나오면 조건만족. 주의) []안에 -는 범위, ^는 부정의 의미. 그외 메타문자는 문자 그대로를 의미하게 됨  \n",
    "1. \\그룹넘버 : n번째 그룹에 대한 재참조 == (?P=그룹네임)  ex) re.compile(r'(\\b\\w+)\\s\\1') 지정한 첫번째 그룹(\\b\\w+)이 ' the'였다면 ' the the'여야 결국 조건 만족\n",
    "1. (?P<그룹이름>그룹조건) : ?는 정규식 확장표현으로, 그룹 이름을 짓고 매핑한다.\n",
    "- r'~\\\\~~' : 백슬러쉬를 백슬러쉬 자체로 인식하게 해주는 게 r(Raw String)\n"
   ]
  },
  {
   "cell_type": "code",
   "execution_count": 2,
   "metadata": {},
   "outputs": [],
   "source": [
    "import re"
   ]
  },
  {
   "cell_type": "code",
   "execution_count": 30,
   "metadata": {},
   "outputs": [
    {
     "name": "stdout",
     "output_type": "stream",
     "text": [
      "\\s :  [' ', ' ', ' ', ' ']\n",
      "\\S :  ['', '', '', '', '', '', '', '', '', '', '', '', '', '', '', '', '', '', '', '', '', '', '', '', '', '', '', '', '', '', '', '', '', '', '', '', '', '']\n",
      "\\w :  ['_', '1', '2', '3', '김', '0', '5', '군', '_', '家', '½', 'ㄱ', 'ㄴ', '뷃', 'a', 'c', 'g']\n",
      "[] :  ['_', '1', '2', '3', '?', '김', '0', '5', '군', '_', 'ㄱ', 'ㄴ', '뷃', 'a', 'c', 'g', '?']\n",
      "\\W :  ['?', '.', '!', '@', '#', '$', '%', '^', '&', '*', '(', ')', ' ', 'ⓐ', '-', '{', '}', ' ', ' ', ' ', '[', ']', '+', '?', '.', ',', ':', ';', \"'\", \"'\"]\n",
      ".  :  ['_', '1', '2', '3', '?', '김', '0', '.', '5', '군', '_', '!', '@', '#', '$', '%', '^', '&', '*', '(', ')', ' ', '家', '½', 'ⓐ', '-', '{', '}', ' ', ' ', ' ', '[', ']', 'ㄱ', 'ㄴ', '뷃', 'a', 'c', 'g', '+', '?', '.', ',', ':', ';', \"'\", \"'\"]\n",
      "\\d  :  ['1', '2', '3', '0', '5']\n",
      "\\D  :  ['_', '?', '김', '.', '군', '_', '!', '@', '#', '$', '%', '^', '&', '*', '(', ')', ' ', '家', '½', 'ⓐ', '-', '{', '}', ' ', ' ', ' ', '[', ']', 'ㄱ', 'ㄴ', '뷃', 'a', 'c', 'g', '+', '?', '.', ',', ':', ';', \"'\", \"'\"]\n"
     ]
    }
   ],
   "source": [
    "a = \"_123?김0.5군_!@#$%^&*() 家½ⓐ-{}   []ㄱㄴ뷃acg\\\n",
    "+?.,:;''\"                                   # 0.5는 0과 .과 5이다.\n",
    "p1 = re.compile(\"\\s\") #공백(white space) == [\\t\\n\\r\\f\\v] 숙ㄿ cf) \\b는 공백 자체가 아니라 공백에 의해 구분되어 있는지를 봄.\n",
    "p2 = re.compile(\"\\S\") #공백아닌 모든 것 \n",
    "p3 = re.compile(\"\\w\") #글자(모든나라),숫자(수학적 숫자표현 포함(½)), _\n",
    "p3_ = re.compile(\"[0-9a-zA-Zㄱ-ㅎ가-힣_?]\") #명시한 기호만(명시한 나라의 언어만, ½ 안 됨, 메타문자도 []안에서는 기호일뿐)\n",
    "p4 = re.compile(\"\\W\") #기호(글자, 숫자, _ 아닌 기호)\n",
    "p5 = re.compile(\".\") #스트림으로 만들때 필요한듯.\n",
    "print(\"\\s : \", p1.findall(a))\n",
    "print(\"\\S : \", p2.findall(a))\n",
    "print(\"\\w : \", p3.findall(a))\n",
    "print(\"[] : \", p3_.findall(a))\n",
    "print(\"\\W : \", p4.findall(a))\n",
    "print(\".  : \", p5.findall(a))\n",
    "print(\"\\d  : \", re.findall(\"\\d\", a))\n",
    "print(\"\\D  : \", re.findall(\"\\D\", a))\n"
   ]
  },
  {
   "cell_type": "code",
   "execution_count": 6,
   "metadata": {},
   "outputs": [
    {
     "name": "stdout",
     "output_type": "stream",
     "text": [
      "Requirement already satisfied: tqdm in c:\\users\\jbmyo\\anaconda3\\lib\\site-packages (4.64.0)\n",
      "Requirement already satisfied: colorama in c:\\users\\jbmyo\\anaconda3\\lib\\site-packages (from tqdm) (0.4.4)\n"
     ]
    }
   ],
   "source": [
    "!pip install tqdm"
   ]
  },
  {
   "cell_type": "code",
   "execution_count": 4,
   "metadata": {},
   "outputs": [
    {
     "data": {
      "application/vnd.jupyter.widget-view+json": {
       "model_id": "54174a4eda7e481db0e4705d25ebc8f6",
       "version_major": 2,
       "version_minor": 0
      },
      "text/plain": [
       "  0%|          | 0/10 [00:00<?, ?it/s]"
      ]
     },
     "metadata": {},
     "output_type": "display_data"
    },
    {
     "name": "stdout",
     "output_type": "stream",
     "text": [
      "1\n",
      "1\n",
      "1\n",
      "1\n",
      "1\n",
      "1\n",
      "1\n",
      "1\n",
      "1\n",
      "1\n"
     ]
    }
   ],
   "source": [
    "from tqdm.notebook import tqdm\n",
    "import time\n",
    "for i in tqdm(range(10)) :\n",
    "    time.sleep(0.1)\n",
    "    print(1)\n"
   ]
  },
  {
   "cell_type": "code",
   "execution_count": 70,
   "metadata": {},
   "outputs": [
    {
     "data": {
      "text/plain": [
       "['ct']"
      ]
     },
     "execution_count": 70,
     "metadata": {},
     "output_type": "execute_result"
    }
   ],
   "source": [
    "cat = \"ctabct\"\n",
    "p1 = re.compile(\"^ca{,}t\")\n",
    "p1.findall(cat)"
   ]
  },
  {
   "cell_type": "code",
   "execution_count": 26,
   "metadata": {},
   "outputs": [
    {
     "name": "stdout",
     "output_type": "stream",
     "text": [
      "\n",
      "park 800905-1049118\n",
      "kim 700905-1059119\n",
      "jeon 800153-2234567\n",
      "\n",
      "\n",
      "park 800905-1******\n",
      "kim 700905-1******\n",
      "jeon 800153-2******\n",
      "\n"
     ]
    }
   ],
   "source": [
    "\n",
    "data = \"\"\"\n",
    "park 800905-1049118\n",
    "kim 700905-1059119\n",
    "jeon 800153-2234567\n",
    "\"\"\"\n",
    "p1 = re.compile(\"(_\\d{5})(-)(\\d)(\\d{6})\") #[-]나 -나 일단은 결과 동일. p1은 매치되는게 없어서 원본 그대로 출력\n",
    "p2 = re.compile(\"(\\d{5})([-])(\\d)(\\d{6})\")\n",
    "\n",
    "print(p1.sub(\"\\g<1>\\g<2>\\g<3>******\", data))\n",
    "print(p2.sub(\"\\g<1>-\\g<3>******\", data))\n"
   ]
  },
  {
   "cell_type": "markdown",
   "metadata": {},
   "source": [
    "### 컴파일 옵션 MSIX\n",
    ": __\"컴파일\"__ 옵션이다.  re.compile('정규식', re.S)\n",
    "- M(MULTILINE) : 여러 줄과 매치(^,$ 과 관계 있는 옵션)\n",
    "- S(DOTALL) : .에 개행문자까지 포함시켜라.\n",
    "- I(IGNORECASE) : 대소문자 구분 하지마\n",
    "- X(VERBOSE) : 정규식을 보기편하게 만들거나 주석을 달 수 있다."
   ]
  },
  {
   "cell_type": "code",
   "execution_count": 1,
   "metadata": {},
   "outputs": [
    {
     "ename": "NameError",
     "evalue": "name 're' is not defined",
     "output_type": "error",
     "traceback": [
      "\u001b[1;31m---------------------------------------------------------------------------\u001b[0m",
      "\u001b[1;31mNameError\u001b[0m                                 Traceback (most recent call last)",
      "\u001b[1;32me:\\학원\\PythonStudy\\정규식.ipynb 셀 7\u001b[0m in \u001b[0;36m<cell line: 5>\u001b[1;34m()\u001b[0m\n\u001b[0;32m      <a href='vscode-notebook-cell:/e%3A/%ED%95%99%EC%9B%90/PythonStudy/%EC%A0%95%EA%B7%9C%EC%8B%9D.ipynb#ch0000006?line=0'>1</a>\u001b[0m \u001b[39mstr\u001b[39m \u001b[39m=\u001b[39m \u001b[39m\"\"\"\u001b[39m\n\u001b[0;32m      <a href='vscode-notebook-cell:/e%3A/%ED%95%99%EC%9B%90/PythonStudy/%EC%A0%95%EA%B7%9C%EC%8B%9D.ipynb#ch0000006?line=1'>2</a>\u001b[0m \u001b[39m검색을 잘 해야 하는 이유는 검\u001b[39m\n\u001b[0;32m      <a href='vscode-notebook-cell:/e%3A/%ED%95%99%EC%9B%90/PythonStudy/%EC%A0%95%EA%B7%9C%EC%8B%9D.ipynb#ch0000006?line=2'>3</a>\u001b[0m \u001b[39m색기능을 통해 사람의 눈으로 하기 어려운 작업을...\u001b[39m\n\u001b[0;32m      <a href='vscode-notebook-cell:/e%3A/%ED%95%99%EC%9B%90/PythonStudy/%EC%A0%95%EA%B7%9C%EC%8B%9D.ipynb#ch0000006?line=3'>4</a>\u001b[0m \u001b[39m\"\"\"\u001b[39m\n\u001b[1;32m----> <a href='vscode-notebook-cell:/e%3A/%ED%95%99%EC%9B%90/PythonStudy/%EC%A0%95%EA%B7%9C%EC%8B%9D.ipynb#ch0000006?line=4'>5</a>\u001b[0m p1 \u001b[39m=\u001b[39m re\u001b[39m.\u001b[39mcompile(\u001b[39m'\u001b[39m\u001b[39m검색\u001b[39m\u001b[39m'\u001b[39m)\n\u001b[0;32m      <a href='vscode-notebook-cell:/e%3A/%ED%95%99%EC%9B%90/PythonStudy/%EC%A0%95%EA%B7%9C%EC%8B%9D.ipynb#ch0000006?line=5'>6</a>\u001b[0m p2 \u001b[39m=\u001b[39m re\u001b[39m.\u001b[39mcompile(\u001b[39m'\u001b[39m\u001b[39m검.?색\u001b[39m\u001b[39m'\u001b[39m, re\u001b[39m.\u001b[39mS)\n\u001b[0;32m      <a href='vscode-notebook-cell:/e%3A/%ED%95%99%EC%9B%90/PythonStudy/%EC%A0%95%EA%B7%9C%EC%8B%9D.ipynb#ch0000006?line=6'>7</a>\u001b[0m p3 \u001b[39m=\u001b[39m re\u001b[39m.\u001b[39mcompile(\u001b[39m'\u001b[39m\u001b[39m.\u001b[39m\u001b[39m'\u001b[39m)\n",
      "\u001b[1;31mNameError\u001b[0m: name 're' is not defined"
     ]
    }
   ],
   "source": [
    "str = \"\"\"\n",
    "검색을 잘 해야 하는 이유는 검\n",
    "색기능을 통해 사람의 눈으로 하기 어려운 작업을...\n",
    "\"\"\"\n",
    "p1 = re.compile('검색')\n",
    "p2 = re.compile('검.?색', re.S)\n",
    "p3 = re.compile('.')\n",
    "print(p1.findall(str))\n",
    "print(p2.findall(str)) #re.S옵션을 썼기 때문에 매치 된다.\n",
    "\n",
    "print(str)\n",
    "#1\n",
    "str_after = \"\"\n",
    "for x in p3.findall(str) :\n",
    "    str_after += x\n",
    "print(str_after)\n",
    "#2\n",
    "p4 = re.compile('\\n')\n",
    "print(p4.sub(\"\", str))"
   ]
  },
  {
   "cell_type": "code",
   "execution_count": 20,
   "metadata": {},
   "outputs": [
    {
     "name": "stdout",
     "output_type": "stream",
     "text": [
      "match :  None\n",
      "search :  <re.Match object; span=(9, 13), match='안녕앙녕'>\n",
      "findall :  ['안녕앙녕', '안녕하세요']\n"
     ]
    }
   ],
   "source": [
    "##str처럼 여러 줄로 이루어진 문자열에서 매줄의 처음(^)이나 마지막($)이 특정조건을 만족하는지 체크할 때 쓰는 것이 re.M옵션\n",
    "##애초에 여러줄에서 (여러개를) 찾는 거니 match가 아닌 search나 findall과 쓰지.\n",
    "data = \"\"\"헬로우 에브리원\n",
    "안녕앙녕 하이 에브리원 안녕히 \n",
    "안녕하세요 슈가 아유미에요\n",
    "반가워요\"\"\"\n",
    "\n",
    "p1 = re.compile(\"^안녕[\\w]+\", re.M)\n",
    "print(\"match : \", p1.match(data))   #여기에 re.M써봐야 안 됨.\n",
    "print(\"search : \", p1.search(data))\n",
    "print(\"findall : \", p1.findall(data))"
   ]
  },
  {
   "cell_type": "code",
   "execution_count": 32,
   "metadata": {},
   "outputs": [
    {
     "name": "stdout",
     "output_type": "stream",
     "text": [
      "<re.Match object; span=(6, 13), match=' class '>\n",
      "<re.Match object; span=(7, 12), match='class'>\n",
      "<re.Match object; span=(6, 13), match=' class '>\n",
      "<re.Match object; span=(25, 30), match='class'>\n"
     ]
    }
   ],
   "source": [
    "#### \\b와 \\B의 의미\n",
    "p1 = re.compile(r'\\sclass\\s')\n",
    "p2 = re.compile(r'\\bclass\\b') #결과에 공백이 들어가지 않는다. 공백문자 자체를 의미하는 게 아니라 공백에 의해 다른 것과 구분되어 있는지를 보는 것이기 때문에\n",
    "p3 = re.compile(' class ')\n",
    "p4 = re.compile(r'\\Bclass\\B') #공백에 의해 다른 단어와 구분되어 있지 않은.\n",
    "str = \"class1 class 2 class3 subclass4\"\n",
    "print(p1.search(str))\n",
    "print(p2.search(str))\n",
    "print(p3.search(str))\n",
    "print(p4.search(str))"
   ]
  },
  {
   "cell_type": "markdown",
   "metadata": {},
   "source": [
    "### 그루핑\n",
    "- 그루핑을 하는 이유\n",
    "    - 반복되는 문자열 체크 abcabcabc -> (abc)+\n",
    "    - __특정 그룹에 해당하는 문자열만 뽑아내기 위해__\n",
    "- match객체의 그룹메서드\n",
    "    - group() / group(0) : 매치된 전체 문자열\n",
    "    - group(n) : n번째 그룹에 해당하는 문자열. "
   ]
  },
  {
   "cell_type": "code",
   "execution_count": 38,
   "metadata": {},
   "outputs": [
    {
     "name": "stdout",
     "output_type": "stream",
     "text": [
      "park 011-1234-5678\n",
      "park 011-1234-5678\n",
      "park\n",
      "5678\n",
      "sk\n"
     ]
    }
   ],
   "source": [
    "p = re.compile(r'(\\w+)\\s(?P<통신사>\\d+)-(\\d+)-(\\d+)')\n",
    "str = 'park 011-1234-5678'\n",
    "result = p.search(str)\n",
    "print(result.group())\n",
    "print(result.group(0))\n",
    "print(result.group(1))\n",
    "print(result.group(4))\n",
    "print(\"sk\" if result.group(\"통신사\") == \"011\" else \"기타\")\n"
   ]
  },
  {
   "cell_type": "markdown",
   "metadata": {},
   "source": [
    "### 정규식 확장표현\n",
    "- 그룹네임\n",
    "    - 지정 : (?P<그룹이름>)\n",
    "    - 사용 : match객체.group(\"그룹이름\"), re.compile(r'(?P<반복>\\w+')\\s+(?P=반복)')\n",
    "- 전방탐색(Lookahead Assertions) : 현재까지 진행된 조건식 위치에서 뒤와 일치/불일치 여부 검사. '미리보기', '선견', '향하고 있는 방향과 일치하는 쪽', '뒷작업 미리읽기'..즉 현재까지 조건을 통과했어도 뒤에 나오는 조건까지 만족해야 최종통과. 단 뒤에 나오는 조건은 결과에는 반영되지 않는다.\n",
    "    - 긍정 : (?=) re.compile(\".+(?=://)\")\n",
    "    - 부정 : (?!)\n",
    "    \n"
   ]
  },
  {
   "cell_type": "code",
   "execution_count": 51,
   "metadata": {},
   "outputs": [
    {
     "name": "stdout",
     "output_type": "stream",
     "text": [
      "['http']\n",
      "[]\n"
     ]
    }
   ],
   "source": [
    "p = re.compile(\".+(?=://)\")\n",
    "m = p.findall(\"http://google.com\")\n",
    "n = p.findall(\"http:/google.com\")\n",
    "print(m)\n",
    "print(n)"
   ]
  },
  {
   "cell_type": "code",
   "execution_count": 59,
   "metadata": {},
   "outputs": [
    {
     "name": "stdout",
     "output_type": "stream",
     "text": [
      "['a']\n",
      "[]\n",
      "[]\n",
      "[]\n",
      "['e']\n"
     ]
    }
   ],
   "source": [
    "p = re.compile(\".+(?![.]exe$|[.]pdf$)(?=[.].+$)\") # [.] 대신 \\\\. 써도 됨 # 긍정과 부정이 연달아 나와도 됨.(정규식엔진에 의해 소비되지 않으므로..)\n",
    "str = [\"a.txt\", 'b.pdf', 'c.exe', 'd_jpg', \"e.csv\"]\n",
    "for i in str :\n",
    "    print(p.findall(i))"
   ]
  },
  {
   "cell_type": "markdown",
   "metadata": {},
   "source": [
    "### 문자열 바꾸기 \n",
    "- re.sub('정규식', '바꿀말', 탐색대상[, count=바꿀 횟수])=>변경된 문자열 // p.sub('바꿀말', 탐색대상, [count = ])\n",
    "- re.subn => (변경된 문자열, 변경한 횟수)\n",
    "- '바꿀말'자리에 함수를 정의해서 함수명을 넣어줄 수도 있다."
   ]
  },
  {
   "cell_type": "code",
   "execution_count": 73,
   "metadata": {},
   "outputs": [
    {
     "name": "stdout",
     "output_type": "stream",
     "text": [
      "010-1234-5678 김동순님\n",
      "<class 'str'>\n"
     ]
    }
   ],
   "source": [
    "p = re.compile(r\"(?P<회원명>[ㄱ-ㅎ가-힣]+)\\s+(\\d{3}-\\d{4}-\\d{4})\")\n",
    "str = \"김동순 010-1234-5678\"\n",
    "print(p.sub(\"\\g<2> \\g<회원명>님\", str))\n",
    "print(type(p.match(str).group()))  #group함수가 문자열을 반환하는 것과 달리 \\g<2>이런건 정규식 확장 표현일뿐 어떤 객체가 아니다. 즉 \\g<2>[4:] 이런 거 못함."
   ]
  },
  {
   "cell_type": "code",
   "execution_count": 4,
   "metadata": {},
   "outputs": [
    {
     "data": {
      "text/plain": [
       "'call 0xffd2 for printing, 0xc000 for user code.'"
      ]
     },
     "execution_count": 4,
     "metadata": {},
     "output_type": "execute_result"
    }
   ],
   "source": [
    "p = re.compile(\"[\\d]+\")\n",
    "str = 'call 65490 for printing, 49152 for user code.'\n",
    "p.sub(lambda x : hex(int(x.group())), str) #sub()는 search()를 반복실행하는듯. x.group() 안 쓰고 x만 쓰니까 re.Match는 인자로 올 수 없다고 나옴\n",
    "#함수를 작성하는 대신 익명함수도 가능"
   ]
  },
  {
   "cell_type": "code",
   "execution_count": 13,
   "metadata": {},
   "outputs": [
    {
     "data": {
      "text/plain": [
       "'49152'"
      ]
     },
     "execution_count": 13,
     "metadata": {},
     "output_type": "execute_result"
    }
   ],
   "source": [
    "p.search(str, pos = 11, endpos=100).group()"
   ]
  }
 ],
 "metadata": {
  "kernelspec": {
   "display_name": "Python 3.9.12 ('base')",
   "language": "python",
   "name": "python3"
  },
  "language_info": {
   "codemirror_mode": {
    "name": "ipython",
    "version": 3
   },
   "file_extension": ".py",
   "mimetype": "text/x-python",
   "name": "python",
   "nbconvert_exporter": "python",
   "pygments_lexer": "ipython3",
   "version": "3.9.12"
  },
  "orig_nbformat": 4,
  "vscode": {
   "interpreter": {
    "hash": "bde8bb0732dc4e1332dd7de11e8fd6f025a3253132c4935c7925a70cc079a91c"
   }
  }
 },
 "nbformat": 4,
 "nbformat_minor": 2
}
