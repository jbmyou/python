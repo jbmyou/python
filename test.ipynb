{
 "cells": [
  {
   "cell_type": "code",
   "execution_count": 1,
   "metadata": {},
   "outputs": [
    {
     "name": "stdout",
     "output_type": "stream",
     "text": [
      "2022-08-12 22:02:27.062140\n"
     ]
    }
   ],
   "source": [
    "from datetime import datetime\n",
    "print(datetime.today())"
   ]
  },
  {
   "cell_type": "code",
   "execution_count": 6,
   "metadata": {},
   "outputs": [
    {
     "name": "stdout",
     "output_type": "stream",
     "text": [
      "<class 'str'>\n"
     ]
    }
   ],
   "source": [
    "print(type(datetime.today().strftime(\"%Y%m%d\")))"
   ]
  },
  {
   "cell_type": "code",
   "execution_count": 1,
   "metadata": {},
   "outputs": [],
   "source": [
    "import os"
   ]
  },
  {
   "cell_type": "code",
   "execution_count": 6,
   "metadata": {},
   "outputs": [
    {
     "data": {
      "text/plain": [
       "'C:\\\\'"
      ]
     },
     "execution_count": 6,
     "metadata": {},
     "output_type": "execute_result"
    }
   ],
   "source": [
    "os.getcwd()"
   ]
  },
  {
   "cell_type": "code",
   "execution_count": 10,
   "metadata": {},
   "outputs": [],
   "source": [
    "#os.chdir(\"c:\")\n",
    "f = open(r\"C:\\Users\\jbmyo\\Desktop\\새파일.txt\", 'w')\n",
    "a = 253\n",
    "b = len(str(a))\n",
    "for i in range(a) :\n",
    "    f.write(str(i).rjust(b) + \"  \" + \"hi\\n\")\n",
    "f.close()"
   ]
  },
  {
   "cell_type": "code",
   "execution_count": 2,
   "metadata": {},
   "outputs": [
    {
     "name": "stdout",
     "output_type": "stream",
     "text": [
      "공백\n"
     ]
    }
   ],
   "source": [
    "a = input()\n",
    "if a == None :\n",
    "    print(\"None\")\n",
    "elif a == \"\" :\n",
    "    print(\"공백\")\n",
    "else :\n",
    "    print(type(a))"
   ]
  },
  {
   "cell_type": "code",
   "execution_count": 16,
   "metadata": {},
   "outputs": [
    {
     "name": "stdout",
     "output_type": "stream",
     "text": [
      "I:/Download/DaumMail\n",
      "I:\\Download\\DaumMail\n",
      "['test20210404173857042_248911.mp3']\n"
     ]
    }
   ],
   "source": [
    "os.chdir(\"c:\")\n",
    "path = input()\n",
    "os.chdir(path)\n",
    "cwd = os.getcwd()\n",
    "print(path)\n",
    "print(cwd)\n",
    "print(os.listdir(path))"
   ]
  },
  {
   "cell_type": "code",
   "execution_count": 1,
   "metadata": {},
   "outputs": [
    {
     "name": "stdout",
     "output_type": "stream",
     "text": [
      "git test\n"
     ]
    }
   ],
   "source": [
    "print(\"git test\")"
   ]
  }
 ],
 "metadata": {
  "kernelspec": {
   "display_name": "Python 3.9.12 ('base')",
   "language": "python",
   "name": "python3"
  },
  "language_info": {
   "codemirror_mode": {
    "name": "ipython",
    "version": 3
   },
   "file_extension": ".py",
   "mimetype": "text/x-python",
   "name": "python",
   "nbconvert_exporter": "python",
   "pygments_lexer": "ipython3",
   "version": "3.9.12"
  },
  "orig_nbformat": 4,
  "vscode": {
   "interpreter": {
    "hash": "bde8bb0732dc4e1332dd7de11e8fd6f025a3253132c4935c7925a70cc079a91c"
   }
  }
 },
 "nbformat": 4,
 "nbformat_minor": 2
}
