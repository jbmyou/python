{
 "cells": [
  {
   "cell_type": "code",
   "execution_count": 1,
   "metadata": {},
   "outputs": [],
   "source": [
    "from os import listdir, chdir\n",
    "from os.path import splitext"
   ]
  },
  {
   "cell_type": "code",
   "execution_count": 5,
   "metadata": {},
   "outputs": [],
   "source": [
    "path = r'I:\\music\\01 Old'\n",
    "files = listdir(path)\n",
    "dict = {}"
   ]
  },
  {
   "cell_type": "code",
   "execution_count": 8,
   "metadata": {},
   "outputs": [],
   "source": [
    "for f in files :\n",
    "    stem = splitext(f)[0]\n",
    "    temp = stem.split(\"_\")\n",
    "    singer_song = temp[0] + \"_\" + temp[1]\n",
    "    key = temp[3]\n",
    "\n",
    "    if dict.get(key) : \n",
    "        dict[key] = [dict[key][0]+1, singer_song]\n",
    "    else :\n",
    "        dict[key] = [1, singer_song]\n"
   ]
  },
  {
   "cell_type": "code",
   "execution_count": 9,
   "metadata": {},
   "outputs": [
    {
     "name": "stdout",
     "output_type": "stream",
     "text": [
      "[2, '자우림_팬이야']\n",
      "[2, '잔나비_뜨거운여름밤은가고남은건볼품없지만']\n",
      "[2, 'Whitney Houston_I will always love you']\n",
      "[2, '박지윤_환상']\n",
      "[2, '정인_미워요']\n",
      "[3, '브로콜리너마저_보편적인노래']\n",
      "[2, '로이킴_그때헤어지면돼']\n",
      "[2, '전영록_아직도어두운밤인가봐']\n",
      "[2, '컨츄리꼬꼬_애련']\n",
      "[2, '김필_다시사랑한다면']\n",
      "[2, '박은태_겟세마네']\n",
      "[2, '활_Say Yes']\n",
      "[2, '백지영_Dash']\n",
      "[2, '버스커버스커_줄리엣']\n",
      "[2, '버즈_겁쟁이']\n",
      "[2, '벅_맨발의청춘']\n",
      "[2, '블랙홀_깊은밤의서정곡']\n",
      "[2, '비육일이_나만의그대모습']\n",
      "[2, '산울림_너의의미']\n",
      "[2, '브로콜리너마저_잊어야할일은잊어요']\n",
      "[2, '서태지_0']\n",
      "[2, '서태지_Heffy End']\n",
      "[2, '성시경_안녕나의사랑']\n",
      "[2, '소찬휘_현명한선택']\n",
      "[3, '소향_바람의노래']\n",
      "[2, '최헌_구름나그네']\n",
      "[2, '소향_한숨']\n",
      "[2, '안치환_사랑하게되면']\n",
      "[2, '박화요비_어떤가요']\n",
      "[2, '서태지와아이들_제킬박사와하이드']\n",
      "[2, '신해철_슬픈표정하지말아요']\n",
      "[2, '임창정_그때또다시']\n",
      "[2, '이소라_Sharry']\n",
      "[3, '윤상_이사']\n",
      "[2, '성시경_넌감동이었어']\n",
      "[2, '윤종신_동네한바퀴']\n",
      "[2, '이문세_광화문연가']\n",
      "[2, '이문세_그녀의웃음소리뿐']\n",
      "[2, '이문세_빗속에서']\n",
      "[2, '이승환_루머']\n",
      "[2, '이상은_담다디']\n",
      "[2, '이상은_비밀의화원']\n",
      "[2, '이승환_천일동안']\n",
      "[2, '이은미_녹턴']\n",
      "[2, '이적_Rain']\n",
      "[2, '안녕바다_별빛이내린다']\n",
      "[2, '안치환_고해']\n",
      "[2, '주니퍼_하늘끝에서흘린눈물']\n",
      "[2, '이승열_기억할게']\n",
      "[2, '이승열_날아']\n",
      "[2, '이승철_오늘도난']\n",
      "[2, '이승환_가족']\n",
      "[2, '우현,루시아_선인장']\n",
      "[2, '임재범_그대는어디에']\n",
      "[2, '임재범_사랑']\n",
      "[2, '영턱스클럽_타인']\n",
      "[2, '이예린_포플러나무아래']\n",
      "[2, '이기찬_아니기를']\n",
      "[2, '이형현_천년의사랑']\n",
      "[2, '이지훈_왜하늘은']\n",
      "[2, '자우림_무언가']\n"
     ]
    }
   ],
   "source": [
    "for k, v in dict.items():\n",
    "    if v[0] > 1 :\n",
    "        print(dict[k])"
   ]
  },
  {
   "cell_type": "code",
   "execution_count": null,
   "metadata": {},
   "outputs": [],
   "source": []
  },
  {
   "cell_type": "code",
   "execution_count": null,
   "metadata": {},
   "outputs": [],
   "source": []
  }
 ],
 "metadata": {
  "kernelspec": {
   "display_name": "Python 3.9.12 ('base')",
   "language": "python",
   "name": "python3"
  },
  "language_info": {
   "codemirror_mode": {
    "name": "ipython",
    "version": 3
   },
   "file_extension": ".py",
   "mimetype": "text/x-python",
   "name": "python",
   "nbconvert_exporter": "python",
   "pygments_lexer": "ipython3",
   "version": "3.9.12"
  },
  "orig_nbformat": 4,
  "vscode": {
   "interpreter": {
    "hash": "bde8bb0732dc4e1332dd7de11e8fd6f025a3253132c4935c7925a70cc079a91c"
   }
  }
 },
 "nbformat": 4,
 "nbformat_minor": 2
}
