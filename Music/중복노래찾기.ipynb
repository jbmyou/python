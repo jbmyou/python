{
 "cells": [
  {
   "cell_type": "code",
   "execution_count": 1,
   "metadata": {},
   "outputs": [],
   "source": [
    "from os import listdir, chdir\n",
    "from os.path import splitext\n",
    "path = r'I:\\music\\01 Old'\n",
    "files = listdir(path)\n",
    "dict = {}\n",
    "for f in files :\n",
    "    stem = splitext(f)[0]\n",
    "    temp = stem.split(\"_\")\n",
    "    singer_song = temp[0] + \"_\" + temp[1]\n",
    "    key = temp[3]\n",
    "\n",
    "    if dict.get(key) : \n",
    "        dict[key] = [dict[key][0]+1, singer_song]\n",
    "    else :\n",
    "        dict[key] = [1, singer_song]\n",
    "\n",
    "f = open(r\"C:\\Users\\jbmyo\\Desktop\\중복노래.csv\", mode='w')\n",
    "for k, v in dict.items():\n",
    "    if v[0] > 1 :\n",
    "        f.write(str(v[0])+\",\"+v[1]+\"\\n\")\n",
    "f.close()"
   ]
  }
 ],
 "metadata": {
  "kernelspec": {
   "display_name": "Python 3.9.12 ('base')",
   "language": "python",
   "name": "python3"
  },
  "language_info": {
   "codemirror_mode": {
    "name": "ipython",
    "version": 3
   },
   "file_extension": ".py",
   "mimetype": "text/x-python",
   "name": "python",
   "nbconvert_exporter": "python",
   "pygments_lexer": "ipython3",
   "version": "3.9.12"
  },
  "orig_nbformat": 4,
  "vscode": {
   "interpreter": {
    "hash": "bde8bb0732dc4e1332dd7de11e8fd6f025a3253132c4935c7925a70cc079a91c"
   }
  }
 },
 "nbformat": 4,
 "nbformat_minor": 2
}
