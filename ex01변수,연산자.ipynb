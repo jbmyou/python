{
 "cells": [
  {
   "cell_type": "markdown",
   "id": "bc158342",
   "metadata": {},
   "source": [
    "# 주피터 사용방법"
   ]
  },
  {
   "cell_type": "markdown",
   "id": "70cfe889",
   "metadata": {},
   "source": [
    "1. command mode - 앞쪽에 띠가 파란색\n",
    "2. edit mode - 앞쪽에 띠가 초록색(코드를 작성)"
   ]
  },
  {
   "cell_type": "code",
   "execution_count": 1,
   "id": "a67fd93b",
   "metadata": {},
   "outputs": [],
   "source": [
    "#파이썬에서 주석 다는 방법\n",
    "#num이라는 변수에 숫자 4를 집어넣어보자.\n",
    "num=4"
   ]
  },
  {
   "cell_type": "code",
   "execution_count": 2,
   "id": "ba82470b",
   "metadata": {},
   "outputs": [
    {
     "data": {
      "text/plain": [
       "4"
      ]
     },
     "execution_count": 2,
     "metadata": {},
     "output_type": "execute_result"
    }
   ],
   "source": [
    "#num 값 확인\n",
    "num"
   ]
  },
  {
   "cell_type": "markdown",
   "id": "c6546fc8",
   "metadata": {},
   "source": [
    "# 1)변수, 자료형 "
   ]
  },
  {
   "cell_type": "markdown",
   "id": "ad79a3f4",
   "metadata": {},
   "source": [
    "마크다운 : 마지막에 스페이스바 두번 또는 \\<br>해야 줄바뀜. 문장기호 다음에 띄어쓰기하면 자동변환(안하면 기호 그대로), *기울임*_기울임_,**굵게**__굵게__  ~~줄삭제(물결2)~~\n",
    "- 숫자(정수)\n",
    "- 숫자(실수)\n",
    "- 문자열 : ''와 \"\"둘다 사용가능\n",
    "- 논리 : True, False"
   ]
  },
  {
   "cell_type": "code",
   "execution_count": 3,
   "id": "a96b69dd",
   "metadata": {},
   "outputs": [],
   "source": [
    "num=4\n",
    "num=3.14\n",
    "#자료형, 변수명 중복 문제 없다."
   ]
  },
  {
   "cell_type": "code",
   "execution_count": 4,
   "id": "8679a98f",
   "metadata": {},
   "outputs": [
    {
     "data": {
      "text/plain": [
       "3.14"
      ]
     },
     "execution_count": 4,
     "metadata": {},
     "output_type": "execute_result"
    }
   ],
   "source": [
    "num"
   ]
  },
  {
   "cell_type": "code",
   "execution_count": 5,
   "id": "fb7c69e9",
   "metadata": {},
   "outputs": [
    {
     "data": {
      "text/plain": [
       "'10월 5일 화요일! 4일만 지나면 또 휴일이에요~'"
      ]
     },
     "execution_count": 5,
     "metadata": {},
     "output_type": "execute_result"
    }
   ],
   "source": [
    "#문자열 넣기 1\n",
    "s1=\"10월 5일 화요일! 4일만 지나면 또 휴일이에요~\"\n",
    "s1"
   ]
  },
  {
   "cell_type": "code",
   "execution_count": 1,
   "id": "a33e36b7",
   "metadata": {},
   "outputs": [
    {
     "data": {
      "text/plain": [
       "'오늘 점심은?'"
      ]
     },
     "execution_count": 1,
     "metadata": {},
     "output_type": "execute_result"
    }
   ],
   "source": [
    "#문자열 넣기 2 : '' ,\"\" 동일\n",
    "s2='오늘 점심은?'\n",
    "s2"
   ]
  },
  {
   "cell_type": "code",
   "execution_count": 7,
   "id": "aa96ed3b",
   "metadata": {},
   "outputs": [
    {
     "data": {
      "text/plain": [
       "True"
      ]
     },
     "execution_count": 7,
     "metadata": {},
     "output_type": "execute_result"
    }
   ],
   "source": [
    "#논리형 : 앞글자를 대문자로\n",
    "b1 = True \n",
    "b2 = False\n",
    "b1"
   ]
  },
  {
   "cell_type": "code",
   "execution_count": 8,
   "id": "d2ccbc7c",
   "metadata": {},
   "outputs": [
    {
     "data": {
      "text/plain": [
       "False"
      ]
     },
     "execution_count": 8,
     "metadata": {},
     "output_type": "execute_result"
    }
   ],
   "source": [
    "b2"
   ]
  },
  {
   "cell_type": "markdown",
   "id": "cb13b876",
   "metadata": {},
   "source": [
    "### 변수명 작성규칙"
   ]
  },
  {
   "cell_type": "markdown",
   "id": "4561ca7d",
   "metadata": {},
   "source": [
    "- 영문, 숫자, _(언더바)를 사용할 수 있다. ($)는 사용불가\n",
    "- 숫자로 시작할 수 없다.\n",
    "- 키워드를 사용할 수 없다."
   ]
  },
  {
   "cell_type": "markdown",
   "id": "25d3fd7a",
   "metadata": {},
   "source": [
    "# 2) 문자열"
   ]
  },
  {
   "cell_type": "code",
   "execution_count": 9,
   "id": "5be5ef4f",
   "metadata": {},
   "outputs": [
    {
     "name": "stdout",
     "output_type": "stream",
     "text": [
      "She's gone\n",
      "She's gone\n"
     ]
    }
   ],
   "source": [
    "# She's gone 을 가지는 문자열을 만들어보자. 작은따옴표가 있는경우 \\ 또는 \"\"를 사용해야\n",
    "s1=\"She's gone\"\n",
    "print(s1)\n",
    "\n",
    "s2='She\\'s gone'\n",
    "print(s2)"
   ]
  },
  {
   "cell_type": "markdown",
   "id": "17d8ffbc",
   "metadata": {},
   "source": [
    "### 문자열 인덱싱과 슬라이싱"
   ]
  },
  {
   "cell_type": "markdown",
   "id": "8ea09388",
   "metadata": {},
   "source": [
    "- 앞인덱스 : 뒷인덱스\n",
    "-  0, 1, 2, 3, 4\n",
    "- -5,-4,-3,-2,-1  (양의 인덱스 + |음의 인덱스| = 총 인덱스 개수) : 자바와의 차이점\n",
    "- 슬라이싱 ex)1번 인덱부터 3개값을 가져오고 싶다. [ 1 : 1+3 또는 (1+3)-5]"
   ]
  },
  {
   "cell_type": "code",
   "execution_count": 3,
   "id": "fad5a6e1",
   "metadata": {},
   "outputs": [],
   "source": [
    "s3 ='Hello World!'"
   ]
  },
  {
   "cell_type": "code",
   "execution_count": 4,
   "id": "27b5f3b2",
   "metadata": {},
   "outputs": [
    {
     "data": {
      "text/plain": [
       "'W'"
      ]
     },
     "execution_count": 4,
     "metadata": {},
     "output_type": "execute_result"
    }
   ],
   "source": [
    "#인덱싱 - 문자열 안에서 내가 원하는 데이터 하나를 뽑아올 때.\n",
    "#(파이썬은 기본으로 셀단위로 컴파일하니까 선언부를 실행하고 해야 한다.)\n",
    "s3[6]"
   ]
  },
  {
   "cell_type": "code",
   "execution_count": 24,
   "id": "77998f66",
   "metadata": {},
   "outputs": [
    {
     "data": {
      "text/plain": [
       "'Hell'"
      ]
     },
     "execution_count": 24,
     "metadata": {},
     "output_type": "execute_result"
    }
   ],
   "source": [
    "s3[0:4]   #0<=   <4  임에 유의해라!!!(원하는 문자열 인덱스에서 앞은 -1, 뒤는 그대로)\n",
    "                                    #(역순일 때는 앞은 그대로, 뒤는 -1)"
   ]
  },
  {
   "cell_type": "code",
   "execution_count": 25,
   "id": "66f7d543",
   "metadata": {},
   "outputs": [
    {
     "name": "stdout",
     "output_type": "stream",
     "text": [
      "World!\n",
      "World!\n"
     ]
    }
   ],
   "source": [
    "print(s3[6:12])\n",
    "print(s3[6:])  # 인덱스 번호 생략가능 : 처음부터 or 끝까지 or 처음부터 끝까지"
   ]
  },
  {
   "cell_type": "code",
   "execution_count": 34,
   "id": "abd01b5e",
   "metadata": {
    "scrolled": true
   },
   "outputs": [
    {
     "data": {
      "text/plain": [
       "'e'"
      ]
     },
     "execution_count": 34,
     "metadata": {},
     "output_type": "execute_result"
    }
   ],
   "source": [
    "s3[1:-10] # 역순으로 가져오기 -0이란 것은 없으므로 끝 글자만 가져올때는 [-1]=[-1:]"
   ]
  },
  {
   "cell_type": "code",
   "execution_count": 15,
   "id": "3ab5336a",
   "metadata": {},
   "outputs": [
    {
     "name": "stdout",
     "output_type": "stream",
     "text": [
      "년도 : 2020\n",
      "월일 : 0706\n",
      "날씨 : Sunny\n"
     ]
    }
   ],
   "source": [
    "dy_info = \"20200706Sunny\"\n",
    "year = dy_info[0:4]\n",
    "mmdd = dy_info[4:8]\n",
    "whatday = dy_info[8:]\n",
    "print(\"년도 : \" + year)\n",
    "print(\"월일 : \" + mmdd)\n",
    "print(\"날씨 : \" + whatday)"
   ]
  },
  {
   "cell_type": "markdown",
   "id": "7592ab5c",
   "metadata": {},
   "source": [
    "### 출력 포매팅"
   ]
  },
  {
   "cell_type": "markdown",
   "id": "e7f00576",
   "metadata": {},
   "source": [
    "- 형변환 효과를 여러 줄에서 누리고 싶다면 선언부와 같이 사용해라. num1 = int(num1) \n",
    "- 그냥 int(num1)이라고만 하면 다음 줄에서는 안 된다."
   ]
  },
  {
   "cell_type": "code",
   "execution_count": 30,
   "id": "bc3f1921",
   "metadata": {},
   "outputs": [],
   "source": [
    "num1 = 2021\n",
    "num2 = 1005\n",
    "# 년도는 2021년 입니다.\n",
    "# 1005일 입니다.        출력해보자\n",
    "# 파이썬에서 문자+숫자는 안된다. 문자 + str(숫자)이렇게 형변환 하거나 문자, 숫자\n",
    "#  \"~{}~~\".format(변수명) 또는 자바의 printf와 비슷하게 \"~~%d~~\"%(변수명) \n",
    "# 변수가 여러개일 때는 {}{}, %d%d  (변수명, 변수명...) 이런 식으로"
   ]
  },
  {
   "cell_type": "code",
   "execution_count": 31,
   "id": "9fb6b66e",
   "metadata": {
    "scrolled": true
   },
   "outputs": [
    {
     "name": "stdout",
     "output_type": "stream",
     "text": [
      "년도는 : 2021년 입니다.\n",
      "년도는 2021 년 입니다.\n",
      "년도는 2021년 입니다.\n",
      "2021일 입니다.\n",
      "년도는 2021년 입니다. 1005일 입니다.\n",
      "년도는 2021년 입니다. 1005일 입니다.\n"
     ]
    }
   ],
   "source": [
    "print(\"년도는 : \"+str(num1)+\"년 입니다.\")\n",
    "print(\"년도는\",num1,\"년 입니다.\")           #띄어쓰기가 문제. ,는 앞뒤형이 같을 때도 당연히 쓸 수 있다.\n",
    "print(\"년도는 {}년 입니다.\".format(num1))   #------------------포매팅 2가지 방법----------------\n",
    "print(\"%d일 입니다.\"%(num1))\n",
    "print(\"년도는 {}년 입니다. {}일 입니다.\".format(num1,num2))  # '.'. 있는 거 유의\n",
    "print(\"년도는 %d년 입니다. %d일 입니다.\"%(num1,num2))"
   ]
  },
  {
   "cell_type": "markdown",
   "id": "ad1d8de2",
   "metadata": {},
   "source": [
    "# 3) 산술연산자"
   ]
  },
  {
   "cell_type": "markdown",
   "id": "cb208a9d",
   "metadata": {},
   "source": [
    "- __~~증감연산자~~__\n",
    "- / : 나누기  \n",
    "- // : 몫  \n",
    "- % : 나머지  "
   ]
  },
  {
   "cell_type": "code",
   "execution_count": 18,
   "id": "53735671",
   "metadata": {},
   "outputs": [
    {
     "name": "stdout",
     "output_type": "stream",
     "text": [
      "1.4285714285714286\n",
      "3\n",
      "1\n"
     ]
    }
   ],
   "source": [
    "num1 = 10\n",
    "num2 = 7\n",
    "print(num1/num2)\n",
    "print(num1%num2)\n",
    "print(num1//num2)"
   ]
  },
  {
   "cell_type": "code",
   "execution_count": 19,
   "id": "4a066272",
   "metadata": {},
   "outputs": [
    {
     "name": "stdout",
     "output_type": "stream",
     "text": [
      "17\n",
      "710\n"
     ]
    }
   ],
   "source": [
    "s1 = \"7\"\n",
    "num3 = 10\n",
    "print(int(s1)+num3)   # 정수로 형변환\n",
    "print(s1+str(num3))   # 문자열로 형변환"
   ]
  },
  {
   "cell_type": "code",
   "execution_count": 20,
   "id": "5f4eae7a",
   "metadata": {},
   "outputs": [
    {
     "name": "stdout",
     "output_type": "stream",
     "text": [
      "숫자를 입력하세요 >> 30\n"
     ]
    }
   ],
   "source": [
    "#입력받는 방법 단. input사용시 입력받은 값은 무조건 문자열로 인식된다.\n",
    "input1 = input(\"숫자를 입력하세요 >> \")"
   ]
  },
  {
   "cell_type": "code",
   "execution_count": 21,
   "id": "6064fe25",
   "metadata": {},
   "outputs": [
    {
     "data": {
      "text/plain": [
       "'30'"
      ]
     },
     "execution_count": 21,
     "metadata": {},
     "output_type": "execute_result"
    }
   ],
   "source": [
    "input1"
   ]
  },
  {
   "cell_type": "code",
   "execution_count": 18,
   "id": "92b858b3",
   "metadata": {
    "scrolled": true
   },
   "outputs": [
    {
     "name": "stdout",
     "output_type": "stream",
     "text": [
      "num1 입력 : 65\n",
      "num2 입력 : 30\n",
      "더하기 결과 : 95\n",
      "빼기 결과 : 35\n",
      "곱하기 결과 : 1950\n",
      "나누기 결과 : 2.1666666666666665\n"
     ]
    }
   ],
   "source": [
    "num1 = input(\"num1 입력 : \")\n",
    "num2 = input(\"num2 입력 : \")\n",
    "num1=int(num1)``\n",
    "num2=int(num2)\n",
    "print(\"더하기 결과 : {}\".format(num1+num2))\n",
    "print(\"빼기 결과 : {}\".format(num1-num2))\n",
    "print(\"곱하기 결과 : {}\".format(num1*num2))\n",
    "print(\"나누기 결과 : {}\".format(num1/num2))"
   ]
  },
  {
   "cell_type": "code",
   "execution_count": 7,
   "id": "b065df02",
   "metadata": {
    "scrolled": true
   },
   "outputs": [
    {
     "name": "stdout",
     "output_type": "stream",
     "text": [
      "**********\n"
     ]
    }
   ],
   "source": [
    "s='*'\n",
    "print(s*10)            # 파이썬은 문자열*10번으로 문자열반복을 처리할 수 있다.\n",
    "#print(s**2)           # 제곱기호는 안 됨."
   ]
  },
  {
   "cell_type": "markdown",
   "id": "e5f944bd",
   "metadata": {},
   "source": [
    "# 4)지수연산자"
   ]
  },
  {
   "cell_type": "markdown",
   "id": "d66dd5cd",
   "metadata": {},
   "source": [
    "- 제곱을 계산해주는 연산자(**) "
   ]
  },
  {
   "cell_type": "code",
   "execution_count": 46,
   "id": "74f9010f",
   "metadata": {},
   "outputs": [
    {
     "data": {
      "text/plain": [
       "16"
      ]
     },
     "execution_count": 46,
     "metadata": {},
     "output_type": "execute_result"
    }
   ],
   "source": [
    "#2의 4제곱을 계산\n",
    "2**4"
   ]
  },
  {
   "cell_type": "markdown",
   "id": "ef362c2c",
   "metadata": {},
   "source": [
    "# 5)대입연산자"
   ]
  },
  {
   "cell_type": "markdown",
   "id": "4954d704",
   "metadata": {},
   "source": [
    "- (대입연산자) : =  \n",
    "- (복합대입연산자) : +=, -=, \\*=, \\**=, /=, //=, %= 모두 작동"
   ]
  },
  {
   "cell_type": "code",
   "execution_count": 7,
   "id": "75616844",
   "metadata": {},
   "outputs": [
    {
     "name": "stdout",
     "output_type": "stream",
     "text": [
      "a*=b 30\n",
      "a**=b 27000\n",
      "a/=b 9000.0\n",
      "a//=b 3000.0\n",
      "a*%=b 0.0\n"
     ]
    }
   ],
   "source": [
    "a = 10\n",
    "b = 3\n",
    "a *= b\n",
    "print(\"a*=b\",a)\n",
    "a **= b\n",
    "print(\"a**=b\",a)\n",
    "a /= b\n",
    "print(\"a/=b\",a)\n",
    "a //= b\n",
    "print(\"a//=b\",a)\n",
    "a %= b\n",
    "print(\"a*%=b\",a)"
   ]
  },
  {
   "cell_type": "markdown",
   "id": "ba87d9c2",
   "metadata": {},
   "source": [
    "# 6)비교연산자"
   ]
  },
  {
   "cell_type": "markdown",
   "id": "61f90ecc",
   "metadata": {},
   "source": [
    "- ==\ta == b\t같음\n",
    "- !=\ta != b\t같지 않음\n",
    "- is\ta is b\t객체가 같음\n",
    "- is not\ta is not b\t객체가 같지 않음\n",
    "- 결과값이 논리형으로 나온다는 것만 유의"
   ]
  },
  {
   "cell_type": "code",
   "execution_count": 54,
   "id": "164cd433",
   "metadata": {},
   "outputs": [
    {
     "data": {
      "text/plain": [
       "False"
      ]
     },
     "execution_count": 54,
     "metadata": {},
     "output_type": "execute_result"
    }
   ],
   "source": [
    "3>4"
   ]
  },
  {
   "cell_type": "markdown",
   "id": "020bfa2b",
   "metadata": {},
   "source": [
    "# 7)논리연산자"
   ]
  },
  {
   "cell_type": "markdown",
   "id": "ba1ea9cb",
   "metadata": {},
   "source": [
    "- and, or, not : 논리연산자. F/T반환. 자바와 달리 기호 쓰지 않고 영단어로 쓴다. \n",
    "  and 조건식 : x 거짓 -> x 반환 아니면 y 반환\n",
    "  or 조건식 : x 참 -> x 반환 아니면 y 반환\n",
    "- &, | : bitwise연산자 (2진수로 바꾼후 and, or 조건식에 따라 0/1반환 후 10진수로 바꿔 출력) \n",
    "- (비교연산식) 과 (비교연산식) 사이에서는 둘 다 같다.(F,T는 0,1이니까)   \n",
    "    __기호 쓸거면 괄호 필수__  \n",
    "    __3<x<5__ &없이 가능"
   ]
  },
  {
   "cell_type": "code",
   "execution_count": 28,
   "id": "d1039091",
   "metadata": {},
   "outputs": [
    {
     "name": "stdout",
     "output_type": "stream",
     "text": [
      "True\n",
      "4\n",
      "0\n"
     ]
    }
   ],
   "source": [
    "a=3\n",
    "b=4\n",
    "print(not a>b)\n",
    "print(a and b)\n",
    "print(a & b) # 아래 설명보삼\n",
    "# 3= 011(2)  ---- FTT\n",
    "# 4=100(2)  ---- TFF\n",
    "#----------\n",
    "#   000(2) ---- FFF   --> 0(10)"
   ]
  },
  {
   "cell_type": "code",
   "execution_count": 24,
   "id": "4b58f98f",
   "metadata": {
    "scrolled": true
   },
   "outputs": [
    {
     "data": {
      "text/plain": [
       "False"
      ]
     },
     "execution_count": 24,
     "metadata": {},
     "output_type": "execute_result"
    }
   ],
   "source": [
    "(a<b) & (a/b<2)"
   ]
  },
  {
   "cell_type": "markdown",
   "id": "c26adaf4",
   "metadata": {},
   "source": [
    "# 8)삼항연산자"
   ]
  },
  {
   "cell_type": "markdown",
   "id": "46831888",
   "metadata": {},
   "source": [
    "- a if 조건식 else b  \n",
    "- 참이면 a 실행  \n",
    "- 거짓이면 b 실행  "
   ]
  },
  {
   "cell_type": "code",
   "execution_count": 11,
   "id": "eac6762b",
   "metadata": {},
   "outputs": [
    {
     "name": "stdout",
     "output_type": "stream",
     "text": [
      "-3\n"
     ]
    },
    {
     "data": {
      "text/plain": [
       "'청소년'"
      ]
     },
     "execution_count": 11,
     "metadata": {},
     "output_type": "execute_result"
    }
   ],
   "source": [
    "age = 19\n",
    "x = 3 if age>=20 else -3\n",
    "print(x)                          # 자바처럼 선언부 넣어도 잘 되고\n",
    "print(\"성인\") if age>=20 else \"청소년\"  \n",
    "# 자바와 달리 선언부가 없어도 잘 되네(여기서 print없는 '청소년'이 결과값에 나온 것은 앞에 있는 \n",
    "#print()가 영향을 미친 것이 아니라 변수나 로직의 값을 바로 확인할 수 있는 파이썬의 특징때문.)"
   ]
  },
  {
   "cell_type": "code",
   "execution_count": 20,
   "id": "20efb890",
   "metadata": {
    "scrolled": true
   },
   "outputs": [
    {
     "name": "stdout",
     "output_type": "stream",
     "text": [
      "정수 입력>> 4\n"
     ]
    },
    {
     "data": {
      "text/plain": [
       "'4는(은) 짝수입니다.'"
      ]
     },
     "execution_count": 20,
     "metadata": {},
     "output_type": "execute_result"
    }
   ],
   "source": [
    "#홀짝 판별\n",
    "num1 = input(\"정수 입력>> \")\n",
    "num1+\"는(은) 홀수입니다.\" if int(num1)%2==1 else num1+\"는(은) 짝수입니다.\""
   ]
  },
  {
   "cell_type": "markdown",
   "id": "2d9a8cb1",
   "metadata": {},
   "source": [
    "#### 과제"
   ]
  },
  {
   "cell_type": "code",
   "execution_count": 4,
   "id": "233fc04e",
   "metadata": {},
   "outputs": [
    {
     "name": "stdout",
     "output_type": "stream",
     "text": [
      "시간 입력 >> 7533\n",
      "2시간 5분 33초\n"
     ]
    }
   ],
   "source": [
    "#초를 입력받아 00시간 00분 00초 형태로 출력\n",
    "time = int(input(\"시간 입력 >> \"))\n",
    "hour = time//3600\n",
    "minute = time//60%60\n",
    "second = time%60\n",
    "print(\"{}시간 {}분 {}초\".format(hour, minute, second))"
   ]
  }
 ],
 "metadata": {
  "kernelspec": {
   "display_name": "Python 3",
   "language": "python",
   "name": "python3"
  },
  "language_info": {
   "codemirror_mode": {
    "name": "ipython",
    "version": 3
   },
   "file_extension": ".py",
   "mimetype": "text/x-python",
   "name": "python",
   "nbconvert_exporter": "python",
   "pygments_lexer": "ipython3",
   "version": "3.8.8"
  }
 },
 "nbformat": 4,
 "nbformat_minor": 5
}
