{
 "cells": [
  {
   "cell_type": "markdown",
   "id": "2c4a04e5",
   "metadata": {},
   "source": [
    "### 문제5 "
   ]
  },
  {
   "cell_type": "code",
   "execution_count": 1,
   "id": "fc46ec45",
   "metadata": {},
   "outputs": [],
   "source": [
    "def cal() :\n",
    "    \"\"\"입력창에 두개의 정수를 입력하고 +, -. *, / 연사자 중 하나를 골라 사칙연산을 수행\"\"\"\n",
    "    print(\"====사칙연산(+, -, *, /)====\")\n",
    "    a = int(input(\"첫 번째 정수 입력 : \"))\n",
    "    b = int(input(\"두 번째 정수 입력 : \"))\n",
    "    sign = input(\"연산자 입력 : \")\n",
    "    if (sign == \"+\") :\n",
    "        result = a + b\n",
    "    elif (sign == \"-\") :\n",
    "        result = a - b\n",
    "    elif (sign == \"*\") :\n",
    "        result = a * b\n",
    "    elif (sign == \"/\") :\n",
    "        result = a / b\n",
    "    else :\n",
    "        print(\"연사자를 +, -, *, / 중에서 골라주세요.\")\n",
    "    return print(f\"연산결과 : {result}\")\n",
    "    "
   ]
  },
  {
   "cell_type": "code",
   "execution_count": 2,
   "id": "70fbd646",
   "metadata": {
    "scrolled": false
   },
   "outputs": [
    {
     "name": "stdout",
     "output_type": "stream",
     "text": [
      "====사칙연산(+, -, *, /)====\n",
      "첫 번째 정수 입력 : 5\n",
      "두 번째 정수 입력 : 8\n",
      "연산자 입력 : +\n",
      "연산결과 : 13\n"
     ]
    }
   ],
   "source": [
    "cal()"
   ]
  },
  {
   "cell_type": "markdown",
   "id": "0f671c19",
   "metadata": {},
   "source": [
    "### 문제6"
   ]
  },
  {
   "cell_type": "code",
   "execution_count": 3,
   "id": "186b18f4",
   "metadata": {
    "scrolled": true
   },
   "outputs": [
    {
     "name": "stdout",
     "output_type": "stream",
     "text": [
      "7*1=7 7*2=14 7*3=21 7*4=28 7*5=35 7*6=42 7*7=49 7*8=56 7*9=63 "
     ]
    }
   ],
   "source": [
    "a=list(range(1,10))\n",
    "for i in a :\n",
    "    print(f\"7*{i}={7*i}\", end=\" \")"
   ]
  },
  {
   "cell_type": "markdown",
   "id": "f530c35a",
   "metadata": {},
   "source": [
    "### 문제7"
   ]
  },
  {
   "cell_type": "code",
   "execution_count": 20,
   "id": "8a5a0400",
   "metadata": {},
   "outputs": [
    {
     "name": "stdout",
     "output_type": "stream",
     "text": [
      "3의배수 : 2개, 4의배수 : 3개, 그 외 : 2개\n"
     ]
    }
   ],
   "source": [
    "list1 = [3, 62, 15, 20, 44, 55, 32]\n",
    "multiple3=0\n",
    "multiple4=0\n",
    "for i in list1:\n",
    "    if (i%3)==0:\n",
    "        multiple3+=1\n",
    "    if (i%4)==0:\n",
    "        multiple4+=1\n",
    "etc = len(list1)-multiple3-multiple4\n",
    "print(f\"3의배수 : {multiple3}개, 4의배수 : {multiple4}개, 그 외 : {etc}개\")"
   ]
  },
  {
   "cell_type": "markdown",
   "id": "65aa311c",
   "metadata": {},
   "source": [
    "### 문제8(풀이1-numpy활용)"
   ]
  },
  {
   "cell_type": "code",
   "execution_count": 5,
   "id": "239a804f",
   "metadata": {},
   "outputs": [],
   "source": [
    "def avg(*args):\n",
    "    import numpy as np\n",
    "    return np.array([args]).mean()"
   ]
  },
  {
   "cell_type": "code",
   "execution_count": 23,
   "id": "afc24efc",
   "metadata": {
    "scrolled": false
   },
   "outputs": [
    {
     "data": {
      "text/plain": [
       "18.0"
      ]
     },
     "execution_count": 23,
     "metadata": {},
     "output_type": "execute_result"
    }
   ],
   "source": [
    "avg(10,11,15,19,20,21,23,25)"
   ]
  },
  {
   "cell_type": "markdown",
   "id": "fe37d16f",
   "metadata": {},
   "source": [
    "### 문제8(풀이2-for문활용)"
   ]
  },
  {
   "cell_type": "code",
   "execution_count": 7,
   "id": "323e2ec6",
   "metadata": {},
   "outputs": [],
   "source": [
    "def avg(*args):\n",
    "    sum = 0\n",
    "    for i in args:\n",
    "        sum += i\n",
    "    return sum/len(args)"
   ]
  },
  {
   "cell_type": "code",
   "execution_count": 26,
   "id": "dca603cb",
   "metadata": {
    "scrolled": false
   },
   "outputs": [
    {
     "data": {
      "text/plain": [
       "18.0"
      ]
     },
     "execution_count": 26,
     "metadata": {},
     "output_type": "execute_result"
    }
   ],
   "source": [
    "avg(10,11,15,19,20,21,23,25)"
   ]
  },
  {
   "cell_type": "markdown",
   "id": "20aeac81",
   "metadata": {},
   "source": [
    "### 문제9"
   ]
  },
  {
   "cell_type": "code",
   "execution_count": 9,
   "id": "c9fb11b7",
   "metadata": {},
   "outputs": [],
   "source": [
    "score_list = [[\"박매일\",89,78,99],[\"김미희\",67,88,77],[\"강예진\",100,55,96],[\"최성우\",99,99,99]]\n",
    "import pandas as pd\n",
    "pd.options.display.float_format = '{:.0f}'.format"
   ]
  },
  {
   "cell_type": "code",
   "execution_count": 29,
   "id": "69d69204",
   "metadata": {
    "scrolled": true
   },
   "outputs": [
    {
     "data": {
      "text/html": [
       "<div>\n",
       "<style scoped>\n",
       "    .dataframe tbody tr th:only-of-type {\n",
       "        vertical-align: middle;\n",
       "    }\n",
       "\n",
       "    .dataframe tbody tr th {\n",
       "        vertical-align: top;\n",
       "    }\n",
       "\n",
       "    .dataframe thead th {\n",
       "        text-align: right;\n",
       "    }\n",
       "</style>\n",
       "<table border=\"1\" class=\"dataframe\">\n",
       "  <thead>\n",
       "    <tr style=\"text-align: right;\">\n",
       "      <th></th>\n",
       "      <th>Python</th>\n",
       "      <th>Java</th>\n",
       "      <th>DB</th>\n",
       "    </tr>\n",
       "    <tr>\n",
       "      <th>이름</th>\n",
       "      <th></th>\n",
       "      <th></th>\n",
       "      <th></th>\n",
       "    </tr>\n",
       "  </thead>\n",
       "  <tbody>\n",
       "    <tr>\n",
       "      <th>박매일</th>\n",
       "      <td>89</td>\n",
       "      <td>78</td>\n",
       "      <td>99</td>\n",
       "    </tr>\n",
       "    <tr>\n",
       "      <th>김미희</th>\n",
       "      <td>67</td>\n",
       "      <td>88</td>\n",
       "      <td>77</td>\n",
       "    </tr>\n",
       "    <tr>\n",
       "      <th>강예진</th>\n",
       "      <td>100</td>\n",
       "      <td>55</td>\n",
       "      <td>96</td>\n",
       "    </tr>\n",
       "    <tr>\n",
       "      <th>최성우</th>\n",
       "      <td>99</td>\n",
       "      <td>99</td>\n",
       "      <td>99</td>\n",
       "    </tr>\n",
       "  </tbody>\n",
       "</table>\n",
       "</div>"
      ],
      "text/plain": [
       "     Python  Java  DB\n",
       "이름                   \n",
       "박매일      89    78  99\n",
       "김미희      67    88  77\n",
       "강예진     100    55  96\n",
       "최성우      99    99  99"
      ]
     },
     "execution_count": 29,
     "metadata": {},
     "output_type": "execute_result"
    }
   ],
   "source": [
    "col = ['이름','Python','Java','DB']\n",
    "df = pd.DataFrame(score_list, columns=col)\n",
    "df.set_index('이름', inplace=True)\n",
    "df"
   ]
  },
  {
   "cell_type": "code",
   "execution_count": 11,
   "id": "0821abeb",
   "metadata": {
    "scrolled": true
   },
   "outputs": [
    {
     "data": {
      "text/html": [
       "<div>\n",
       "<style scoped>\n",
       "    .dataframe tbody tr th:only-of-type {\n",
       "        vertical-align: middle;\n",
       "    }\n",
       "\n",
       "    .dataframe tbody tr th {\n",
       "        vertical-align: top;\n",
       "    }\n",
       "\n",
       "    .dataframe thead th {\n",
       "        text-align: right;\n",
       "    }\n",
       "</style>\n",
       "<table border=\"1\" class=\"dataframe\">\n",
       "  <thead>\n",
       "    <tr style=\"text-align: right;\">\n",
       "      <th></th>\n",
       "      <th>Python</th>\n",
       "      <th>Java</th>\n",
       "      <th>DB</th>\n",
       "      <th>평균</th>\n",
       "    </tr>\n",
       "    <tr>\n",
       "      <th>이름</th>\n",
       "      <th></th>\n",
       "      <th></th>\n",
       "      <th></th>\n",
       "      <th></th>\n",
       "    </tr>\n",
       "  </thead>\n",
       "  <tbody>\n",
       "    <tr>\n",
       "      <th>박매일</th>\n",
       "      <td>89</td>\n",
       "      <td>78</td>\n",
       "      <td>99</td>\n",
       "      <td>89</td>\n",
       "    </tr>\n",
       "    <tr>\n",
       "      <th>김미희</th>\n",
       "      <td>67</td>\n",
       "      <td>88</td>\n",
       "      <td>77</td>\n",
       "      <td>77</td>\n",
       "    </tr>\n",
       "    <tr>\n",
       "      <th>강예진</th>\n",
       "      <td>100</td>\n",
       "      <td>55</td>\n",
       "      <td>96</td>\n",
       "      <td>84</td>\n",
       "    </tr>\n",
       "    <tr>\n",
       "      <th>최성우</th>\n",
       "      <td>99</td>\n",
       "      <td>99</td>\n",
       "      <td>99</td>\n",
       "      <td>99</td>\n",
       "    </tr>\n",
       "  </tbody>\n",
       "</table>\n",
       "</div>"
      ],
      "text/plain": [
       "     Python  Java  DB  평균\n",
       "이름                       \n",
       "박매일      89    78  99  89\n",
       "김미희      67    88  77  77\n",
       "강예진     100    55  96  84\n",
       "최성우      99    99  99  99"
      ]
     },
     "execution_count": 11,
     "metadata": {},
     "output_type": "execute_result"
    }
   ],
   "source": [
    "df['평균']=df.mean(axis=1)\n",
    "df"
   ]
  },
  {
   "cell_type": "code",
   "execution_count": 12,
   "id": "2c46abe7",
   "metadata": {},
   "outputs": [
    {
     "data": {
      "text/plain": [
       "['B', 'C', 'B', 'A']"
      ]
     },
     "execution_count": 12,
     "metadata": {},
     "output_type": "execute_result"
    }
   ],
   "source": [
    "grade=[]\n",
    "for i in list(df['평균']):\n",
    "    if(i>=90):\n",
    "        grade.append('A')\n",
    "    elif(i>=80):\n",
    "        grade.append('B')\n",
    "    elif(i>=70):\n",
    "        grade.append('C')\n",
    "    elif(i>=60):\n",
    "        grade.append('D')\n",
    "    else:\n",
    "        grade.append('F')\n",
    "grade"
   ]
  },
  {
   "cell_type": "code",
   "execution_count": 13,
   "id": "6c18985c",
   "metadata": {
    "scrolled": false
   },
   "outputs": [
    {
     "data": {
      "text/html": [
       "<div>\n",
       "<style scoped>\n",
       "    .dataframe tbody tr th:only-of-type {\n",
       "        vertical-align: middle;\n",
       "    }\n",
       "\n",
       "    .dataframe tbody tr th {\n",
       "        vertical-align: top;\n",
       "    }\n",
       "\n",
       "    .dataframe thead th {\n",
       "        text-align: right;\n",
       "    }\n",
       "</style>\n",
       "<table border=\"1\" class=\"dataframe\">\n",
       "  <thead>\n",
       "    <tr style=\"text-align: right;\">\n",
       "      <th></th>\n",
       "      <th>Python</th>\n",
       "      <th>Java</th>\n",
       "      <th>DB</th>\n",
       "      <th>평균</th>\n",
       "      <th>학점</th>\n",
       "    </tr>\n",
       "    <tr>\n",
       "      <th>이름</th>\n",
       "      <th></th>\n",
       "      <th></th>\n",
       "      <th></th>\n",
       "      <th></th>\n",
       "      <th></th>\n",
       "    </tr>\n",
       "  </thead>\n",
       "  <tbody>\n",
       "    <tr>\n",
       "      <th>박매일</th>\n",
       "      <td>89</td>\n",
       "      <td>78</td>\n",
       "      <td>99</td>\n",
       "      <td>89</td>\n",
       "      <td>B</td>\n",
       "    </tr>\n",
       "    <tr>\n",
       "      <th>김미희</th>\n",
       "      <td>67</td>\n",
       "      <td>88</td>\n",
       "      <td>77</td>\n",
       "      <td>77</td>\n",
       "      <td>C</td>\n",
       "    </tr>\n",
       "    <tr>\n",
       "      <th>강예진</th>\n",
       "      <td>100</td>\n",
       "      <td>55</td>\n",
       "      <td>96</td>\n",
       "      <td>84</td>\n",
       "      <td>B</td>\n",
       "    </tr>\n",
       "    <tr>\n",
       "      <th>최성우</th>\n",
       "      <td>99</td>\n",
       "      <td>99</td>\n",
       "      <td>99</td>\n",
       "      <td>99</td>\n",
       "      <td>A</td>\n",
       "    </tr>\n",
       "  </tbody>\n",
       "</table>\n",
       "</div>"
      ],
      "text/plain": [
       "     Python  Java  DB  평균 학점\n",
       "이름                          \n",
       "박매일      89    78  99  89  B\n",
       "김미희      67    88  77  77  C\n",
       "강예진     100    55  96  84  B\n",
       "최성우      99    99  99  99  A"
      ]
     },
     "execution_count": 13,
     "metadata": {},
     "output_type": "execute_result"
    }
   ],
   "source": [
    "df['학점']=grade\n",
    "df"
   ]
  },
  {
   "cell_type": "code",
   "execution_count": 14,
   "id": "11042a03",
   "metadata": {
    "scrolled": false
   },
   "outputs": [
    {
     "data": {
      "text/html": [
       "<div>\n",
       "<style scoped>\n",
       "    .dataframe tbody tr th:only-of-type {\n",
       "        vertical-align: middle;\n",
       "    }\n",
       "\n",
       "    .dataframe tbody tr th {\n",
       "        vertical-align: top;\n",
       "    }\n",
       "\n",
       "    .dataframe thead th {\n",
       "        text-align: right;\n",
       "    }\n",
       "</style>\n",
       "<table border=\"1\" class=\"dataframe\">\n",
       "  <thead>\n",
       "    <tr style=\"text-align: right;\">\n",
       "      <th></th>\n",
       "      <th>Python</th>\n",
       "      <th>Java</th>\n",
       "      <th>DB</th>\n",
       "      <th>평균</th>\n",
       "      <th>학점</th>\n",
       "    </tr>\n",
       "    <tr>\n",
       "      <th>이름</th>\n",
       "      <th></th>\n",
       "      <th></th>\n",
       "      <th></th>\n",
       "      <th></th>\n",
       "      <th></th>\n",
       "    </tr>\n",
       "  </thead>\n",
       "  <tbody>\n",
       "    <tr>\n",
       "      <th>박매일</th>\n",
       "      <td>89</td>\n",
       "      <td>78</td>\n",
       "      <td>99</td>\n",
       "      <td>89</td>\n",
       "      <td>B</td>\n",
       "    </tr>\n",
       "    <tr>\n",
       "      <th>김미희</th>\n",
       "      <td>67</td>\n",
       "      <td>88</td>\n",
       "      <td>77</td>\n",
       "      <td>77</td>\n",
       "      <td>C</td>\n",
       "    </tr>\n",
       "    <tr>\n",
       "      <th>강예진</th>\n",
       "      <td>100</td>\n",
       "      <td>55</td>\n",
       "      <td>96</td>\n",
       "      <td>84</td>\n",
       "      <td>B</td>\n",
       "    </tr>\n",
       "    <tr>\n",
       "      <th>최성우</th>\n",
       "      <td>99</td>\n",
       "      <td>99</td>\n",
       "      <td>99</td>\n",
       "      <td>99</td>\n",
       "      <td>A</td>\n",
       "    </tr>\n",
       "    <tr>\n",
       "      <th>평균</th>\n",
       "      <td>89</td>\n",
       "      <td>80</td>\n",
       "      <td>93</td>\n",
       "      <td>NaN</td>\n",
       "      <td>NaN</td>\n",
       "    </tr>\n",
       "  </tbody>\n",
       "</table>\n",
       "</div>"
      ],
      "text/plain": [
       "     Python  Java  DB  평균   학점\n",
       "이름                            \n",
       "박매일      89    78  99  89    B\n",
       "김미희      67    88  77  77    C\n",
       "강예진     100    55  96  84    B\n",
       "최성우      99    99  99  99    A\n",
       "평균       89    80  93 NaN  NaN"
      ]
     },
     "execution_count": 14,
     "metadata": {},
     "output_type": "execute_result"
    }
   ],
   "source": [
    "df.loc['평균']=df.iloc[:,:3].mean()\n",
    "df"
   ]
  },
  {
   "cell_type": "markdown",
   "id": "a9ef28e8",
   "metadata": {},
   "source": [
    "### 문제10"
   ]
  },
  {
   "cell_type": "code",
   "execution_count": 15,
   "id": "13b46bcf",
   "metadata": {
    "scrolled": true
   },
   "outputs": [],
   "source": [
    "import matplotlib.pyplot as plt\n",
    "from matplotlib import font_manager, rc\n",
    "font_name = font_manager.FontProperties(fname='C:/Windows/Fonts/malgun.ttf').get_name()\n",
    "rc('font',family=font_name)"
   ]
  },
  {
   "cell_type": "code",
   "execution_count": 16,
   "id": "c615e33d",
   "metadata": {
    "scrolled": false
   },
   "outputs": [
    {
     "data": {
      "text/html": [
       "<div>\n",
       "<style scoped>\n",
       "    .dataframe tbody tr th:only-of-type {\n",
       "        vertical-align: middle;\n",
       "    }\n",
       "\n",
       "    .dataframe tbody tr th {\n",
       "        vertical-align: top;\n",
       "    }\n",
       "\n",
       "    .dataframe thead th {\n",
       "        text-align: right;\n",
       "    }\n",
       "</style>\n",
       "<table border=\"1\" class=\"dataframe\">\n",
       "  <thead>\n",
       "    <tr style=\"text-align: right;\">\n",
       "      <th></th>\n",
       "      <th>과목</th>\n",
       "      <th>점수</th>\n",
       "    </tr>\n",
       "    <tr>\n",
       "      <th>이름</th>\n",
       "      <th></th>\n",
       "      <th></th>\n",
       "    </tr>\n",
       "  </thead>\n",
       "  <tbody>\n",
       "    <tr>\n",
       "      <th>김성광</th>\n",
       "      <td>국어</td>\n",
       "      <td>100</td>\n",
       "    </tr>\n",
       "    <tr>\n",
       "      <th>김대우</th>\n",
       "      <td>국어</td>\n",
       "      <td>20</td>\n",
       "    </tr>\n",
       "    <tr>\n",
       "      <th>김영웅</th>\n",
       "      <td>국어</td>\n",
       "      <td>76</td>\n",
       "    </tr>\n",
       "    <tr>\n",
       "      <th>최영화</th>\n",
       "      <td>국어</td>\n",
       "      <td>50</td>\n",
       "    </tr>\n",
       "    <tr>\n",
       "      <th>나효주</th>\n",
       "      <td>국어</td>\n",
       "      <td>97</td>\n",
       "    </tr>\n",
       "    <tr>\n",
       "      <th>이루리</th>\n",
       "      <td>국어</td>\n",
       "      <td>50</td>\n",
       "    </tr>\n",
       "    <tr>\n",
       "      <th>이다연</th>\n",
       "      <td>국어</td>\n",
       "      <td>80</td>\n",
       "    </tr>\n",
       "    <tr>\n",
       "      <th>이성훈</th>\n",
       "      <td>국어</td>\n",
       "      <td>60</td>\n",
       "    </tr>\n",
       "    <tr>\n",
       "      <th>박민</th>\n",
       "      <td>국어</td>\n",
       "      <td>90</td>\n",
       "    </tr>\n",
       "  </tbody>\n",
       "</table>\n",
       "</div>"
      ],
      "text/plain": [
       "     과목   점수\n",
       "이름          \n",
       "김성광  국어  100\n",
       "김대우  국어   20\n",
       "김영웅  국어   76\n",
       "최영화  국어   50\n",
       "나효주  국어   97\n",
       "이루리  국어   50\n",
       "이다연  국어   80\n",
       "이성훈  국어   60\n",
       "박민   국어   90"
      ]
     },
     "execution_count": 16,
     "metadata": {},
     "output_type": "execute_result"
    }
   ],
   "source": [
    "data=pd.read_csv('test_score.csv', encoding='euc-kr')\n",
    "data.set_index('이름', inplace=True)\n",
    "data"
   ]
  },
  {
   "cell_type": "code",
   "execution_count": 17,
   "id": "a0a67255",
   "metadata": {},
   "outputs": [],
   "source": [
    "x=data.index\n",
    "y=data['점수']"
   ]
  },
  {
   "cell_type": "code",
   "execution_count": 18,
   "id": "76fd4bbc",
   "metadata": {
    "scrolled": false
   },
   "outputs": [
    {
     "data": {
      "image/png": "[encoded data removed]",
      "text/plain": [
       "<Figure size 792x360 with 1 Axes>"
      ]
     },
     "metadata": {
      "needs_background": "light"
     },
     "output_type": "display_data"
    }
   ],
   "source": [
    "plt.figure(figsize = (11,5))\n",
    "plt.plot(x,y, ls='-')\n",
    "plt.title('학생별 국어점수')\n",
    "plt.xlabel(data.index.name) \n",
    "plt.ylabel('점수').set_rotation(0)\n",
    "plt.show()"
   ]
  }
 ],
 "metadata": {
  "kernelspec": {
   "display_name": "Python 3",
   "language": "python",
   "name": "python3"
  },
  "language_info": {
   "codemirror_mode": {
    "name": "ipython",
    "version": 3
   },
   "file_extension": ".py",
   "mimetype": "text/x-python",
   "name": "python",
   "nbconvert_exporter": "python",
   "pygments_lexer": "ipython3",
   "version": "3.8.8"
  }
 },
 "nbformat": 4,
 "nbformat_minor": 5
}
