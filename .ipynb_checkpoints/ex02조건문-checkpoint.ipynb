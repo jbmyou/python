{
 "cells": [
  {
   "cell_type": "markdown",
   "id": "a8ff0eb2",
   "metadata": {},
   "source": [
    "# 조건문"
   ]
  },
  {
   "cell_type": "markdown",
   "id": "ff7b9553",
   "metadata": {},
   "source": [
    " - if 조건식 :  (콜론 유의)\n",
    "     - 실행문장(들여쓰기 필수 = if 문의 영역이라는 뜻 = 자바의{})\n",
    " - else 또는 elif 조건식 : (=자바의 else if. 역시 콜론과 이후 실행문장 작성시 들여쓰기 유의)\n",
    " - switch - case 는 없다"
   ]
  },
  {
   "cell_type": "code",
   "execution_count": 2,
   "id": "d7280146",
   "metadata": {},
   "outputs": [
    {
     "name": "stdout",
     "output_type": "stream",
     "text": [
      "참이었을 때 실행하는 문장\n",
      "if문 바깥쪽 실행문장\n"
     ]
    }
   ],
   "source": [
    "if True :\n",
    "    print('참이었을 때 실행하는 문장')\n",
    "print('if문 바깥쪽 실행문장')"
   ]
  },
  {
   "cell_type": "code",
   "execution_count": 3,
   "id": "94437cd6",
   "metadata": {},
   "outputs": [
    {
     "name": "stdout",
     "output_type": "stream",
     "text": [
      "거짓일때1\n",
      "거짓일때2\n",
      "if-else 벗어나고\n"
     ]
    }
   ],
   "source": [
    "if False : \n",
    "    print('참일때')\n",
    "else : \n",
    "    print('거짓일때1')\n",
    "    print('거짓일때2')\n",
    "print('if-else 벗어나고')"
   ]
  },
  {
   "cell_type": "code",
   "execution_count": 4,
   "id": "f74f2ab6",
   "metadata": {},
   "outputs": [
    {
     "name": "stdout",
     "output_type": "stream",
     "text": [
      "택시를 탄다\n"
     ]
    }
   ],
   "source": [
    "money = 50000\n",
    "if money >= 50000 : \n",
    "    print('택시를 탄다')\n",
    "else :\n",
    "    print('버스를 탄다')"
   ]
  },
  {
   "cell_type": "code",
   "execution_count": 13,
   "id": "601b3eee",
   "metadata": {},
   "outputs": [
    {
     "name": "stdout",
     "output_type": "stream",
     "text": [
      "점수 입력 >> 88\n",
      "88점은 B학점 입니다.\n",
      "88점은 B학점 입니다.\n"
     ]
    }
   ],
   "source": [
    "#score = input('점수 입력 >> ')\n",
    "#score = int(score)\n",
    "score = int(input('점수 입력 >> '))\n",
    "grade\n",
    "if score >= 90 :\n",
    "    grade = 'A'\n",
    "elif score >= 80 : \n",
    "    grade = 'B'\n",
    "elif score >= 70 : \n",
    "    grade = 'C'\n",
    "elif score >= 60 :\n",
    "    grade = 'D'\n",
    "else :\n",
    "    grade = 'F'\n",
    "    \n",
    "print(\"%d점은 %c학점 입니다.\"%(score, grade))\n",
    "print(\"{}점은 {}학점 입니다.\".format(score, grade))"
   ]
  },
  {
   "cell_type": "code",
   "execution_count": null,
   "id": "76dfcd4b",
   "metadata": {},
   "outputs": [],
   "source": []
  }
 ],
 "metadata": {
  "kernelspec": {
   "display_name": "Python 3",
   "language": "python",
   "name": "python3"
  },
  "language_info": {
   "codemirror_mode": {
    "name": "ipython",
    "version": 3
   },
   "file_extension": ".py",
   "mimetype": "text/x-python",
   "name": "python",
   "nbconvert_exporter": "python",
   "pygments_lexer": "ipython3",
   "version": "3.8.8"
  }
 },
 "nbformat": 4,
 "nbformat_minor": 5
}
