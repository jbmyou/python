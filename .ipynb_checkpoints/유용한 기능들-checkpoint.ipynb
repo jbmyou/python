{
 "cells": [
  {
   "cell_type": "markdown",
   "id": "6bf1d4f7",
   "metadata": {},
   "source": [
    "- 함수/객체 정보 보기\n",
    "    - 함수/객체이름? ex)sum?\n",
    "    - 함수/객체에 커서두고 shift tap\n",
    "- 객체 속성(변수+함수) 보기 : 객체명으로는 변수, 함수, 모듈, 패키지, 데이터 타입 등\n",
    "    - dir(객체) 그냥 dir()하면 현재 프로그램 내 사용하고 있는 객체 명단을 제공(보이지 않는 것들도 나오는데 무슨 의민지는 모르겠다.)\n",
    "    - 객체. + tap키\n",
    "- 변수/객체의 타입 보기 : type(변수/객체)\n",
    "    - __numpy객체.dtype__ "
   ]
  },
  {
   "cell_type": "markdown",
   "id": "e1e51ec8",
   "metadata": {},
   "source": [
    "- 결과창 길 때 : 더블클릭하여 접기, (클릭하면 펼치기)"
   ]
  },
  {
   "cell_type": "markdown",
   "id": "f92bba3c",
   "metadata": {},
   "source": [
    "- 외부파일 읽어오기 (인코딩 주의!!)\n",
    "    - txt파일 : .loadtxt('파일명.확장자', delimiter=' ',.. )\n",
    "    - 기타 파일 : .read_csv('population_number.csv', encoding='euc-kr') index_col 넣을거면 encoding앞에\n",
    "- 파일 내보내기(인코딩 주의!!) : __.to_확장자(\"파일명.확장자\", 인코딩)__\n",
    "    - menu_price_df.to_csv(\"menu_price_hansot.csv\", encoding=\"euc-kr\")\n",
    "    - data.df.to_html(\"data.html\")  \n",
    "- 'utf-8-sig'인코딩을 통해 실행하면 대부분 한글은 인코딩 됨"
   ]
  },
  {
   "cell_type": "markdown",
   "id": "ac7c38f2",
   "metadata": {},
   "source": [
    "- 이미지\n",
    "![구글](https://www.google.com/images/branding/googlelogo/2x/googlelogo_color_92x30dp.png)"
   ]
  },
  {
   "cell_type": "markdown",
   "id": "33b43cca",
   "metadata": {},
   "source": [
    "- 반복문의 진행상황을 로딩바 형태로 출력하는 라이브러리\n",
    "     - from tqdm.notebook import tqdm"
   ]
  },
  {
   "cell_type": "markdown",
   "id": "587bc802",
   "metadata": {},
   "source": [
    "- strip() : 문자열의 앞뒤(왼쪽 오른쪽) 공백 및 개행문자 제거. 텍스트 객체가 제공함. \n",
    "- strip('http://') : 앞이나 뒤에 h, t, p, :, / 문자를 삭제. 순서 무관 즉 ph로 시작하는 글자에 적용할 경우, p 지우면 h가 노출되므로 h도 삭제됨. 그러나 phrh에 적용하면 r뒤에 h는 삭제되지 않음.\n",
    "    - lstrip() : 문자열의 왼쪽만 작업\n",
    "    - rstrip() : 문자열의 오른쪽만 작업"
   ]
  }
 ],
 "metadata": {
  "kernelspec": {
   "display_name": "Python 3",
   "language": "python",
   "name": "python3"
  },
  "language_info": {
   "codemirror_mode": {
    "name": "ipython",
    "version": 3
   },
   "file_extension": ".py",
   "mimetype": "text/x-python",
   "name": "python",
   "nbconvert_exporter": "python",
   "pygments_lexer": "ipython3",
   "version": "3.8.8"
  }
 },
 "nbformat": 4,
 "nbformat_minor": 5
}
