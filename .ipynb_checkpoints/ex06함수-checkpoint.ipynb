{
 "cells": [
  {
   "cell_type": "markdown",
   "id": "a13357d6",
   "metadata": {},
   "source": [
    "- 함수 : 하나의 특별한 목적의 작업을 수행하기 위한 독립된 코드의 집합 = 자바 메소드\n",
    "    - .count('문자') : 문자열에 포함된 문자 개수 세기\n",
    "    - .find('문자') : 문자의 위치 알려주기\n",
    "    - .index('문자') : 문자의 위치 알려주기\n",
    "    - .join('문자') : 각각의 문자 사이에 '문자' 삽입하기\n",
    "    - .upper() : 소문자를 대문자로\n",
    "    - .lower() : 대문자를 소문자로\n",
    "    - .lstrip() : 왼쪽공백 지우기 , rstrip():오른쪽, strip() : 양쪽공백\n",
    "    - .replace('문자1','문자2') : 모든 문자1을 문자2로\n",
    "    - .split() : 문자열 나누기\n",
    "      \n",
    "- 함수구조  \n",
    "      def 함수명(매개변수) :  \n",
    "          실행문자  \n",
    "          (return 반환변수)   // return은 java처럼 한 번만. (두 번 써도 에러는 안나지만 실행은 안 됨)"
   ]
  },
  {
   "cell_type": "code",
   "execution_count": 2,
   "id": "00d7bc44",
   "metadata": {},
   "outputs": [],
   "source": [
    "#변수 2개를 받아서 더한 값을 되돌려주는 num_sum 함수 생성\n",
    "def add(x,y) :\n",
    "    return x+y"
   ]
  },
  {
   "cell_type": "code",
   "execution_count": 4,
   "id": "e743a738",
   "metadata": {},
   "outputs": [
    {
     "data": {
      "text/plain": [
       "11"
      ]
     },
     "execution_count": 4,
     "metadata": {},
     "output_type": "execute_result"
    }
   ],
   "source": [
    "add(3,8)"
   ]
  },
  {
   "cell_type": "code",
   "execution_count": 9,
   "id": "107d690a",
   "metadata": {},
   "outputs": [
    {
     "data": {
      "text/plain": [
       "'ab'"
      ]
     },
     "execution_count": 9,
     "metadata": {},
     "output_type": "execute_result"
    }
   ],
   "source": [
    "add('a','b')\n",
    "#add('a',0) -> 에러"
   ]
  },
  {
   "cell_type": "code",
   "execution_count": 37,
   "id": "195d460a",
   "metadata": {
    "scrolled": true
   },
   "outputs": [],
   "source": [
    "#입력 받은 두 수 빼기\n",
    "def inputMinus() :\n",
    "    x=int(input('숫자입력'))\n",
    "    y=int(input('숫자입력'))\n",
    "    \n",
    "    return x-y\n",
    "    "
   ]
  },
  {
   "cell_type": "code",
   "execution_count": 38,
   "id": "14dc297a",
   "metadata": {
    "scrolled": false
   },
   "outputs": [
    {
     "name": "stdout",
     "output_type": "stream",
     "text": [
      "숫자입력8\n",
      "숫자입력7\n"
     ]
    },
    {
     "data": {
      "text/plain": [
       "1"
      ]
     },
     "execution_count": 38,
     "metadata": {},
     "output_type": "execute_result"
    }
   ],
   "source": [
    "inputMinus()"
   ]
  },
  {
   "cell_type": "code",
   "execution_count": 70,
   "id": "b82eb7e4",
   "metadata": {},
   "outputs": [],
   "source": [
    "review_list1 = [\"윌 스미스가 하드캐맄ㅋㅋㅋㅋㅋㅋㅋㅋㅋㅋㅋㅋ\",\"쟈스민 너무 멋지고 팬 엄청나게 생길듯ㅋㅋㅋㅋ\"]\n",
    "review_list2 = [\"색감도 노래도 너무 화려하고 재밌었어욬ㅋㅋ\"\n",
    "               , \"오늘부터 디즈니 팬입니다ㅋㅋㅋㅋㅋㅋㅋㅋㅋ\"\n",
    "               , \"디즈니의 새로운 해석도 놀랍고, 윌스미스도 신의한수!\"]"
   ]
  },
  {
   "cell_type": "code",
   "execution_count": 71,
   "id": "e12044e0",
   "metadata": {
    "scrolled": true
   },
   "outputs": [
    {
     "name": "stdout",
     "output_type": "stream",
     "text": [
      "윌 스미스가 하드캐맄\n",
      "쟈스민 너무 멋지고 팬 엄청나게 생길듯\n",
      "색감도 노래도 너무 화려하고 재밌었어욬\n",
      "오늘부터 디즈니 팬입니다\n",
      "디즈니의 새로운 해석도 놀랍고, 윌스미스도 신의한수!\n"
     ]
    }
   ],
   "source": [
    "#ㅋ 문자열을 제거하기!\n",
    "for review in review_list1:\n",
    "    print(review.replace('ㅋ',''))\n",
    "for review in review_list2:\n",
    "    print(review.replace('ㅋ',''))"
   ]
  },
  {
   "cell_type": "code",
   "execution_count": 88,
   "id": "a3e2b3a9",
   "metadata": {
    "scrolled": false
   },
   "outputs": [],
   "source": [
    "#리스트 매개변수를 입력받아서 리스트 안에 있는 데이터들의 'ㅋ'---> '' 대체\n",
    "#str_replace 함수 생성\n",
    "def str_replace(list1) :\n",
    "    for review in list1:\n",
    "        print(review.replace('ㅋ',''))\n"
   ]
  },
  {
   "cell_type": "code",
   "execution_count": 89,
   "id": "322f9620",
   "metadata": {
    "scrolled": false
   },
   "outputs": [
    {
     "name": "stdout",
     "output_type": "stream",
     "text": [
      "윌 스미스가 하드캐맄\n",
      "쟈스민 너무 멋지고 팬 엄청나게 생길듯\n"
     ]
    }
   ],
   "source": [
    "str_replace(review_list1)"
   ]
  },
  {
   "cell_type": "code",
   "execution_count": 111,
   "id": "b8a4e76b",
   "metadata": {
    "scrolled": true
   },
   "outputs": [
    {
     "name": "stdout",
     "output_type": "stream",
     "text": [
      "review_list1\n",
      "review_list2\n"
     ]
    }
   ],
   "source": [
    "n=1\n",
    "while n<3 :\n",
    "    name = 'review_list'+str(n)\n",
    "    n+=1\n",
    "    print(name)\n",
    "    "
   ]
  },
  {
   "cell_type": "code",
   "execution_count": 5,
   "id": "6836640f",
   "metadata": {},
   "outputs": [],
   "source": [
    "#두수와 원하는 연산기호를 입력받아 연산 수행하는 함수 정의\n",
    "\n",
    "def cal() :\n",
    "    \"\"\"op에 따라서 사칙연산을 수행하는 함수\"\"\" #Docstring : 함수에 대한 설명글 작성! -> 보기 : shift + tab\n",
    "    num1 = int(input('정수입력1>>'))\n",
    "    num2 = int(input('정수입력2>>'))\n",
    "    op = input('연산자 입력 >> ')\n",
    "    if op == '+' : \n",
    "        return num1 + num2\n",
    "    elif op == '-' :\n",
    "        return num1 - num2\n",
    "    elif op == '*' :\n",
    "        return num1 * num2\n",
    "    elif op == '/' :\n",
    "        return num1 / num2\n",
    "    "
   ]
  },
  {
   "cell_type": "code",
   "execution_count": 4,
   "id": "32fb0a76",
   "metadata": {
    "scrolled": false
   },
   "outputs": [
    {
     "name": "stdout",
     "output_type": "stream",
     "text": [
      "정수입력1>>1\n",
      "정수입력2>>2\n",
      "연산자 입력 >> +\n",
      "num1 + num2=3\n"
     ]
    }
   ],
   "source": [
    "cal()"
   ]
  },
  {
   "cell_type": "code",
   "execution_count": 107,
   "id": "8b8de5dc",
   "metadata": {
    "scrolled": true
   },
   "outputs": [
    {
     "name": "stdout",
     "output_type": "stream",
     "text": [
      "정수입력1>>16\n",
      "정수입력2>>8\n",
      "연산자 입력 >> /\n"
     ]
    },
    {
     "data": {
      "text/plain": [
       "2.0"
      ]
     },
     "execution_count": 107,
     "metadata": {},
     "output_type": "execute_result"
    }
   ],
   "source": [
    "cal()"
   ]
  },
  {
   "cell_type": "markdown",
   "id": "78e7583e",
   "metadata": {},
   "source": [
    "# 가변매개변수 함수  *\n",
    "- 함수 호출할 때 매개변수의 개수가 정확히 몇개인지 알 수 없을 때 사용자가 직접 매개변수의 개수를 정할 수 있게 선언\n",
    "- def 함수명(*매개변수) :  __별만 추가하면 돼__  \n",
    "  (들여쓰기)실행문장  \n",
    "  (들여쓰기)return 변수  \n"
   ]
  },
  {
   "cell_type": "code",
   "execution_count": 1,
   "id": "1bc029ed",
   "metadata": {},
   "outputs": [],
   "source": [
    "def python_sum(*args):\n",
    "    \n",
    "    result = 0\n",
    "    for i in args :\n",
    "        result += i\n",
    "        \n",
    "    return result\n",
    "    \n",
    "    "
   ]
  },
  {
   "cell_type": "code",
   "execution_count": 139,
   "id": "f8c8398c",
   "metadata": {
    "scrolled": false
   },
   "outputs": [
    {
     "data": {
      "text/plain": [
       "15"
      ]
     },
     "execution_count": 139,
     "metadata": {},
     "output_type": "execute_result"
    }
   ],
   "source": [
    "python_sum(1,2,3,4,5)       #args가 튜플의 형태로 출력된다. ->  튜플 값을 읽어서 연산 해주면 ok"
   ]
  },
  {
   "cell_type": "code",
   "execution_count": 140,
   "id": "6afa9b7a",
   "metadata": {
    "scrolled": false
   },
   "outputs": [
    {
     "data": {
      "text/plain": [
       "90"
      ]
     },
     "execution_count": 140,
     "metadata": {},
     "output_type": "execute_result"
    }
   ],
   "source": [
    "python_sum(8,5,8,4,13,12,8,32)"
   ]
  },
  {
   "cell_type": "code",
   "execution_count": 144,
   "id": "d21b8c49",
   "metadata": {},
   "outputs": [],
   "source": [
    "#함수의 리턴값이 여러개일 때\n",
    "def add_sub(num1, num2) :\n",
    "    return num1+num2, num1-num2      #튜플형태로 여러개의 return값을 출력해줌"
   ]
  },
  {
   "cell_type": "code",
   "execution_count": 143,
   "id": "227e2705",
   "metadata": {},
   "outputs": [
    {
     "data": {
      "text/plain": [
       "(3, -1)"
      ]
     },
     "execution_count": 143,
     "metadata": {},
     "output_type": "execute_result"
    }
   ],
   "source": [
    "add_sub(1,2)"
   ]
  },
  {
   "cell_type": "code",
   "execution_count": 146,
   "id": "61c75004",
   "metadata": {
    "scrolled": true
   },
   "outputs": [
    {
     "name": "stdout",
     "output_type": "stream",
     "text": [
      "3\n",
      "-1\n"
     ]
    }
   ],
   "source": [
    "#파인썬 여러 변수 초기화 가능 : 'a,b = 1,2' 를 활용하면 결과값을 튜플이 아니라 바로 따로 받아올 수 있다.\n",
    "result1, result2 = add_sub(1,2)\n",
    "print(result1)\n",
    "print(result2)"
   ]
  },
  {
   "cell_type": "markdown",
   "id": "d77803c3",
   "metadata": {},
   "source": [
    "### 함수 기본값 설정\n",
    "- 기본값 자리를 생략하면 기본값으로 실행  \n",
    "- 다른 값으로 대체하고자 한다면 4 또는 power = 4이렇게 써주면 됨. (후자를 추천)"
   ]
  },
  {
   "cell_type": "code",
   "execution_count": 149,
   "id": "3b300825",
   "metadata": {},
   "outputs": [],
   "source": [
    "#숫자데이터의 제곱을 구해서 되돌려주는 함수!\n",
    "def power_num(num1, power=2):\n",
    "    return num1**power"
   ]
  },
  {
   "cell_type": "code",
   "execution_count": 150,
   "id": "0f7bac8b",
   "metadata": {},
   "outputs": [
    {
     "data": {
      "text/plain": [
       "9"
      ]
     },
     "execution_count": 150,
     "metadata": {},
     "output_type": "execute_result"
    }
   ],
   "source": [
    "power_num(3)"
   ]
  },
  {
   "cell_type": "code",
   "execution_count": 151,
   "id": "94be0994",
   "metadata": {},
   "outputs": [
    {
     "data": {
      "text/plain": [
       "81"
      ]
     },
     "execution_count": 151,
     "metadata": {},
     "output_type": "execute_result"
    }
   ],
   "source": [
    "power_num(3,4)"
   ]
  },
  {
   "cell_type": "code",
   "execution_count": 152,
   "id": "e9e201c2",
   "metadata": {},
   "outputs": [
    {
     "data": {
      "text/plain": [
       "81"
      ]
     },
     "execution_count": 152,
     "metadata": {},
     "output_type": "execute_result"
    }
   ],
   "source": [
    "power_num(3,power = 4)"
   ]
  },
  {
   "cell_type": "markdown",
   "id": "8010e502",
   "metadata": {},
   "source": [
    "### 딕셔너리 형태의 가변매개변수 **\n",
    "- def 함수명(**매개변수) : \n",
    "- (들여쓰기) 실행문장\n",
    "- (들여쓰기) return변수"
   ]
  },
  {
   "cell_type": "code",
   "execution_count": 8,
   "id": "e9eb7457",
   "metadata": {},
   "outputs": [],
   "source": [
    "#딕셔너리 자료구조 print해주는 함수 생성\n",
    "def print_str(**kwargs):    #kwargs : kewyword(key값)를 가지고 있는 arguments. : 가 아니라 =를 사용\n",
    "    print(kwargs)"
   ]
  },
  {
   "cell_type": "code",
   "execution_count": 5,
   "id": "1511af0c",
   "metadata": {},
   "outputs": [
    {
     "name": "stdout",
     "output_type": "stream",
     "text": [
      "{'one': 1, 'tow': 2, 'three': 3}\n"
     ]
    }
   ],
   "source": [
    "print({'one':1,'two':2,'three':3})"
   ]
  },
  {
   "cell_type": "code",
   "execution_count": 11,
   "id": "9a263e08",
   "metadata": {
    "scrolled": false
   },
   "outputs": [
    {
     "name": "stdout",
     "output_type": "stream",
     "text": [
      "{'one': 1, 'two': 2, 'three': 3}\n"
     ]
    }
   ],
   "source": [
    "print_str(one=1,two=2,three=3)   #변수명(key값)에 따옴표 안 썼음에 주목! 쓰면 에러남"
   ]
  },
  {
   "cell_type": "code",
   "execution_count": 14,
   "id": "df452129",
   "metadata": {},
   "outputs": [],
   "source": [
    "def print_str1(**kwargs):    \n",
    "    for i,j in kwargs.items():\n",
    "        print(i,\"/\",j)           #쉼표로 나열되는 거 보면 print()도 일종의 가변매개변수함수겠구나. \n",
    "                                #대신 각각의 인자를 변수로 받아서 출력해주는 식으로 함수가 정의되어있지않을까?\n",
    "    "
   ]
  },
  {
   "cell_type": "code",
   "execution_count": 15,
   "id": "0b30489a",
   "metadata": {
    "scrolled": true
   },
   "outputs": [
    {
     "name": "stdout",
     "output_type": "stream",
     "text": [
      "one / 1\n",
      "tow / 2\n",
      "three / 3\n"
     ]
    }
   ],
   "source": [
    "print_str1(one=1,tow=2,three=3)"
   ]
  },
  {
   "cell_type": "code",
   "execution_count": 18,
   "id": "d70f38ab",
   "metadata": {
    "scrolled": true
   },
   "outputs": [
    {
     "name": "stdout",
     "output_type": "stream",
     "text": [
      "1>>>2>>>3>>>4>>>5///"
     ]
    }
   ],
   "source": [
    "print(1,2,3,4,5, sep='>>>', end='///')"
   ]
  }
 ],
 "metadata": {
  "kernelspec": {
   "display_name": "Python 3",
   "language": "python",
   "name": "python3"
  },
  "language_info": {
   "codemirror_mode": {
    "name": "ipython",
    "version": 3
   },
   "file_extension": ".py",
   "mimetype": "text/x-python",
   "name": "python",
   "nbconvert_exporter": "python",
   "pygments_lexer": "ipython3",
   "version": "3.8.8"
  }
 },
 "nbformat": 4,
 "nbformat_minor": 5
}
