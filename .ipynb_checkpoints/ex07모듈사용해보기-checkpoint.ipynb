{
 "cells": [
  {
   "cell_type": "markdown",
   "id": "8d36a96e",
   "metadata": {},
   "source": [
    "### 모듈 사용하기\n",
    "- 현재 script파일(.ipynp)과 모듈(.py)파일이 같은 공간(폴더)에 위치해야 한다. \n",
    "- 특정 함수(클래스)만 로드할 수도 있다. (from Module import 원하는 것) -> 함수 이름만 호출하면 됨 (별칭 여전히 사용가능하네)\n",
    "    - 무거운 라이브러리는 이렇게 사용\n",
    "- 모듈에 별칭 붙였으면 별칭만 사용가능. 특정 기능에 별칭 붙였을 땐 별칭과 원래 이름 모두 사용가능"
   ]
  },
  {
   "cell_type": "code",
   "execution_count": 8,
   "id": "b6b78575",
   "metadata": {},
   "outputs": [],
   "source": [
    "#라이브러리에 로딩하기\n",
    "import Module as md  #별칭만 사용 가능"
   ]
  },
  {
   "cell_type": "code",
   "execution_count": 3,
   "id": "6265a1ff",
   "metadata": {},
   "outputs": [
    {
     "data": {
      "text/plain": [
       "11"
      ]
     },
     "execution_count": 3,
     "metadata": {},
     "output_type": "execute_result"
    }
   ],
   "source": [
    "md.add_num(4,7)"
   ]
  },
  {
   "cell_type": "code",
   "execution_count": 4,
   "id": "8b217c24",
   "metadata": {},
   "outputs": [],
   "source": [
    "#kernel restart ---> python 실행시켜서 메모리에 로드했던 거 삭제(=프로그램 재실행)\n",
    "#라이브러리 안에서 특정 함수(클래스)만 불러오는 방법\n",
    "from Module import add_num as an"
   ]
  },
  {
   "cell_type": "code",
   "execution_count": 5,
   "id": "cdba6afb",
   "metadata": {},
   "outputs": [
    {
     "data": {
      "text/plain": [
       "3"
      ]
     },
     "execution_count": 5,
     "metadata": {},
     "output_type": "execute_result"
    }
   ],
   "source": [
    "add_num(1,2)"
   ]
  },
  {
   "cell_type": "code",
   "execution_count": 11,
   "id": "7f2755c0",
   "metadata": {},
   "outputs": [
    {
     "data": {
      "text/plain": [
       "7"
      ]
     },
     "execution_count": 11,
     "metadata": {},
     "output_type": "execute_result"
    }
   ],
   "source": [
    "an(3,4) /  # 별칭 사용 가능"
   ]
  },
  {
   "cell_type": "code",
   "execution_count": 12,
   "id": "989659e4",
   "metadata": {},
   "outputs": [
    {
     "data": {
      "text/plain": [
       "9"
      ]
     },
     "execution_count": 12,
     "metadata": {},
     "output_type": "execute_result"
    }
   ],
   "source": [
    "add_num(4,5)  #원래 이름도 여전히 사용 가능"
   ]
  },
  {
   "cell_type": "markdown",
   "id": "4de2a740",
   "metadata": {},
   "source": [
    "- 이후 수업 내용 (기본 라이브러리 세개 배우자)\n",
    "    - numpy : 고성능 과학계산 라이브러리\n",
    "    - pandas : 표형식의 데이터를 지원하는 라이브러리\n",
    "    - matplotlib : 2D 그래프 시각화 라이브러리"
   ]
  }
 ],
 "metadata": {
  "kernelspec": {
   "display_name": "Python 3",
   "language": "python",
   "name": "python3"
  },
  "language_info": {
   "codemirror_mode": {
    "name": "ipython",
    "version": 3
   },
   "file_extension": ".py",
   "mimetype": "text/x-python",
   "name": "python",
   "nbconvert_exporter": "python",
   "pygments_lexer": "ipython3",
   "version": "3.8.8"
  }
 },
 "nbformat": 4,
 "nbformat_minor": 5
}
