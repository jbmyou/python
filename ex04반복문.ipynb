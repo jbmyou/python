{
 "cells": [
  {
   "cell_type": "markdown",
   "id": "4606187e",
   "metadata": {},
   "source": [
    "# 1)  while문\n",
    "\n",
    " - 반복 횟수가 명확하지 않을 때 사용하는 반복문\n",
    " - while 조건식 :\n",
    "         실행문장들..\n",
    "         break"
   ]
  },
  {
   "cell_type": "markdown",
   "id": "3a8895b0",
   "metadata": {},
   "source": [
    " - 반복 횟수가 명확하지 않을 때 사용하는 반복문\n",
    " - while 조건식 :\n",
    "         실행문장들..\n",
    "         break\n",
    " "
   ]
  },
  {
   "cell_type": "code",
   "execution_count": 3,
   "id": "5eec20cc",
   "metadata": {
    "scrolled": true
   },
   "outputs": [
    {
     "name": "stdout",
     "output_type": "stream",
     "text": [
      "간편한 파이썬 0\n",
      "간편한 파이썬 1\n",
      "간편한 파이썬 2\n",
      "간편한 파이썬 3\n",
      "간편한 파이썬 4\n",
      "간편한 파이썬 5\n",
      "간편한 파이썬 6\n",
      "간편한 파이썬 7\n",
      "간편한 파이썬 8\n",
      "간편한 파이썬 9\n"
     ]
    }
   ],
   "source": [
    "num=0\n",
    "while num<10 :\n",
    "    print('간편한 파이썬',num)\n",
    "    num += 1"
   ]
  },
  {
   "cell_type": "code",
   "execution_count": 4,
   "id": "03bc2a1e",
   "metadata": {},
   "outputs": [],
   "source": [
    "#파이썬에서 랜덤한 수 뽑아오는 방법\n",
    "#파이썬 라이브러리 random 로딩 import문 직접 작성. 객체명 대신 별칭사용 가능\n",
    "import random as rd"
   ]
  },
  {
   "cell_type": "code",
   "execution_count": 11,
   "id": "bae0a097",
   "metadata": {},
   "outputs": [
    {
     "data": {
      "text/plain": [
       "8"
      ]
     },
     "execution_count": 11,
     "metadata": {},
     "output_type": "execute_result"
    }
   ],
   "source": [
    "#랜덤한 수 추출하는 방법\n",
    "#1~10 사이의 랜덤한 수를 추출. 1<=  <=10 (+1 필요없다)\n",
    "rd.randint(1,10)"
   ]
  },
  {
   "cell_type": "code",
   "execution_count": 22,
   "id": "df561c96",
   "metadata": {
    "scrolled": false
   },
   "outputs": [
    {
     "name": "stdout",
     "output_type": "stream",
     "text": [
      "숫자를 입력하세요 >> 25\n",
      "25보다 큰 수 입니다.\n",
      "숫자를 입력하세요 >> 37\n",
      "37보다 작은 수 입니다.\n",
      "숫자를 입력하세요 >> 30\n",
      "30보다 큰 수 입니다.\n",
      "숫자를 입력하세요 >> 33\n",
      "33보다 작은 수 입니다.\n",
      "숫자를 입력하세요 >> 32\n",
      "정답입니다.\n"
     ]
    }
   ],
   "source": [
    "quiz = rd.randint(1,50)\n",
    "#temp = True\n",
    "while True : \n",
    "    answer = int(input('숫자를 입력하세요 >> '))\n",
    "    if quiz>answer :\n",
    "        print(\"{}보다 큰 수 입니다.\".format(answer))\n",
    "    elif quiz<answer : \n",
    "        print(\"{}보다 작은 수 입니다.\".format(answer))\n",
    "    else :\n",
    "        print('정답입니다.')\n",
    "        break\n",
    "        #temp = False"
   ]
  },
  {
   "cell_type": "code",
   "execution_count": 25,
   "id": "1019f508",
   "metadata": {
    "scrolled": true
   },
   "outputs": [
    {
     "name": "stdout",
     "output_type": "stream",
     "text": [
      "숫자를 입력하세요 >> 1\n",
      "UP\n",
      "숫자를 입력하세요 >> 2\n",
      "UP\n",
      "숫자를 입력하세요 >> 3\n",
      "UP\n",
      "숫자를 입력하세요 >> 4\n",
      "UP\n",
      "숫자를 입력하세요 >> 5\n",
      "UP\n",
      "나 빼고 원샷\n"
     ]
    }
   ],
   "source": [
    "quiz = rd.randint(1,50)\n",
    "temp = 0\n",
    "while temp<5 : \n",
    "    answer = int(input('숫자를 입력하세요 >> '))\n",
    "    if quiz>answer :\n",
    "        print(\"UP\")\n",
    "    elif quiz<answer : \n",
    "        print(\"DOWN\")\n",
    "    else :\n",
    "        print('아..놔.. 맞췄네..')\n",
    "        break\n",
    "    temp += 1\n",
    "if temp >= 5 :\n",
    "    print('나 빼고 원샷')\n",
    "        "
   ]
  },
  {
   "cell_type": "markdown",
   "id": "5c55aba2",
   "metadata": {},
   "source": [
    "# 2)for "
   ]
  },
  {
   "cell_type": "markdown",
   "id": "3a0d1bf6",
   "metadata": {},
   "source": [
    "- 명확하게 반복 횟수가 정해져 있을 때\n",
    "- for 변수 in 문자열(/리스트/튜플/range) :   // 자바의 for-each문과 매우 비슷. in 뒤에 딕셔너리가 오면 키값만!!!(온전치가 않아)\n",
    "    - 실행문장s\n",
    "    - break\n",
    "- for문과 리스트, 튜플, 딕셔너리\n",
    "    - 이차원 리스트, 튜플 : 이중for문 필요없고, 2차원의 요소수만큼 변수만 필요\n",
    "    - 딕셔너리 \n",
    "        - .keys(), values()함수, items()함수와 함께 쓰이며, iteams() 2차원리스트 구조이므로 2개의 변수 필요\n",
    "        - 2차원 딕셔너리 : 이중for문 필요"
   ]
  },
  {
   "cell_type": "code",
   "execution_count": 1,
   "id": "68156842",
   "metadata": {
    "scrolled": true
   },
   "outputs": [
    {
     "ename": "SyntaxError",
     "evalue": "invalid syntax (<ipython-input-1-7c5500fdb93e>, line 3)",
     "output_type": "error",
     "traceback": [
      "\u001b[1;36m  File \u001b[1;32m\"<ipython-input-1-7c5500fdb93e>\"\u001b[1;36m, line \u001b[1;32m3\u001b[0m\n\u001b[1;33m    for\u001b[0m\n\u001b[1;37m       ^\u001b[0m\n\u001b[1;31mSyntaxError\u001b[0m\u001b[1;31m:\u001b[0m invalid syntax\n"
     ]
    }
   ],
   "source": [
    "s1 = '아메리카노'\n",
    "list1 = [1,2,3,4,5]\n",
    "\n",
    "#print의 기본값은 \\n. 이거 바꾸는 방법 :  end = \" \"\n",
    "for i in s1 : \n",
    "    print(i, end = \" \")\n",
    "print()\n",
    "for i in list1 : \n",
    "    print(i, end = \"\\t\")"
   ]
  },
  {
   "cell_type": "code",
   "execution_count": 59,
   "id": "ada3bb7f",
   "metadata": {
    "scrolled": true
   },
   "outputs": [
    {
     "name": "stdout",
     "output_type": "stream",
     "text": [
      "1번 학생은 합격입니다.\n",
      "2번 학생은 불합격입니다.\n",
      "3번 학생은 합격입니다.\n",
      "4번 학생은 합격입니다.\n",
      "5번 학생은 불합격입니다.\n",
      "\n",
      "1번 학생은 합격입니다\n",
      "2번 학생은 불합격입니다\n",
      "3번 학생은 합격입니다\n",
      "4번 학생은 합격입니다\n",
      "5번 학생은 불합격입니다\n",
      "\n",
      "1번 학생은 합격입니다.\n",
      "2번 학생은 불합격입니다.\n",
      "3번 학생은 합격입니다.\n",
      "4번 학생은 합격입니다.\n",
      "5번 학생은 불합격입니다.\n"
     ]
    }
   ],
   "source": [
    "score_list = [90,45,70,60,55]\n",
    "id = 1\n",
    "for i in score_list :\n",
    "    result = \"합격\" if i >= 60 else \"불합격\"  #------------------#삼항연산자(가독성이 자바보다 더 안좋아졌네..)\n",
    "    print(\"{}번 학생은 {}입니다.\".format(id, result))\n",
    "    id += 1\n",
    "print()\n",
    "\n",
    "for i in score_list : #---------------------------------------인덱스번호 가져오기\n",
    "     print(\"{}번 학생은 \".format(score_list.index(i)+1)+ (\"합격입니다\" if i>=60 else \"불합격입니다\") )\n",
    "print()\n",
    "\n",
    "for i in score_list :  #---------------------------------------평범한 if-else 사용하기(전체 가독성이 확실히 좋다)\n",
    "    if i>=60 :\n",
    "        result = \"합격\"\n",
    "    else :\n",
    "        result = \"불합격\"\n",
    "    print(\"{}번 학생은 {}입니다.\".format(score_list.index(i)+1,result))"
   ]
  },
  {
   "cell_type": "markdown",
   "id": "f7ac8c45",
   "metadata": {},
   "source": [
    "- for문과 range()  \n",
    "    - 필요한 만큼의 숫자를 만들어내는 유용한 기능  \n",
    "    - range(시작할 숫자, 종료할 숫자, 증감량)  #종료할 숫자미만까지 만들어냄  \n",
    "        - 매개변수 하나 >> 종료숫자. 시작defalut=0, 증감량default = 1\n",
    "        - 매개변수 둘 >> 종료숫자, 시작숫자"
   ]
  },
  {
   "cell_type": "code",
   "execution_count": 63,
   "id": "271a56ab",
   "metadata": {},
   "outputs": [
    {
     "name": "stdout",
     "output_type": "stream",
     "text": [
      "1 3 5 7 9 \n",
      "0 1 2 3 4 5 6 7 8 9 \n",
      "2 3 4 5 6 7 \n",
      "[1, 2, 3, 4, 5, 6, 7, 8, 9]\n"
     ]
    }
   ],
   "source": [
    "for i in range(1,10,2) : \n",
    "    print(i,end=\" \")\n",
    "print()\n",
    "for i in range(10) :\n",
    "    print(i,end=\" \")\n",
    "print()\n",
    "for i in range(2,8) :\n",
    "    print(i,end=\" \")\n",
    "print()\n",
    "list = []\n",
    "for i in range(1,10) : \n",
    "    list.append(i)\n",
    "print(list)"
   ]
  },
  {
   "cell_type": "code",
   "execution_count": 2,
   "id": "ebfc3a89",
   "metadata": {},
   "outputs": [
    {
     "name": "stdout",
     "output_type": "stream",
     "text": [
      "[1, 2, 3]\n",
      "[3, 4, 5]\n",
      "[5, 6, 7]\n",
      "\n",
      "1 2 3\n",
      "3 4 5\n",
      "5 6 7\n"
     ]
    }
   ],
   "source": [
    "list2 = [[1,2,3],[3,4,5],[5,6,7]]\n",
    "for i in list2:  #-------------------리스트를 담아서 출력해보자.\n",
    "    print(i)\n",
    "print()\n",
    "\n",
    "for i,j,k in list2:  #----------------리스트를 담아서 출력해보자. 자바와 달리 이중포문 쓸필요 없다. 단 2차원의 요소만큼 변수 필요\n",
    "    print(i,j,k)"
   ]
  },
  {
   "cell_type": "code",
   "execution_count": 7,
   "id": "1c792338",
   "metadata": {},
   "outputs": [
    {
     "name": "stdout",
     "output_type": "stream",
     "text": [
      "1 2 3\n",
      "4 5 6\n",
      "6 7 8\n",
      "i=1,j=2,k=3\n",
      "i=4,j=5,k=6\n",
      "i=6,j=7,k=8\n",
      "a\n",
      "b\n"
     ]
    }
   ],
   "source": [
    "a=[1,2,3]\n",
    "b=[4,5,6]\n",
    "c=[6,7,8]\n",
    "for i,j,k in a,b,c :\n",
    "    print(i,j,k)\n",
    "for i,j,k in [a,b,c] :\n",
    "    print(f\"i={i},j={j},k={k}\")\n",
    "for i in 'ab':\n",
    "    print(i)"
   ]
  }
 ],
 "metadata": {
  "kernelspec": {
   "display_name": "Python 3",
   "language": "python",
   "name": "python3"
  },
  "language_info": {
   "codemirror_mode": {
    "name": "ipython",
    "version": 3
   },
   "file_extension": ".py",
   "mimetype": "text/x-python",
   "name": "python",
   "nbconvert_exporter": "python",
   "pygments_lexer": "ipython3",
   "version": "3.8.8"
  }
 },
 "nbformat": 4,
 "nbformat_minor": 5
}
